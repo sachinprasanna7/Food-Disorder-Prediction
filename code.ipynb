{
 "cells": [
  {
   "cell_type": "markdown",
   "metadata": {},
   "source": [
    "# Importing Neccessary Libraries"
   ]
  },
  {
   "cell_type": "code",
   "execution_count": 281,
   "metadata": {},
   "outputs": [
    {
     "name": "stdout",
     "output_type": "stream",
     "text": [
      "WARNING:tensorflow:From c:\\Users\\91900\\AppData\\Local\\Programs\\Python\\Python310\\lib\\site-packages\\keras\\src\\losses.py:2976: The name tf.losses.sparse_softmax_cross_entropy is deprecated. Please use tf.compat.v1.losses.sparse_softmax_cross_entropy instead.\n",
      "\n"
     ]
    }
   ],
   "source": [
    "import os\n",
    "import sys\n",
    "import pandas as pd\n",
    "import numpy as np\n",
    "import matplotlib.pyplot as plt\n",
    "from wordcloud import WordCloud\n",
    "import emoji\n",
    "import re\n",
    "import time\n",
    "import string\n",
    "from googletrans import Translator\n",
    "from deep_translator import GoogleTranslator\n",
    "from gensim.models import KeyedVectors\n",
    "\n",
    "from nltk.corpus import stopwords\n",
    "from nltk.stem import WordNetLemmatizer\n",
    "from nltk.tokenize import word_tokenize\n",
    "from gensim.models import KeyedVectors\n",
    "\n",
    "from sklearn.naive_bayes import MultinomialNB\n",
    "\n",
    "from sklearn.model_selection import train_test_split\n",
    "\n",
    "from sklearn.preprocessing import LabelEncoder\n",
    "\n",
    "from sklearn.metrics import classification_report\n",
    "from sklearn.metrics import confusion_matrix\n",
    "\n",
    "from sklearn.pipeline import Pipeline\n",
    "\n",
    "from sklearn.svm import LinearSVC\n",
    "from sklearn.linear_model import SGDClassifier\n",
    "from sklearn.linear_model import LogisticRegression\n",
    "from sklearn.ensemble import RandomForestClassifier\n",
    "from sklearn.ensemble import GradientBoostingClassifier\n",
    "from sklearn.decomposition import PCA\n",
    "\n",
    "from sklearn.feature_extraction.text import TfidfTransformer\n",
    "from sklearn.feature_extraction.text import CountVectorizer\n",
    "\n",
    "import torch\n",
    "import torch.nn as nn\n",
    "import torch.optim as optim\n",
    "import torch.nn.functional as F\n",
    "from torch.utils.data import Dataset, DataLoader\n",
    "\n",
    "from transformers import BertTokenizer, BertForSequenceClassification, Trainer, TrainingArguments"
   ]
  },
  {
   "cell_type": "markdown",
   "metadata": {},
   "source": [
    "# Setting Data Paths"
   ]
  },
  {
   "cell_type": "code",
   "execution_count": 286,
   "metadata": {},
   "outputs": [],
   "source": [
    "data_path_train = 'Train\\eRisk2023-T3_Subject'\n",
    "no_of_training_instances = 46\n",
    "data_path_test = 'Test\\eRisk2022-T3_Subject'\n",
    "no_of_testing_instances = 28\n",
    "number_of_questions = 22"
   ]
  },
  {
   "cell_type": "markdown",
   "metadata": {},
   "source": [
    "# Data Cleaning Functions"
   ]
  },
  {
   "cell_type": "markdown",
   "metadata": {},
   "source": [
    "1. **Making the name of the Columns Same**"
   ]
  },
  {
   "cell_type": "code",
   "execution_count": 3,
   "metadata": {},
   "outputs": [],
   "source": [
    "def make_coloumns_same(data_path, no_of_instances):\n",
    "\n",
    "    for i in range(1, no_of_instances+1):\n",
    "        df = pd.read_csv(f'{data_path}{i}.csv')\n",
    "        \n",
    "        # If a column is called \"WRITING.TEXT\", rename it to \"WRITING.TEXT.Element:Text\"\n",
    "        if \"WRITING.TEXT\" in df.columns:\n",
    "            df.rename(columns={\"WRITING.TEXT\": \"WRITING.TEXT.Element:Text\"}, inplace=True)\n",
    "            df.to_csv(f'{data_path}{i}.csv', index=False)\n",
    "        else:\n",
    "            continue"
   ]
  },
  {
   "cell_type": "markdown",
   "metadata": {},
   "source": [
    "2. **Following Data Cleaning operations are performed:**\n",
    "\n",
    "\n",
    "    1. Remove the trailing b\" and the ending \"\n",
    "    2. Replacing unicode characters with their actual characters\n",
    "    3. Replacing emojis with their text descriptions"
   ]
  },
  {
   "cell_type": "code",
   "execution_count": 4,
   "metadata": {},
   "outputs": [],
   "source": [
    "def data_cleaning(data_path, no_of_instances):\n",
    "\n",
    "    for i in range(1, no_of_instances + 1):\n",
    "\n",
    "        df = pd.read_csv(f'{data_path}{i}.csv')\n",
    "\n",
    "        for index, row in df.iterrows():\n",
    "\n",
    "            text_value = row['WRITING.TEXT.Element:Text']\n",
    "\n",
    "            if isinstance(text_value, str):\n",
    "\n",
    "                if ((text_value[2] == \"'\" or text_value[2] == '\"') and (text_value[-2] == \"'\" or text_value[-2] == '\"') and (text_value[0] == ' ' and text_value[1] == 'b' and text_value[-1] == ' ')):\n",
    "                    df.at[index, 'WRITING.TEXT.Element:Text'] = text_value[3:-2]\n",
    "                    text_value = text_value[3:-2]\n",
    "\n",
    "                # Replace specific substrings\n",
    "                text_value = text_value.replace('\\\\xe2\\\\x80\\\\x99', \"'\")\n",
    "                text_value = text_value.replace('\\\\xe2\\\\x80\\\\x94', \"-\")\n",
    "                text_value = text_value.replace('\\\\n', \" \")\n",
    "\n",
    "                # Define the regular expression pattern to match words starting with \\xf0\\x9f\n",
    "                pattern = r'\\\\xf0\\\\x9f\\S*'\n",
    "                # Replace matched words with a single space\n",
    "                text_value = re.sub(pattern, ' ', text_value)\n",
    "\n",
    "                # Replace emoji with their text description\n",
    "                text_value = emoji.demojize(text_value)\n",
    "                df.at[index, 'WRITING.TEXT.Element:Text'] = text_value\n",
    "                \n",
    "            elif isinstance(text_value, float) and np.isnan(text_value):\n",
    "                # Handle NaN values if needed\n",
    "                pass\n",
    "        \n",
    "        df.to_csv(f'{data_path}{i}.csv', index=False)"
   ]
  },
  {
   "cell_type": "markdown",
   "metadata": {},
   "source": [
    "3. **Making the final DataFrame before applying models to it**\n"
   ]
  },
  {
   "cell_type": "code",
   "execution_count": 284,
   "metadata": {},
   "outputs": [],
   "source": [
    "def make_dataframe(data_path, no_of_instances, type):\n",
    "    \n",
    "    data_list = []\n",
    "    no_of_posts_final = []\n",
    "    df_final = pd.DataFrame(columns=['Subject', 'text'])\n",
    "\n",
    "    if type == 'train':\n",
    "        subject_name = 'eRisk2023-T3_Subject'\n",
    "    \n",
    "    else:\n",
    "        subject_name = 'eRisk2022-T3_Subject'\n",
    "\n",
    "    for i in range(1, no_of_instances+1):\n",
    "        # Read the CSV file\n",
    "        df = pd.read_csv(f'{data_path}{i}.csv')\n",
    "        \n",
    "        # Append the data to df\n",
    "        data_to_append = \"\"\n",
    "\n",
    "        no_of_posts = 0\n",
    "\n",
    "        for index, row in df.iterrows():\n",
    "            if isinstance(row['WRITING.TEXT.Element:Text'], str):\n",
    "                data_to_append = data_to_append + row['WRITING.TEXT.Element:Text'] + \" \"\n",
    "                no_of_posts += 1\n",
    "\n",
    "        final_data = {'Subject': f'{subject_name}{i}', 'text': data_to_append}\n",
    "        data_list.append(final_data)\n",
    "        no_of_posts_final.append(no_of_posts)\n",
    "\n",
    "    df_final = pd.DataFrame(data_list)\n",
    "    return df_final, no_of_posts_final"
   ]
  },
  {
   "cell_type": "markdown",
   "metadata": {},
   "source": [
    "# Data Preprocessing Functions"
   ]
  },
  {
   "cell_type": "markdown",
   "metadata": {},
   "source": [
    "1. Lowercasing\n",
    "2. Removing URLs\n",
    "3. Removing Punctuations\n",
    "4. Removing Stopwords\n",
    "5. Lemmatization"
   ]
  },
  {
   "cell_type": "code",
   "execution_count": 95,
   "metadata": {},
   "outputs": [],
   "source": [
    "def remove_urls(text):\n",
    "    url_pattern = re.compile(r'https?://\\S+|www\\.\\S+')\n",
    "    return url_pattern.sub(r'', text)"
   ]
  },
  {
   "cell_type": "code",
   "execution_count": 96,
   "metadata": {},
   "outputs": [],
   "source": [
    "def data_preprocessing(df):\n",
    "\n",
    "    for index, row in df.iterrows():\n",
    "        text_value = row['text']\n",
    "\n",
    "            # lowercasing\n",
    "        text_value = text_value.lower()\n",
    "\n",
    "            # Remove URLs\n",
    "        text_value = remove_urls(text_value)\n",
    "\n",
    "            # Remove punctuation\n",
    "        text_value = re.sub(r'[^\\w\\s]', '', text_value)\n",
    "\n",
    "            # remove stopwords\n",
    "        stop_words = set(stopwords.words('english'))\n",
    "        text_value = ' '.join([word for word in text_value.split() if word not in stop_words])\n",
    "\n",
    "            # lemmatization\n",
    "        lemmatizer = WordNetLemmatizer()\n",
    "        text_value = ' '.join([lemmatizer.lemmatize(word) for word in text_value.split()])\n",
    "            \n",
    "            # store the cleaned text\n",
    "        df.at[index, 'text'] = text_value\n",
    "\n",
    "    return df"
   ]
  },
  {
   "cell_type": "code",
   "execution_count": 97,
   "metadata": {},
   "outputs": [],
   "source": [
    "def data_preprocessing_question(df):\n",
    "\n",
    "    for index, row in df.iterrows():\n",
    "        text_value = row['question']\n",
    "\n",
    "            # lowercasing\n",
    "        text_value = text_value.lower()\n",
    "\n",
    "            # Remove URLs\n",
    "        text_value = remove_urls(text_value)\n",
    "\n",
    "            # Remove punctuation\n",
    "        text_value = re.sub(r'[^\\w\\s]', '', text_value)\n",
    "\n",
    "            # remove stopwords\n",
    "        stop_words = set(stopwords.words('english'))\n",
    "        text_value = ' '.join([word for word in text_value.split() if word not in stop_words])\n",
    "\n",
    "            # lemmatization\n",
    "        lemmatizer = WordNetLemmatizer()\n",
    "        text_value = ' '.join([lemmatizer.lemmatize(word) for word in text_value.split()])\n",
    "            \n",
    "            # store the cleaned text\n",
    "        df.at[index, 'question'] = text_value\n",
    "\n",
    "    return df"
   ]
  },
  {
   "cell_type": "code",
   "execution_count": 98,
   "metadata": {},
   "outputs": [],
   "source": [
    "def data_preprocessing_backtranslate(df):\n",
    "\n",
    "    for index, row in df.iterrows():\n",
    "        text_value = row['backtranslated']\n",
    "\n",
    "            # lowercasing\n",
    "        text_value = text_value.lower()\n",
    "\n",
    "            # Remove URLs\n",
    "        text_value = remove_urls(text_value)\n",
    "\n",
    "            # Remove punctuation\n",
    "        text_value = re.sub(r'[^\\w\\s]', '', text_value)\n",
    "\n",
    "            # remove stopwords\n",
    "        stop_words = set(stopwords.words('english'))\n",
    "        text_value = ' '.join([word for word in text_value.split() if word not in stop_words])\n",
    "\n",
    "            # lemmatization\n",
    "        lemmatizer = WordNetLemmatizer()\n",
    "        text_value = ' '.join([lemmatizer.lemmatize(word) for word in text_value.split()])\n",
    "            \n",
    "            # store the cleaned text\n",
    "        df.at[index, 'backtranslated'] = text_value\n",
    "\n",
    "    return df"
   ]
  },
  {
   "cell_type": "markdown",
   "metadata": {},
   "source": [
    "# Storing all the labels in one Pandas DataFrame"
   ]
  },
  {
   "cell_type": "code",
   "execution_count": 169,
   "metadata": {},
   "outputs": [],
   "source": [
    "def extract_labels(type):\n",
    "\n",
    "    if type == 'train':\n",
    "\n",
    "        label_list = []\n",
    "        \n",
    "        with open('golden-truth_eRisk2023_T3.txt', 'r') as file:\n",
    "            for line in file:\n",
    "                # go till the first space or tab is found\n",
    "                index = 0\n",
    "                while line[index] != ' ' and line[index] != '\\t':\n",
    "                    index += 1\n",
    "\n",
    "                temp_list = []\n",
    "                total_questions = 0\n",
    "\n",
    "                # there are 22 questions, and each have an integer value separated by a space. store all these values sequentially in temp_list\n",
    "                for i in range(22):\n",
    "                    index += 1\n",
    "                    while (line[index] == ' ' or line[index] == '\\t'):\n",
    "                        index += 1\n",
    "                    temp_list.append(int(line[index]))\n",
    "                    total_questions += 1\n",
    "\n",
    "                label_list.append(temp_list)\n",
    "\n",
    "    else:\n",
    "\n",
    "        label_list = []\n",
    "        \n",
    "        with open('ground-truth_eRisk2022_T3.txt', 'r') as file:\n",
    "            for line in file:\n",
    "                # go till the first space or tab is found\n",
    "                index = 0\n",
    "                while line[index] != ' ' and line[index] != '\\t':\n",
    "                    index += 1\n",
    "\n",
    "                temp_list = []\n",
    "                total_questions = 0\n",
    "\n",
    "                # there are 22 questions, and each have an integer value separated by a space. store all these values sequentially in temp_list\n",
    "                for i in range(22):\n",
    "                    index += 1\n",
    "                    while (line[index] == ' ' or line[index] == '\\t'):\n",
    "                        index += 1\n",
    "                    temp_list.append(int(line[index]))\n",
    "                    total_questions += 1\n",
    "\n",
    "                label_list.append(temp_list)\n",
    "\n",
    "    return label_list"
   ]
  },
  {
   "cell_type": "code",
   "execution_count": 170,
   "metadata": {},
   "outputs": [],
   "source": [
    "labels_train = extract_labels('train')\n",
    "labels_test = extract_labels('test')"
   ]
  },
  {
   "cell_type": "markdown",
   "metadata": {},
   "source": [
    "# Defining the Accuracy Metrics"
   ]
  },
  {
   "cell_type": "code",
   "execution_count": 153,
   "metadata": {},
   "outputs": [],
   "source": [
    "def mean_zero_one_error(y_true, y_pred):\n",
    "\n",
    "    individual_errors = []\n",
    "\n",
    "    for i in range(len(y_true)):\n",
    "        no_of_misclassifications = 0\n",
    "        \n",
    "        for j in range(len(y_true[i])):\n",
    "            if y_true[i][j] != y_pred[i][j]:\n",
    "                no_of_misclassifications += 1\n",
    "\n",
    "        individual_errors.append(no_of_misclassifications/22.0)\n",
    "\n",
    "    return np.mean(individual_errors)"
   ]
  },
  {
   "cell_type": "code",
   "execution_count": 154,
   "metadata": {},
   "outputs": [],
   "source": [
    "def mean_absolute_error(y_true, y_pred):\n",
    "\n",
    "    individual_errors = []\n",
    "\n",
    "    for i in range(len(y_true)):\n",
    "        total_error = 0\n",
    "        \n",
    "        for j in range(len(y_true[i])):\n",
    "            total_error += abs(y_true[i][j] - y_pred[i][j])\n",
    "            \n",
    "        individual_errors.append(total_error/22.0)\n",
    "\n",
    "    return np.mean(individual_errors)"
   ]
  },
  {
   "cell_type": "code",
   "execution_count": 155,
   "metadata": {},
   "outputs": [],
   "source": [
    "def macroaveraged_mean_absolute_error(y_true, y_pred):\n",
    "\n",
    "    individual_errors = []\n",
    "\n",
    "    for i in range(len(y_true)):\n",
    "        total_error = [0, 0, 0, 0, 0, 0, 0]\n",
    "        total_points = [0, 0, 0, 0, 0, 0, 0]\n",
    "        \n",
    "        for j in range(len(y_true[i])):\n",
    "            total_error[y_true[i][j]] += abs(y_true[i][j] - y_pred[i][j])\n",
    "            total_points[y_true[i][j]] += 1\n",
    "\n",
    "        final_error = 0\n",
    "\n",
    "        for k in range(7):\n",
    "            if total_points[k] != 0:\n",
    "                final_error += total_error[k]/(total_points[k]*1.0)\n",
    "        \n",
    "        individual_errors.append(final_error/7.0)\n",
    "\n",
    "    return np.mean(individual_errors)"
   ]
  },
  {
   "cell_type": "code",
   "execution_count": 156,
   "metadata": {},
   "outputs": [],
   "source": [
    "def restrained_subscale(y_true, y_pred):\n",
    "    \n",
    "    indices = [0,1,2,3,4]\n",
    "    total_error = 0\n",
    "\n",
    "    for i in range(len(y_true)):\n",
    "\n",
    "        system_score = 0\n",
    "        real_score = 0\n",
    "\n",
    "        for j in indices:\n",
    "            system_score += y_pred[i][j]\n",
    "            real_score += y_true[i][j]\n",
    "        \n",
    "        system_score = system_score/(len(indices)*1.0)\n",
    "        real_score = real_score/(len(indices)*1.0)\n",
    "\n",
    "        total_error += (system_score - real_score)**2\n",
    "\n",
    "    total_error = total_error/(len(y_true)*1.0)\n",
    "    total_error = np.sqrt(total_error)\n",
    "\n",
    "    return total_error\n",
    "    "
   ]
  },
  {
   "cell_type": "code",
   "execution_count": 157,
   "metadata": {},
   "outputs": [],
   "source": [
    "def eating_concern_subscale(y_true, y_pred):\n",
    "    \n",
    "    indices = [6,8,12,13,14]\n",
    "    total_error = 0\n",
    "\n",
    "    for i in range(len(y_true)):\n",
    "\n",
    "        system_score = 0\n",
    "        real_score = 0\n",
    "\n",
    "        for j in indices:\n",
    "            system_score += y_pred[i][j]\n",
    "            real_score += y_true[i][j]\n",
    "        \n",
    "        system_score = system_score/(len(indices)*1.0)\n",
    "        real_score = real_score/(len(indices)*1.0)\n",
    "\n",
    "        total_error += (system_score - real_score)**2\n",
    "\n",
    "    total_error = total_error/(len(y_true)*1.0)\n",
    "    total_error = np.sqrt(total_error)\n",
    "\n",
    "    return total_error"
   ]
  },
  {
   "cell_type": "code",
   "execution_count": 158,
   "metadata": {},
   "outputs": [],
   "source": [
    "def shape_concern_subscale(y_true, y_pred):\n",
    "    \n",
    "    indices = [5,7,9,10,16,19,20,21]\n",
    "    total_error = 0\n",
    "\n",
    "    for i in range(len(y_true)):\n",
    "\n",
    "        system_score = 0\n",
    "        real_score = 0\n",
    "\n",
    "        for j in indices:\n",
    "            system_score += y_pred[i][j]\n",
    "            real_score += y_true[i][j]\n",
    "        \n",
    "        system_score = system_score/(len(indices)*1.0)\n",
    "        real_score = real_score/(len(indices)*1.0)\n",
    "\n",
    "        total_error += (system_score - real_score)**2\n",
    "\n",
    "    total_error = total_error/(len(y_true)*1.0)\n",
    "    total_error = np.sqrt(total_error)\n",
    "\n",
    "    return total_error"
   ]
  },
  {
   "cell_type": "code",
   "execution_count": 159,
   "metadata": {},
   "outputs": [],
   "source": [
    "def weight_concern_subscale(y_true, y_pred):\n",
    "\n",
    "    indices = [7,11,15,17,18]\n",
    "    total_error = 0\n",
    "\n",
    "    for i in range(len(y_true)):\n",
    "\n",
    "        system_score = 0\n",
    "        real_score = 0\n",
    "\n",
    "        for j in indices:\n",
    "            system_score += y_pred[i][j]\n",
    "            real_score += y_true[i][j]\n",
    "        \n",
    "        system_score = system_score/(len(indices)*1.0)\n",
    "        real_score = real_score/(len(indices)*1.0)\n",
    "\n",
    "        total_error += (system_score - real_score)**2\n",
    "\n",
    "    total_error = total_error/(len(y_true)*1.0)\n",
    "    total_error = np.sqrt(total_error)\n",
    "\n",
    "    return total_error"
   ]
  },
  {
   "cell_type": "code",
   "execution_count": 160,
   "metadata": {},
   "outputs": [],
   "source": [
    "def global_ED(y_true, y_pred):\n",
    "\n",
    "    indices_r = [0,1,2,3,4]\n",
    "    indices_e = [6,8,12,13,14]\n",
    "    indices_s = [5,7,9,10,16,19,20,21]\n",
    "    indices_w = [7,11,15,17,18]\n",
    "\n",
    "    size_lists = [5,5,8,5]\n",
    "\n",
    "    total_error = 0\n",
    "\n",
    "    for i in range(len(y_true)):\n",
    "\n",
    "        system_score = [0, 0, 0, 0]\n",
    "        real_score = [0, 0, 0, 0]\n",
    "        total_error_system = 0\n",
    "        total_error_real = 0\n",
    "\n",
    "        for j in indices_r:\n",
    "            system_score[0] += y_pred[i][j]\n",
    "            real_score[0] += y_true[i][j]\n",
    "        \n",
    "        for j in indices_e:\n",
    "            system_score[1] += y_pred[i][j]\n",
    "            real_score[1] += y_true[i][j]\n",
    "        \n",
    "        for j in indices_s:\n",
    "            system_score[2] += y_pred[i][j]\n",
    "            real_score[2] += y_true[i][j]\n",
    "        \n",
    "        for j in indices_w:\n",
    "            system_score[3] += y_pred[i][j]\n",
    "            real_score[3] += y_true[i][j]\n",
    "\n",
    "        for k in range(4):\n",
    "            system_score[k] = system_score[k]/(size_lists[k]*1.0)\n",
    "            real_score[k] = real_score[k]/(size_lists[k]*1.0)\n",
    "\n",
    "            total_error_system += system_score[k]\n",
    "            total_error_real += real_score[k]\n",
    "        \n",
    "        total_error_system = total_error_system/(4.0)\n",
    "        total_error_real = total_error_real/(4.0)\n",
    "\n",
    "        total_error += (total_error_system - total_error_real)**2\n",
    "\n",
    "    total_error = total_error/(len(y_true)*1.0)\n",
    "    total_error = np.sqrt(total_error)\n",
    "\n",
    "    return total_error"
   ]
  },
  {
   "cell_type": "code",
   "execution_count": 161,
   "metadata": {},
   "outputs": [],
   "source": [
    "def find_all_metrics(y_true, y_pred):\n",
    "\n",
    "    print(\"Mean Zero-One Error: \", mean_zero_one_error(y_true, y_pred))\n",
    "    print(\"Mean Absolute Error: \", mean_absolute_error(y_true, y_pred))\n",
    "    print(\"Macroaveraged Mean Absolute Error: \", macroaveraged_mean_absolute_error(y_true, y_pred))\n",
    "    print(\"Restrained Subscale: \", restrained_subscale(y_true, y_pred))\n",
    "    print(\"Eating Concern Subscale: \", eating_concern_subscale(y_true, y_pred))\n",
    "    print(\"Shape Concern Subscale: \", shape_concern_subscale(y_true, y_pred))\n",
    "    print(\"Weight Concern Subscale: \", weight_concern_subscale(y_true, y_pred))\n",
    "    print(\"Global ED: \", global_ED(y_true, y_pred))"
   ]
  },
  {
   "cell_type": "markdown",
   "metadata": {},
   "source": [
    "# Machine Learning Models"
   ]
  },
  {
   "cell_type": "markdown",
   "metadata": {},
   "source": [
    "## Multinomial Naive Bayes"
   ]
  },
  {
   "cell_type": "code",
   "execution_count": 48,
   "metadata": {},
   "outputs": [],
   "source": [
    "from sklearn.naive_bayes import MultinomialNB\n",
    "from sklearn.pipeline import Pipeline\n",
    "from sklearn.feature_extraction.text import TfidfTransformer\n",
    "from sklearn.feature_extraction.text import CountVectorizer\n",
    "\n",
    "\n",
    "def multinomial_naves_bayes(question_number, labels_train, labels_test, df_train, df_test):\n",
    "\n",
    "    nb = Pipeline([('vect', CountVectorizer()),\n",
    "               ('tfidf', TfidfTransformer()),\n",
    "               ('clf', MultinomialNB()),\n",
    "              ])\n",
    "    \n",
    "    # Train the model\n",
    "    X_train = df_train['text']\n",
    "    y_train = []\n",
    "\n",
    "    for i in range(len(labels_train)):\n",
    "        y_train.append(labels_train[i][question_number])\n",
    "\n",
    "    nb.fit(X_train, y_train)\n",
    "\n",
    "    # Test the model\n",
    "    X_test = df_test['text']\n",
    "    y_pred = nb.predict(X_test)\n",
    "\n",
    "    return y_pred"
   ]
  },
  {
   "cell_type": "markdown",
   "metadata": {},
   "source": [
    "## Linear Support Vector Machine"
   ]
  },
  {
   "cell_type": "code",
   "execution_count": 77,
   "metadata": {},
   "outputs": [],
   "source": [
    "from sklearn.linear_model import SGDClassifier\n",
    "\n",
    "def linear_SVM(question_number, labels_train, labels_test, df_train, df_test):\n",
    "\n",
    "    sgd = Pipeline([('vect', CountVectorizer()),\n",
    "                ('tfidf', TfidfTransformer()),\n",
    "                ('clf', SGDClassifier(loss='hinge', penalty='l2',alpha=1e-3, random_state=42, max_iter=5, tol=None)),\n",
    "               ])\n",
    "\n",
    "    # Train the model\n",
    "    X_train = df_train['text']\n",
    "    y_train = []\n",
    "\n",
    "    for i in range(len(labels_train)):\n",
    "        y_train.append(labels_train[i][question_number])\n",
    "    \n",
    "    sgd.fit(X_train, y_train)\n",
    "\n",
    "    # Test the model\n",
    "    X_test = df_test['text']\n",
    "    y_pred = sgd.predict(X_test)\n",
    "\n",
    "    return y_pred"
   ]
  },
  {
   "cell_type": "markdown",
   "metadata": {},
   "source": [
    "## Logistic Regression"
   ]
  },
  {
   "cell_type": "code",
   "execution_count": 83,
   "metadata": {},
   "outputs": [],
   "source": [
    "from sklearn.linear_model import LogisticRegression\n",
    "\n",
    "def logistic_regression(question_number, labels_train, labels_test, df_train, df_test):\n",
    "\n",
    "    logreg = Pipeline([('vect', CountVectorizer()),\n",
    "                ('tfidf', TfidfTransformer()),\n",
    "                ('clf', LogisticRegression(n_jobs=1, C=1e5)),\n",
    "               ])\n",
    "\n",
    "    # Train the model\n",
    "    X_train = df_train['text']\n",
    "    y_train = []\n",
    "\n",
    "    for i in range(len(labels_train)):\n",
    "        y_train.append(labels_train[i][question_number])\n",
    "    \n",
    "    logreg.fit(X_train, y_train)\n",
    "\n",
    "    # Test the model\n",
    "    X_test = df_test['text']\n",
    "    y_pred = logreg.predict(X_test)\n",
    "\n",
    "    return y_pred"
   ]
  },
  {
   "cell_type": "markdown",
   "metadata": {},
   "source": [
    "## Neural Network"
   ]
  },
  {
   "cell_type": "code",
   "execution_count": 108,
   "metadata": {},
   "outputs": [],
   "source": [
    "import torch\n",
    "import torch.nn as nn\n",
    "import torch.optim as optim\n",
    "import torch.nn.functional as F\n",
    "from torch.utils.data import Dataset, DataLoader\n",
    "from sklearn.preprocessing import LabelEncoder\n",
    "from sklearn.metrics import confusion_matrix\n",
    "from sklearn.feature_extraction.text import CountVectorizer"
   ]
  },
  {
   "cell_type": "code",
   "execution_count": 135,
   "metadata": {},
   "outputs": [
    {
     "name": "stdout",
     "output_type": "stream",
     "text": [
      "NeuralNetwork(\n",
      "  (fc1): Linear(in_features=1000, out_features=512, bias=True)\n",
      "  (fc2): Linear(in_features=512, out_features=7, bias=True)\n",
      ")\n"
     ]
    }
   ],
   "source": [
    "class CustomDataset(Dataset):\n",
    "    def __init__(self, X, y, max_words):\n",
    "        self.X = X\n",
    "        self.y = y\n",
    "        self.max_words = max_words\n",
    "        self.vectorizer = CountVectorizer(max_features=max_words)\n",
    "        self.vectorizer.fit(X)  # Fit the vectorizer with training data\n",
    "\n",
    "    def __len__(self):\n",
    "        return len(self.X)\n",
    "\n",
    "    def __getitem__(self, idx):\n",
    "        text = self.X[idx]\n",
    "        label = self.y[idx]\n",
    "        text_vectorized = self.vectorizer.transform([text]).toarray().squeeze()\n",
    "        return text_vectorized, label\n",
    "\n",
    "class NeuralNetwork(nn.Module):\n",
    "    def __init__(self, input_size, num_classes):\n",
    "        super(NeuralNetwork, self).__init__()\n",
    "        self.fc1 = nn.Linear(input_size, 512)\n",
    "        self.fc2 = nn.Linear(512, num_classes)\n",
    "\n",
    "    def forward(self, x):\n",
    "        x = F.relu(self.fc1(x))\n",
    "        x = F.dropout(x, p=0.5, training=self.training)\n",
    "        x = self.fc2(x)\n",
    "        return F.log_softmax(x, dim=1)\n",
    "\n",
    "def neural_network(question_number, labels_train, labels_test, df_train, df_test):\n",
    "    X_train = df_train['text']\n",
    "    y_train = [labels_train[i][question_number] for i in range(len(labels_train))]\n",
    "    X_test = df_test['text']\n",
    "    y_test = [labels_test[i][question_number] for i in range(len(labels_test))]\n",
    "\n",
    "    max_words = 1000\n",
    "    dataset_train = CustomDataset(X_train, y_train, max_words)\n",
    "    dataset_test = CustomDataset(X_test, y_test, max_words)\n",
    "\n",
    "    train_loader = DataLoader(dataset_train, batch_size=32, shuffle=True)\n",
    "    test_loader = DataLoader(dataset_test, batch_size=32, shuffle=False)\n",
    "\n",
    "    input_size = max_words\n",
    "    num_classes = 7\n",
    "\n",
    "    model = NeuralNetwork(input_size, num_classes)\n",
    "    optimizer = optim.Adam(model.parameters())\n",
    "    criterion = nn.CrossEntropyLoss()\n",
    "\n",
    "    epochs = 5\n",
    "    model.train()\n",
    "    for epoch in range(epochs):\n",
    "        for inputs, labels in train_loader:\n",
    "            optimizer.zero_grad()\n",
    "            outputs = model(inputs.float())\n",
    "            loss = criterion(outputs, labels)\n",
    "            loss.backward()\n",
    "            optimizer.step()\n",
    "\n",
    "    model.eval()\n",
    "    predictions = []\n",
    "    with torch.no_grad():\n",
    "        for inputs, _ in test_loader:\n",
    "            outputs = model(inputs.float())\n",
    "            _, predicted = torch.max(outputs, 1)\n",
    "            predictions.extend(predicted.tolist())\n",
    "\n",
    "    return predictions\n",
    "\n",
    "sample_nn = NeuralNetwork(1000, 7)\n",
    "print(sample_nn)"
   ]
  },
  {
   "cell_type": "markdown",
   "metadata": {},
   "source": [
    "# Preprocessing Training Data"
   ]
  },
  {
   "cell_type": "code",
   "execution_count": 287,
   "metadata": {},
   "outputs": [],
   "source": [
    "df, no_of_posts = make_dataframe(data_path_train, no_of_training_instances, 'train')"
   ]
  },
  {
   "cell_type": "code",
   "execution_count": 10,
   "metadata": {},
   "outputs": [
    {
     "ename": "NameError",
     "evalue": "name 'make_coloumns_same' is not defined",
     "output_type": "error",
     "traceback": [
      "\u001b[1;31m---------------------------------------------------------------------------\u001b[0m",
      "\u001b[1;31mNameError\u001b[0m                                 Traceback (most recent call last)",
      "Cell \u001b[1;32mIn[10], line 1\u001b[0m\n\u001b[1;32m----> 1\u001b[0m \u001b[43mmake_coloumns_same\u001b[49m(data_path_train, no_of_training_instances)\n\u001b[0;32m      2\u001b[0m data_cleaning(data_path_train, no_of_training_instances)\n\u001b[0;32m      3\u001b[0m df_train \u001b[38;5;241m=\u001b[39m make_dataframe(data_path_train, no_of_training_instances, \u001b[38;5;124m'\u001b[39m\u001b[38;5;124mtrain\u001b[39m\u001b[38;5;124m'\u001b[39m)\n",
      "\u001b[1;31mNameError\u001b[0m: name 'make_coloumns_same' is not defined"
     ]
    }
   ],
   "source": [
    "make_coloumns_same(data_path_train, no_of_training_instances)\n",
    "data_cleaning(data_path_train, no_of_training_instances)\n",
    "df_train = make_dataframe(data_path_train, no_of_training_instances, 'train')\n",
    "df_train = data_preprocessing(df_train)\n",
    "\n",
    "df_train.head()"
   ]
  },
  {
   "cell_type": "code",
   "execution_count": 36,
   "metadata": {},
   "outputs": [
    {
     "data": {
      "text/html": [
       "<div>\n",
       "<style scoped>\n",
       "    .dataframe tbody tr th:only-of-type {\n",
       "        vertical-align: middle;\n",
       "    }\n",
       "\n",
       "    .dataframe tbody tr th {\n",
       "        vertical-align: top;\n",
       "    }\n",
       "\n",
       "    .dataframe thead th {\n",
       "        text-align: right;\n",
       "    }\n",
       "</style>\n",
       "<table border=\"1\" class=\"dataframe\">\n",
       "  <thead>\n",
       "    <tr style=\"text-align: right;\">\n",
       "      <th></th>\n",
       "      <th>Subject</th>\n",
       "      <th>text</th>\n",
       "    </tr>\n",
       "  </thead>\n",
       "  <tbody>\n",
       "    <tr>\n",
       "      <th>0</th>\n",
       "      <td>eRisk2023-T3_Subject1</td>\n",
       "      <td>idk mate since 1796 using vaccine still waitin...</td>\n",
       "    </tr>\n",
       "    <tr>\n",
       "      <th>1</th>\n",
       "      <td>eRisk2023-T3_Subject2</td>\n",
       "      <td>loved ideaconcept feel like film left many thi...</td>\n",
       "    </tr>\n",
       "    <tr>\n",
       "      <th>2</th>\n",
       "      <td>eRisk2023-T3_Subject3</td>\n",
       "      <td>dont need certification start working h motor ...</td>\n",
       "    </tr>\n",
       "    <tr>\n",
       "      <th>3</th>\n",
       "      <td>eRisk2023-T3_Subject4</td>\n",
       "      <td>leangains method rept fitness workout tracker ...</td>\n",
       "    </tr>\n",
       "    <tr>\n",
       "      <th>4</th>\n",
       "      <td>eRisk2023-T3_Subject5</td>\n",
       "      <td>think opinion system led anxiety havent change...</td>\n",
       "    </tr>\n",
       "    <tr>\n",
       "      <th>5</th>\n",
       "      <td>eRisk2023-T3_Subject6</td>\n",
       "      <td>volunteer waited late 30 family took much ther...</td>\n",
       "    </tr>\n",
       "    <tr>\n",
       "      <th>6</th>\n",
       "      <td>eRisk2023-T3_Subject7</td>\n",
       "      <td>find self thinking food lot wanting eat etc ac...</td>\n",
       "    </tr>\n",
       "    <tr>\n",
       "      <th>7</th>\n",
       "      <td>eRisk2023-T3_Subject8</td>\n",
       "      <td>wale country catalonia 3xe2x98xbaxefxb8x8f def...</td>\n",
       "    </tr>\n",
       "    <tr>\n",
       "      <th>8</th>\n",
       "      <td>eRisk2023-T3_Subject9</td>\n",
       "      <td>function word everything task content word muc...</td>\n",
       "    </tr>\n",
       "    <tr>\n",
       "      <th>9</th>\n",
       "      <td>eRisk2023-T3_Subject10</td>\n",
       "      <td>em polypharmacy much 80yo gramma taking idea s...</td>\n",
       "    </tr>\n",
       "    <tr>\n",
       "      <th>10</th>\n",
       "      <td>eRisk2023-T3_Subject11</td>\n",
       "      <td>dont execute enemy kill didnt like hk first fe...</td>\n",
       "    </tr>\n",
       "    <tr>\n",
       "      <th>11</th>\n",
       "      <td>eRisk2023-T3_Subject12</td>\n",
       "      <td>id say soap isnt best description taste like t...</td>\n",
       "    </tr>\n",
       "    <tr>\n",
       "      <th>12</th>\n",
       "      <td>eRisk2023-T3_Subject13</td>\n",
       "      <td>done done heart emoticon go conquer ca creativ...</td>\n",
       "    </tr>\n",
       "    <tr>\n",
       "      <th>13</th>\n",
       "      <td>eRisk2023-T3_Subject14</td>\n",
       "      <td>yeah mainly eat evening night dont eat bed get...</td>\n",
       "    </tr>\n",
       "    <tr>\n",
       "      <th>14</th>\n",
       "      <td>eRisk2023-T3_Subject15</td>\n",
       "      <td>agreed lol latter ill manifest mermaid orgy fr...</td>\n",
       "    </tr>\n",
       "    <tr>\n",
       "      <th>15</th>\n",
       "      <td>eRisk2023-T3_Subject16</td>\n",
       "      <td>looking one ga ticket message youre trying get...</td>\n",
       "    </tr>\n",
       "    <tr>\n",
       "      <th>16</th>\n",
       "      <td>eRisk2023-T3_Subject17</td>\n",
       "      <td>dont experience gender envy actually see gende...</td>\n",
       "    </tr>\n",
       "    <tr>\n",
       "      <th>17</th>\n",
       "      <td>eRisk2023-T3_Subject18</td>\n",
       "      <td>thank thats nice say wow thanks awww thank muc...</td>\n",
       "    </tr>\n",
       "    <tr>\n",
       "      <th>18</th>\n",
       "      <td>eRisk2023-T3_Subject19</td>\n",
       "      <td>read comment section lot comment posted autist...</td>\n",
       "    </tr>\n",
       "    <tr>\n",
       "      <th>19</th>\n",
       "      <td>eRisk2023-T3_Subject20</td>\n",
       "      <td>also likely relative currency valuation import...</td>\n",
       "    </tr>\n",
       "    <tr>\n",
       "      <th>20</th>\n",
       "      <td>eRisk2023-T3_Subject21</td>\n",
       "      <td>might bit track post someone explain see much ...</td>\n",
       "    </tr>\n",
       "    <tr>\n",
       "      <th>21</th>\n",
       "      <td>eRisk2023-T3_Subject22</td>\n",
       "      <td>technically yes much im sure would make much d...</td>\n",
       "    </tr>\n",
       "    <tr>\n",
       "      <th>22</th>\n",
       "      <td>eRisk2023-T3_Subject23</td>\n",
       "      <td>geoguessrcom case guy win second racist three ...</td>\n",
       "    </tr>\n",
       "    <tr>\n",
       "      <th>23</th>\n",
       "      <td>eRisk2023-T3_Subject24</td>\n",
       "      <td>use alcohol learnt somewhere alcohol would enh...</td>\n",
       "    </tr>\n",
       "    <tr>\n",
       "      <th>24</th>\n",
       "      <td>eRisk2023-T3_Subject25</td>\n",
       "      <td>kindly rest first world rest first world gun p...</td>\n",
       "    </tr>\n",
       "    <tr>\n",
       "      <th>25</th>\n",
       "      <td>eRisk2023-T3_Subject26</td>\n",
       "      <td>anti matter negative mass negative energy anti...</td>\n",
       "    </tr>\n",
       "    <tr>\n",
       "      <th>26</th>\n",
       "      <td>eRisk2023-T3_Subject27</td>\n",
       "      <td>think thing would fitting prequel gertrude ger...</td>\n",
       "    </tr>\n",
       "    <tr>\n",
       "      <th>27</th>\n",
       "      <td>eRisk2023-T3_Subject28</td>\n",
       "      <td>get never lost weight always feeling empty sto...</td>\n",
       "    </tr>\n",
       "    <tr>\n",
       "      <th>28</th>\n",
       "      <td>eRisk2023-T3_Subject29</td>\n",
       "      <td>think personal experience anxiety caused lot c...</td>\n",
       "    </tr>\n",
       "    <tr>\n",
       "      <th>29</th>\n",
       "      <td>eRisk2023-T3_Subject30</td>\n",
       "      <td>jessefestus love new absolute favourite fragra...</td>\n",
       "    </tr>\n",
       "    <tr>\n",
       "      <th>30</th>\n",
       "      <td>eRisk2023-T3_Subject31</td>\n",
       "      <td>yeah ok thanks still dark give one worst as va...</td>\n",
       "    </tr>\n",
       "    <tr>\n",
       "      <th>31</th>\n",
       "      <td>eRisk2023-T3_Subject32</td>\n",
       "      <td>listen feel however want random post russian f...</td>\n",
       "    </tr>\n",
       "    <tr>\n",
       "      <th>32</th>\n",
       "      <td>eRisk2023-T3_Subject33</td>\n",
       "      <td>cramming tooo add study gc cram together count...</td>\n",
       "    </tr>\n",
       "    <tr>\n",
       "      <th>33</th>\n",
       "      <td>eRisk2023-T3_Subject34</td>\n",
       "      <td>beautiful hair maam actually impressed beauty ...</td>\n",
       "    </tr>\n",
       "    <tr>\n",
       "      <th>34</th>\n",
       "      <td>eRisk2023-T3_Subject35</td>\n",
       "      <td>think he curious youre phone show bit trust do...</td>\n",
       "    </tr>\n",
       "    <tr>\n",
       "      <th>35</th>\n",
       "      <td>eRisk2023-T3_Subject36</td>\n",
       "      <td>dont get caption trying say power move ixcaxb5...</td>\n",
       "    </tr>\n",
       "    <tr>\n",
       "      <th>36</th>\n",
       "      <td>eRisk2023-T3_Subject37</td>\n",
       "      <td>moldy geode hehe great mind think alike go fin...</td>\n",
       "    </tr>\n",
       "    <tr>\n",
       "      <th>37</th>\n",
       "      <td>eRisk2023-T3_Subject38</td>\n",
       "      <td>cool looking game far ill sure join community ...</td>\n",
       "    </tr>\n",
       "    <tr>\n",
       "      <th>38</th>\n",
       "      <td>eRisk2023-T3_Subject39</td>\n",
       "      <td>hey thanks ur answer resource thats really hel...</td>\n",
       "    </tr>\n",
       "    <tr>\n",
       "      <th>39</th>\n",
       "      <td>eRisk2023-T3_Subject40</td>\n",
       "      <td>smile love people smile relief lot pressure pe...</td>\n",
       "    </tr>\n",
       "    <tr>\n",
       "      <th>40</th>\n",
       "      <td>eRisk2023-T3_Subject41</td>\n",
       "      <td>id recommend talking parent dont care father s...</td>\n",
       "    </tr>\n",
       "    <tr>\n",
       "      <th>41</th>\n",
       "      <td>eRisk2023-T3_Subject42</td>\n",
       "      <td>joke he commercialised huge number product man...</td>\n",
       "    </tr>\n",
       "    <tr>\n",
       "      <th>42</th>\n",
       "      <td>eRisk2023-T3_Subject43</td>\n",
       "      <td>also infertile nothing jealous like understand...</td>\n",
       "    </tr>\n",
       "    <tr>\n",
       "      <th>43</th>\n",
       "      <td>eRisk2023-T3_Subject44</td>\n",
       "      <td>idea siege ok overwatch suck go play tf2 inste...</td>\n",
       "    </tr>\n",
       "    <tr>\n",
       "      <th>44</th>\n",
       "      <td>eRisk2023-T3_Subject45</td>\n",
       "      <td>salsa pickle enchilada popsicle hummus chalupa...</td>\n",
       "    </tr>\n",
       "    <tr>\n",
       "      <th>45</th>\n",
       "      <td>eRisk2023-T3_Subject46</td>\n",
       "      <td>one mainly come im social setting ive tried lo...</td>\n",
       "    </tr>\n",
       "  </tbody>\n",
       "</table>\n",
       "</div>"
      ],
      "text/plain": [
       "                   Subject                                               text\n",
       "0    eRisk2023-T3_Subject1  idk mate since 1796 using vaccine still waitin...\n",
       "1    eRisk2023-T3_Subject2  loved ideaconcept feel like film left many thi...\n",
       "2    eRisk2023-T3_Subject3  dont need certification start working h motor ...\n",
       "3    eRisk2023-T3_Subject4  leangains method rept fitness workout tracker ...\n",
       "4    eRisk2023-T3_Subject5  think opinion system led anxiety havent change...\n",
       "5    eRisk2023-T3_Subject6  volunteer waited late 30 family took much ther...\n",
       "6    eRisk2023-T3_Subject7  find self thinking food lot wanting eat etc ac...\n",
       "7    eRisk2023-T3_Subject8  wale country catalonia 3xe2x98xbaxefxb8x8f def...\n",
       "8    eRisk2023-T3_Subject9  function word everything task content word muc...\n",
       "9   eRisk2023-T3_Subject10  em polypharmacy much 80yo gramma taking idea s...\n",
       "10  eRisk2023-T3_Subject11  dont execute enemy kill didnt like hk first fe...\n",
       "11  eRisk2023-T3_Subject12  id say soap isnt best description taste like t...\n",
       "12  eRisk2023-T3_Subject13  done done heart emoticon go conquer ca creativ...\n",
       "13  eRisk2023-T3_Subject14  yeah mainly eat evening night dont eat bed get...\n",
       "14  eRisk2023-T3_Subject15  agreed lol latter ill manifest mermaid orgy fr...\n",
       "15  eRisk2023-T3_Subject16  looking one ga ticket message youre trying get...\n",
       "16  eRisk2023-T3_Subject17  dont experience gender envy actually see gende...\n",
       "17  eRisk2023-T3_Subject18  thank thats nice say wow thanks awww thank muc...\n",
       "18  eRisk2023-T3_Subject19  read comment section lot comment posted autist...\n",
       "19  eRisk2023-T3_Subject20  also likely relative currency valuation import...\n",
       "20  eRisk2023-T3_Subject21  might bit track post someone explain see much ...\n",
       "21  eRisk2023-T3_Subject22  technically yes much im sure would make much d...\n",
       "22  eRisk2023-T3_Subject23  geoguessrcom case guy win second racist three ...\n",
       "23  eRisk2023-T3_Subject24  use alcohol learnt somewhere alcohol would enh...\n",
       "24  eRisk2023-T3_Subject25  kindly rest first world rest first world gun p...\n",
       "25  eRisk2023-T3_Subject26  anti matter negative mass negative energy anti...\n",
       "26  eRisk2023-T3_Subject27  think thing would fitting prequel gertrude ger...\n",
       "27  eRisk2023-T3_Subject28  get never lost weight always feeling empty sto...\n",
       "28  eRisk2023-T3_Subject29  think personal experience anxiety caused lot c...\n",
       "29  eRisk2023-T3_Subject30  jessefestus love new absolute favourite fragra...\n",
       "30  eRisk2023-T3_Subject31  yeah ok thanks still dark give one worst as va...\n",
       "31  eRisk2023-T3_Subject32  listen feel however want random post russian f...\n",
       "32  eRisk2023-T3_Subject33  cramming tooo add study gc cram together count...\n",
       "33  eRisk2023-T3_Subject34  beautiful hair maam actually impressed beauty ...\n",
       "34  eRisk2023-T3_Subject35  think he curious youre phone show bit trust do...\n",
       "35  eRisk2023-T3_Subject36  dont get caption trying say power move ixcaxb5...\n",
       "36  eRisk2023-T3_Subject37  moldy geode hehe great mind think alike go fin...\n",
       "37  eRisk2023-T3_Subject38  cool looking game far ill sure join community ...\n",
       "38  eRisk2023-T3_Subject39  hey thanks ur answer resource thats really hel...\n",
       "39  eRisk2023-T3_Subject40  smile love people smile relief lot pressure pe...\n",
       "40  eRisk2023-T3_Subject41  id recommend talking parent dont care father s...\n",
       "41  eRisk2023-T3_Subject42  joke he commercialised huge number product man...\n",
       "42  eRisk2023-T3_Subject43  also infertile nothing jealous like understand...\n",
       "43  eRisk2023-T3_Subject44  idea siege ok overwatch suck go play tf2 inste...\n",
       "44  eRisk2023-T3_Subject45  salsa pickle enchilada popsicle hummus chalupa...\n",
       "45  eRisk2023-T3_Subject46  one mainly come im social setting ive tried lo..."
      ]
     },
     "execution_count": 36,
     "metadata": {},
     "output_type": "execute_result"
    }
   ],
   "source": [
    "df_train"
   ]
  },
  {
   "cell_type": "code",
   "execution_count": 37,
   "metadata": {},
   "outputs": [],
   "source": [
    "df_train.to_csv('train.csv', index=False)"
   ]
  },
  {
   "cell_type": "markdown",
   "metadata": {},
   "source": [
    "# Data Visualisation"
   ]
  },
  {
   "cell_type": "markdown",
   "metadata": {},
   "source": [
    "**Text Length V Instances Plot**"
   ]
  },
  {
   "cell_type": "code",
   "execution_count": 120,
   "metadata": {},
   "outputs": [
    {
     "data": {
      "image/png": "[encoded data removed]",
      "text/plain": [
       "<Figure size 1000x600 with 1 Axes>"
      ]
     },
     "metadata": {},
     "output_type": "display_data"
    }
   ],
   "source": [
    "text_lengths = df_train['text'].apply(len)\n",
    "plt.figure(figsize=(10, 6))\n",
    "# plot a bar chartgraph\n",
    "plt.plot(text_lengths)\n",
    "plt.title('Text Lengths')\n",
    "plt.xlabel('Index')\n",
    "plt.ylabel('Text Length')\n",
    "plt.show()"
   ]
  },
  {
   "cell_type": "markdown",
   "metadata": {},
   "source": [
    "**Number of posts per user plot**"
   ]
  },
  {
   "cell_type": "code",
   "execution_count": 292,
   "metadata": {},
   "outputs": [
    {
     "name": "stdout",
     "output_type": "stream",
     "text": [
      "46\n",
      "Maximum posts: 1210\n",
      "Minimum posts: 5\n",
      "Average posts: 449.5652173913044\n",
      "Median posts: 187.5\n"
     ]
    }
   ],
   "source": [
    "print(len(no_of_posts))\n",
    "# print max, min and average of the no_of_posts list\n",
    "\n",
    "max_posts = max(no_of_posts)\n",
    "min_posts = min(no_of_posts)\n",
    "avg_posts = sum(no_of_posts) / len(no_of_posts)\n",
    "median_posts = sorted(no_of_posts)[len(no_of_posts) // 2] if len(no_of_posts) % 2 != 0 else (sorted(no_of_posts)[len(no_of_posts) // 2 - 1] + sorted(no_of_posts)[len(no_of_posts) // 2]) / 2\n",
    "\n",
    "\n",
    "print(\"Maximum posts:\", max_posts)\n",
    "print(\"Minimum posts:\", min_posts)\n",
    "print(\"Average posts:\", avg_posts)\n",
    "print(\"Median posts:\", median_posts)\n"
   ]
  },
  {
   "cell_type": "code",
   "execution_count": 290,
   "metadata": {},
   "outputs": [
    {
     "data": {
      "image/png": "[encoded data removed]",
      "text/plain": [
       "<Figure size 1000x600 with 1 Axes>"
      ]
     },
     "metadata": {},
     "output_type": "display_data"
    }
   ],
   "source": [
    "plt.figure(figsize=(10, 6))\n",
    "# plot a bar chartgraph\n",
    "plt.plot(no_of_posts)\n",
    "plt.xlabel('User')\n",
    "plt.ylabel('Number of Posts')\n",
    "plt.show()"
   ]
  },
  {
   "cell_type": "markdown",
   "metadata": {},
   "source": [
    "**Distribution of Text Length**"
   ]
  },
  {
   "cell_type": "code",
   "execution_count": 121,
   "metadata": {},
   "outputs": [
    {
     "data": {
      "image/png": "[encoded data removed]",
      "text/plain": [
       "<Figure size 1000x600 with 1 Axes>"
      ]
     },
     "metadata": {},
     "output_type": "display_data"
    }
   ],
   "source": [
    "text_lengths = df_train['text'].apply(len)\n",
    "\n",
    "# Plotting the distribution\n",
    "plt.figure(figsize=(10, 6))\n",
    "plt.hist(text_lengths, bins=30, color='skyblue', edgecolor='black')\n",
    "plt.title('Distribution of Text Length')\n",
    "plt.xlabel('Text Length')\n",
    "plt.ylabel('Frequency')\n",
    "plt.show()"
   ]
  },
  {
   "cell_type": "markdown",
   "metadata": {},
   "source": [
    "**Most Common N-Grams**"
   ]
  },
  {
   "cell_type": "code",
   "execution_count": 122,
   "metadata": {},
   "outputs": [
    {
     "data": {
      "text/plain": [
       "feel like          543\n",
       "dont know          445\n",
       "eating disorder    403\n",
       "dont want          288\n",
       "dont think         282\n",
       "look like          225\n",
       "sound like         216\n",
       "im sure            202\n",
       "even though        180\n",
       "make sense         153\n",
       "dtype: int64"
      ]
     },
     "execution_count": 122,
     "metadata": {},
     "output_type": "execute_result"
    }
   ],
   "source": [
    "from sklearn.feature_extraction.text import CountVectorizer\n",
    "\n",
    "# Create a CountVectorizer object\n",
    "count_vectorizer = CountVectorizer(ngram_range=(2, 2))\n",
    "\n",
    "# Fit and transform the text data\n",
    "ngram_data = count_vectorizer.fit_transform(df_train['text'])\n",
    "\n",
    "# Store the n-gram data in a DataFrame\n",
    "ngram_df = pd.DataFrame(ngram_data.toarray(), columns=count_vectorizer.get_feature_names_out())\n",
    "\n",
    "# Sum the occurrences of each n-gram\n",
    "ngram_counts = ngram_df.sum()\n",
    "\n",
    "# Sort the n-grams by frequency\n",
    "ngram_counts = ngram_counts.sort_values(ascending=False)\n",
    "\n",
    "# Display the 10 most common n-grams\n",
    "ngram_counts.head(10)"
   ]
  },
  {
   "cell_type": "markdown",
   "metadata": {},
   "source": [
    "**Relevant Words Analysis using Word2Vec**"
   ]
  },
  {
   "cell_type": "code",
   "execution_count": 126,
   "metadata": {},
   "outputs": [
    {
     "name": "stderr",
     "output_type": "stream",
     "text": [
      "[nltk_data] Downloading package punkt to\n",
      "[nltk_data]     C:\\Users\\91900\\AppData\\Roaming\\nltk_data...\n",
      "[nltk_data]   Unzipping tokenizers\\punkt.zip.\n"
     ]
    },
    {
     "name": "stdout",
     "output_type": "stream",
     "text": [
      "Word Embedding for 'food': [ 0.09896016  1.1175162   0.4014102   0.28502992 -0.07558895 -1.1316208\n",
      "  0.3898303   1.9542687  -0.5694077  -0.42560315 -0.452752   -0.72157925\n",
      " -0.01915473  0.25941432  0.21395949 -0.7601462  -0.06205929 -0.9126611\n",
      "  0.12396684 -1.5320469   0.6513112   0.13290778  0.19190112 -0.21886745\n",
      " -0.02676413 -0.30988935 -0.7881518  -0.5179168  -0.10626888  0.16344328\n",
      "  1.0163852   0.58993095  0.3367984  -0.96814126 -0.28230283  0.8406765\n",
      " -0.06022361 -0.3941189  -0.54583406 -1.7474471   0.24584076 -0.9068461\n",
      " -0.40213487  0.23023677  0.7440899  -0.5860494  -0.62801987  0.00581882\n",
      "  0.6883662   0.8939086   0.34958145 -0.6732001  -0.3933038  -0.6010126\n",
      " -0.61504453  0.7607724  -0.09765301  0.04697566 -1.1197114  -0.01455687\n",
      "  0.14677206  0.56860375 -0.45509684 -0.0642701  -1.1386216   0.6442071\n",
      "  0.45447597  0.6963921  -1.0590612   1.0109828  -0.61620593  0.27449298\n",
      "  1.1017183  -0.06006506  0.6166811  -0.15906653  0.26821914 -0.00632291\n",
      " -0.3573404   0.63549906 -0.631846    0.33923295 -1.2306845   1.0166155\n",
      "  0.12208883 -0.2530402   0.0615871   1.0659686   1.3390515   0.560845\n",
      "  0.9573559   0.55982155  0.32472566  0.22272854  1.2365109   1.0782201\n",
      "  0.46132848 -0.6529718  -0.02075708 -0.16122994]\n"
     ]
    }
   ],
   "source": [
    "from gensim.models import Word2Vec\n",
    "import nltk\n",
    "nltk.download('punkt')  # Make sure to have the punkt tokenizer downloaded\n",
    "\n",
    "# Tokenize the sentences\n",
    "tokenized_corpus = [nltk.word_tokenize(sentence.lower()) for sentence in df_train['text']]\n",
    "\n",
    "# Train Word2Vec model\n",
    "model = Word2Vec(sentences=tokenized_corpus, vector_size=100, window=5, min_count=1, workers=4)\n",
    "\n",
    "# Retrieve the word embedding for \"food\"\n",
    "food_embedding = model.wv['food']\n",
    "\n",
    "print(\"Word Embedding for 'food':\", food_embedding)"
   ]
  },
  {
   "cell_type": "code",
   "execution_count": 127,
   "metadata": {},
   "outputs": [
    {
     "name": "stdout",
     "output_type": "stream",
     "text": [
      "Shape of the word embedding: (100,)\n"
     ]
    }
   ],
   "source": [
    "print(\"Shape of the word embedding:\", food_embedding.shape)"
   ]
  },
  {
   "cell_type": "code",
   "execution_count": 131,
   "metadata": {},
   "outputs": [
    {
     "name": "stdout",
     "output_type": "stream",
     "text": [
      "[('binge', 0.9995546340942383), ('meal', 0.9993753433227539), ('ed', 0.999364972114563), ('finish', 0.9993568658828735), ('fast', 0.9993310570716858), ('control', 0.9993168115615845), ('reason', 0.9992819428443909), ('straight', 0.9992722272872925), ('brain', 0.9992676973342896), ('voice', 0.9992669820785522), ('often', 0.9992617964744568), ('etc', 0.999255895614624), ('fat', 0.9992532730102539), ('felt', 0.999250054359436), ('healthy', 0.9992491006851196), ('le', 0.9992429614067078), ('water', 0.9992420673370361), ('calorie', 0.9992362856864929), ('little', 0.9992293119430542), ('pay', 0.9992249608039856), ('head', 0.9992240071296692), ('force', 0.9992235898971558), ('purging', 0.9992212653160095), ('longer', 0.9992210865020752), ('easy', 0.999218225479126), ('full', 0.9992106556892395), ('song', 0.9992095828056335), ('normal', 0.99920654296875), ('order', 0.9992055296897888), ('decision', 0.9992021918296814), ('moment', 0.9992009997367859), ('literally', 0.9991992712020874), ('energy', 0.9991943836212158), ('also', 0.9991936087608337), ('around', 0.9991929531097412), ('result', 0.9991907477378845), ('pain', 0.9991873502731323), ('purge', 0.9991825222969055), ('start', 0.9991812109947205), ('low', 0.9991803765296936), ('item', 0.9991787672042847), ('sleep', 0.9991753697395325), ('break', 0.9991729259490967), ('couldnt', 0.9991660118103027), ('plan', 0.9991626739501953), ('play', 0.9991621375083923), ('instead', 0.9991596341133118), ('although', 0.9991579651832581), ('actual', 0.9991559386253357), ('end', 0.9991558194160461), ('car', 0.9991537928581238), ('walk', 0.9991524815559387), ('check', 0.999150276184082), ('skin', 0.9991489052772522), ('increase', 0.9991489052772522), ('free', 0.9991452097892761), ('amount', 0.9991380572319031), ('bed', 0.9991371035575867), ('sick', 0.9991357326507568), ('lose', 0.9991347789764404), ('treatment', 0.9991346597671509), ('bunch', 0.9991296529769897), ('option', 0.9991241693496704), ('made', 0.9991218447685242), ('call', 0.9991181492805481), ('fear', 0.9991169571876526), ('case', 0.9991163611412048), ('certain', 0.9991158246994019), ('touch', 0.9991154074668884), ('statement', 0.9991142749786377), ('eye', 0.9991129636764526), ('outside', 0.9991108775138855), ('away', 0.9991105794906616), ('drink', 0.9991102814674377), ('fact', 0.999110221862793), ('urge', 0.9991052746772766), ('fall', 0.9991036057472229), ('easily', 0.9991029500961304), ('watching', 0.9991020560264587), ('rather', 0.9991018772125244), ('negative', 0.999099850654602), ('dog', 0.9990996718406677), ('whole', 0.9990978837013245), ('come', 0.9990965723991394), ('short', 0.9990944862365723), ('social', 0.9990917444229126), ('chance', 0.9990907907485962), ('far', 0.9990893602371216), ('type', 0.9990885853767395), ('list', 0.9990878701210022), ('mostly', 0.9990867376327515), ('imagine', 0.9990854859352112), ('world', 0.9990851879119873), ('room', 0.999083936214447), ('stay', 0.9990837574005127), ('yta', 0.9990821480751038), ('huge', 0.9990818500518799), ('position', 0.9990804195404053), ('immediately', 0.9990792274475098), ('symptom', 0.9990770220756531)]\n"
     ]
    }
   ],
   "source": [
    "# Most similar words to \"food\" based on euclidean distance, top 100 words\n",
    "similar_words = model.wv.most_similar('food', topn=100)\n",
    "print(similar_words)"
   ]
  },
  {
   "cell_type": "code",
   "execution_count": 132,
   "metadata": {},
   "outputs": [
    {
     "data": {
      "text/html": [
       "<div>\n",
       "<style scoped>\n",
       "    .dataframe tbody tr th:only-of-type {\n",
       "        vertical-align: middle;\n",
       "    }\n",
       "\n",
       "    .dataframe tbody tr th {\n",
       "        vertical-align: top;\n",
       "    }\n",
       "\n",
       "    .dataframe thead th {\n",
       "        text-align: right;\n",
       "    }\n",
       "</style>\n",
       "<table border=\"1\" class=\"dataframe\">\n",
       "  <thead>\n",
       "    <tr style=\"text-align: right;\">\n",
       "      <th></th>\n",
       "      <th>Subject</th>\n",
       "      <th>similar_words</th>\n",
       "      <th>score</th>\n",
       "    </tr>\n",
       "  </thead>\n",
       "  <tbody>\n",
       "    <tr>\n",
       "      <th>13</th>\n",
       "      <td>eRisk2023-T3_Subject14</td>\n",
       "      <td>{'binge': 135, 'meal': 77, 'ed': 2563, 'finish...</td>\n",
       "      <td>10107</td>\n",
       "    </tr>\n",
       "    <tr>\n",
       "      <th>20</th>\n",
       "      <td>eRisk2023-T3_Subject21</td>\n",
       "      <td>{'binge': 4, 'meal': 17, 'ed': 2613, 'finish':...</td>\n",
       "      <td>9436</td>\n",
       "    </tr>\n",
       "    <tr>\n",
       "      <th>31</th>\n",
       "      <td>eRisk2023-T3_Subject32</td>\n",
       "      <td>{'binge': 0, 'meal': 12, 'ed': 1876, 'finish':...</td>\n",
       "      <td>7011</td>\n",
       "    </tr>\n",
       "    <tr>\n",
       "      <th>16</th>\n",
       "      <td>eRisk2023-T3_Subject17</td>\n",
       "      <td>{'binge': 0, 'meal': 4, 'ed': 1653, 'finish': ...</td>\n",
       "      <td>6315</td>\n",
       "    </tr>\n",
       "    <tr>\n",
       "      <th>42</th>\n",
       "      <td>eRisk2023-T3_Subject43</td>\n",
       "      <td>{'binge': 9, 'meal': 18, 'ed': 1398, 'finish':...</td>\n",
       "      <td>4895</td>\n",
       "    </tr>\n",
       "    <tr>\n",
       "      <th>9</th>\n",
       "      <td>eRisk2023-T3_Subject10</td>\n",
       "      <td>{'binge': 0, 'meal': 9, 'ed': 1311, 'finish': ...</td>\n",
       "      <td>4812</td>\n",
       "    </tr>\n",
       "    <tr>\n",
       "      <th>18</th>\n",
       "      <td>eRisk2023-T3_Subject19</td>\n",
       "      <td>{'binge': 0, 'meal': 3, 'ed': 1164, 'finish': ...</td>\n",
       "      <td>4520</td>\n",
       "    </tr>\n",
       "    <tr>\n",
       "      <th>45</th>\n",
       "      <td>eRisk2023-T3_Subject46</td>\n",
       "      <td>{'binge': 2, 'meal': 0, 'ed': 1133, 'finish': ...</td>\n",
       "      <td>3738</td>\n",
       "    </tr>\n",
       "    <tr>\n",
       "      <th>34</th>\n",
       "      <td>eRisk2023-T3_Subject35</td>\n",
       "      <td>{'binge': 0, 'meal': 5, 'ed': 730, 'finish': 1...</td>\n",
       "      <td>2705</td>\n",
       "    </tr>\n",
       "    <tr>\n",
       "      <th>8</th>\n",
       "      <td>eRisk2023-T3_Subject9</td>\n",
       "      <td>{'binge': 0, 'meal': 1, 'ed': 639, 'finish': 0...</td>\n",
       "      <td>2607</td>\n",
       "    </tr>\n",
       "    <tr>\n",
       "      <th>5</th>\n",
       "      <td>eRisk2023-T3_Subject6</td>\n",
       "      <td>{'binge': 0, 'meal': 0, 'ed': 740, 'finish': 3...</td>\n",
       "      <td>2582</td>\n",
       "    </tr>\n",
       "    <tr>\n",
       "      <th>43</th>\n",
       "      <td>eRisk2023-T3_Subject44</td>\n",
       "      <td>{'binge': 1, 'meal': 1, 'ed': 811, 'finish': 0...</td>\n",
       "      <td>2475</td>\n",
       "    </tr>\n",
       "    <tr>\n",
       "      <th>0</th>\n",
       "      <td>eRisk2023-T3_Subject1</td>\n",
       "      <td>{'binge': 0, 'meal': 1, 'ed': 596, 'finish': 0...</td>\n",
       "      <td>2151</td>\n",
       "    </tr>\n",
       "    <tr>\n",
       "      <th>17</th>\n",
       "      <td>eRisk2023-T3_Subject18</td>\n",
       "      <td>{'binge': 0, 'meal': 0, 'ed': 585, 'finish': 0...</td>\n",
       "      <td>2081</td>\n",
       "    </tr>\n",
       "    <tr>\n",
       "      <th>39</th>\n",
       "      <td>eRisk2023-T3_Subject40</td>\n",
       "      <td>{'binge': 2, 'meal': 3, 'ed': 546, 'finish': 6...</td>\n",
       "      <td>2017</td>\n",
       "    </tr>\n",
       "    <tr>\n",
       "      <th>11</th>\n",
       "      <td>eRisk2023-T3_Subject12</td>\n",
       "      <td>{'binge': 1, 'meal': 2, 'ed': 530, 'finish': 4...</td>\n",
       "      <td>1783</td>\n",
       "    </tr>\n",
       "    <tr>\n",
       "      <th>41</th>\n",
       "      <td>eRisk2023-T3_Subject42</td>\n",
       "      <td>{'binge': 0, 'meal': 0, 'ed': 456, 'finish': 0...</td>\n",
       "      <td>1690</td>\n",
       "    </tr>\n",
       "    <tr>\n",
       "      <th>10</th>\n",
       "      <td>eRisk2023-T3_Subject11</td>\n",
       "      <td>{'binge': 0, 'meal': 1, 'ed': 357, 'finish': 5...</td>\n",
       "      <td>1306</td>\n",
       "    </tr>\n",
       "    <tr>\n",
       "      <th>22</th>\n",
       "      <td>eRisk2023-T3_Subject23</td>\n",
       "      <td>{'binge': 0, 'meal': 0, 'ed': 309, 'finish': 3...</td>\n",
       "      <td>1239</td>\n",
       "    </tr>\n",
       "    <tr>\n",
       "      <th>6</th>\n",
       "      <td>eRisk2023-T3_Subject7</td>\n",
       "      <td>{'binge': 2, 'meal': 1, 'ed': 315, 'finish': 0...</td>\n",
       "      <td>1193</td>\n",
       "    </tr>\n",
       "    <tr>\n",
       "      <th>4</th>\n",
       "      <td>eRisk2023-T3_Subject5</td>\n",
       "      <td>{'binge': 0, 'meal': 3, 'ed': 312, 'finish': 2...</td>\n",
       "      <td>991</td>\n",
       "    </tr>\n",
       "    <tr>\n",
       "      <th>25</th>\n",
       "      <td>eRisk2023-T3_Subject26</td>\n",
       "      <td>{'binge': 0, 'meal': 1, 'ed': 231, 'finish': 1...</td>\n",
       "      <td>968</td>\n",
       "    </tr>\n",
       "    <tr>\n",
       "      <th>26</th>\n",
       "      <td>eRisk2023-T3_Subject27</td>\n",
       "      <td>{'binge': 1, 'meal': 10, 'ed': 226, 'finish': ...</td>\n",
       "      <td>931</td>\n",
       "    </tr>\n",
       "    <tr>\n",
       "      <th>33</th>\n",
       "      <td>eRisk2023-T3_Subject34</td>\n",
       "      <td>{'binge': 25, 'meal': 9, 'ed': 180, 'finish': ...</td>\n",
       "      <td>816</td>\n",
       "    </tr>\n",
       "    <tr>\n",
       "      <th>30</th>\n",
       "      <td>eRisk2023-T3_Subject31</td>\n",
       "      <td>{'binge': 0, 'meal': 1, 'ed': 170, 'finish': 1...</td>\n",
       "      <td>739</td>\n",
       "    </tr>\n",
       "    <tr>\n",
       "      <th>23</th>\n",
       "      <td>eRisk2023-T3_Subject24</td>\n",
       "      <td>{'binge': 2, 'meal': 0, 'ed': 157, 'finish': 1...</td>\n",
       "      <td>717</td>\n",
       "    </tr>\n",
       "    <tr>\n",
       "      <th>44</th>\n",
       "      <td>eRisk2023-T3_Subject45</td>\n",
       "      <td>{'binge': 0, 'meal': 1, 'ed': 191, 'finish': 0...</td>\n",
       "      <td>640</td>\n",
       "    </tr>\n",
       "    <tr>\n",
       "      <th>21</th>\n",
       "      <td>eRisk2023-T3_Subject22</td>\n",
       "      <td>{'binge': 0, 'meal': 3, 'ed': 175, 'finish': 0...</td>\n",
       "      <td>605</td>\n",
       "    </tr>\n",
       "    <tr>\n",
       "      <th>29</th>\n",
       "      <td>eRisk2023-T3_Subject30</td>\n",
       "      <td>{'binge': 0, 'meal': 0, 'ed': 150, 'finish': 0...</td>\n",
       "      <td>537</td>\n",
       "    </tr>\n",
       "    <tr>\n",
       "      <th>14</th>\n",
       "      <td>eRisk2023-T3_Subject15</td>\n",
       "      <td>{'binge': 0, 'meal': 0, 'ed': 138, 'finish': 0...</td>\n",
       "      <td>510</td>\n",
       "    </tr>\n",
       "    <tr>\n",
       "      <th>36</th>\n",
       "      <td>eRisk2023-T3_Subject37</td>\n",
       "      <td>{'binge': 0, 'meal': 0, 'ed': 104, 'finish': 2...</td>\n",
       "      <td>359</td>\n",
       "    </tr>\n",
       "    <tr>\n",
       "      <th>35</th>\n",
       "      <td>eRisk2023-T3_Subject36</td>\n",
       "      <td>{'binge': 0, 'meal': 0, 'ed': 72, 'finish': 1,...</td>\n",
       "      <td>307</td>\n",
       "    </tr>\n",
       "    <tr>\n",
       "      <th>3</th>\n",
       "      <td>eRisk2023-T3_Subject4</td>\n",
       "      <td>{'binge': 0, 'meal': 2, 'ed': 82, 'finish': 0,...</td>\n",
       "      <td>297</td>\n",
       "    </tr>\n",
       "    <tr>\n",
       "      <th>24</th>\n",
       "      <td>eRisk2023-T3_Subject25</td>\n",
       "      <td>{'binge': 0, 'meal': 0, 'ed': 63, 'finish': 0,...</td>\n",
       "      <td>257</td>\n",
       "    </tr>\n",
       "    <tr>\n",
       "      <th>15</th>\n",
       "      <td>eRisk2023-T3_Subject16</td>\n",
       "      <td>{'binge': 0, 'meal': 0, 'ed': 50, 'finish': 0,...</td>\n",
       "      <td>169</td>\n",
       "    </tr>\n",
       "    <tr>\n",
       "      <th>27</th>\n",
       "      <td>eRisk2023-T3_Subject28</td>\n",
       "      <td>{'binge': 0, 'meal': 0, 'ed': 43, 'finish': 0,...</td>\n",
       "      <td>146</td>\n",
       "    </tr>\n",
       "    <tr>\n",
       "      <th>40</th>\n",
       "      <td>eRisk2023-T3_Subject41</td>\n",
       "      <td>{'binge': 0, 'meal': 2, 'ed': 39, 'finish': 1,...</td>\n",
       "      <td>146</td>\n",
       "    </tr>\n",
       "    <tr>\n",
       "      <th>28</th>\n",
       "      <td>eRisk2023-T3_Subject29</td>\n",
       "      <td>{'binge': 0, 'meal': 0, 'ed': 41, 'finish': 0,...</td>\n",
       "      <td>133</td>\n",
       "    </tr>\n",
       "    <tr>\n",
       "      <th>7</th>\n",
       "      <td>eRisk2023-T3_Subject8</td>\n",
       "      <td>{'binge': 0, 'meal': 0, 'ed': 39, 'finish': 0,...</td>\n",
       "      <td>120</td>\n",
       "    </tr>\n",
       "    <tr>\n",
       "      <th>2</th>\n",
       "      <td>eRisk2023-T3_Subject3</td>\n",
       "      <td>{'binge': 0, 'meal': 0, 'ed': 28, 'finish': 0,...</td>\n",
       "      <td>95</td>\n",
       "    </tr>\n",
       "    <tr>\n",
       "      <th>32</th>\n",
       "      <td>eRisk2023-T3_Subject33</td>\n",
       "      <td>{'binge': 1, 'meal': 0, 'ed': 33, 'finish': 0,...</td>\n",
       "      <td>86</td>\n",
       "    </tr>\n",
       "    <tr>\n",
       "      <th>38</th>\n",
       "      <td>eRisk2023-T3_Subject39</td>\n",
       "      <td>{'binge': 2, 'meal': 0, 'ed': 29, 'finish': 0,...</td>\n",
       "      <td>79</td>\n",
       "    </tr>\n",
       "    <tr>\n",
       "      <th>12</th>\n",
       "      <td>eRisk2023-T3_Subject13</td>\n",
       "      <td>{'binge': 0, 'meal': 0, 'ed': 17, 'finish': 0,...</td>\n",
       "      <td>46</td>\n",
       "    </tr>\n",
       "    <tr>\n",
       "      <th>19</th>\n",
       "      <td>eRisk2023-T3_Subject20</td>\n",
       "      <td>{'binge': 0, 'meal': 0, 'ed': 15, 'finish': 0,...</td>\n",
       "      <td>31</td>\n",
       "    </tr>\n",
       "    <tr>\n",
       "      <th>1</th>\n",
       "      <td>eRisk2023-T3_Subject2</td>\n",
       "      <td>{'binge': 0, 'meal': 0, 'ed': 13, 'finish': 0,...</td>\n",
       "      <td>30</td>\n",
       "    </tr>\n",
       "    <tr>\n",
       "      <th>37</th>\n",
       "      <td>eRisk2023-T3_Subject38</td>\n",
       "      <td>{'binge': 0, 'meal': 0, 'ed': 3, 'finish': 0, ...</td>\n",
       "      <td>11</td>\n",
       "    </tr>\n",
       "  </tbody>\n",
       "</table>\n",
       "</div>"
      ],
      "text/plain": [
       "                   Subject                                      similar_words  \\\n",
       "13  eRisk2023-T3_Subject14  {'binge': 135, 'meal': 77, 'ed': 2563, 'finish...   \n",
       "20  eRisk2023-T3_Subject21  {'binge': 4, 'meal': 17, 'ed': 2613, 'finish':...   \n",
       "31  eRisk2023-T3_Subject32  {'binge': 0, 'meal': 12, 'ed': 1876, 'finish':...   \n",
       "16  eRisk2023-T3_Subject17  {'binge': 0, 'meal': 4, 'ed': 1653, 'finish': ...   \n",
       "42  eRisk2023-T3_Subject43  {'binge': 9, 'meal': 18, 'ed': 1398, 'finish':...   \n",
       "9   eRisk2023-T3_Subject10  {'binge': 0, 'meal': 9, 'ed': 1311, 'finish': ...   \n",
       "18  eRisk2023-T3_Subject19  {'binge': 0, 'meal': 3, 'ed': 1164, 'finish': ...   \n",
       "45  eRisk2023-T3_Subject46  {'binge': 2, 'meal': 0, 'ed': 1133, 'finish': ...   \n",
       "34  eRisk2023-T3_Subject35  {'binge': 0, 'meal': 5, 'ed': 730, 'finish': 1...   \n",
       "8    eRisk2023-T3_Subject9  {'binge': 0, 'meal': 1, 'ed': 639, 'finish': 0...   \n",
       "5    eRisk2023-T3_Subject6  {'binge': 0, 'meal': 0, 'ed': 740, 'finish': 3...   \n",
       "43  eRisk2023-T3_Subject44  {'binge': 1, 'meal': 1, 'ed': 811, 'finish': 0...   \n",
       "0    eRisk2023-T3_Subject1  {'binge': 0, 'meal': 1, 'ed': 596, 'finish': 0...   \n",
       "17  eRisk2023-T3_Subject18  {'binge': 0, 'meal': 0, 'ed': 585, 'finish': 0...   \n",
       "39  eRisk2023-T3_Subject40  {'binge': 2, 'meal': 3, 'ed': 546, 'finish': 6...   \n",
       "11  eRisk2023-T3_Subject12  {'binge': 1, 'meal': 2, 'ed': 530, 'finish': 4...   \n",
       "41  eRisk2023-T3_Subject42  {'binge': 0, 'meal': 0, 'ed': 456, 'finish': 0...   \n",
       "10  eRisk2023-T3_Subject11  {'binge': 0, 'meal': 1, 'ed': 357, 'finish': 5...   \n",
       "22  eRisk2023-T3_Subject23  {'binge': 0, 'meal': 0, 'ed': 309, 'finish': 3...   \n",
       "6    eRisk2023-T3_Subject7  {'binge': 2, 'meal': 1, 'ed': 315, 'finish': 0...   \n",
       "4    eRisk2023-T3_Subject5  {'binge': 0, 'meal': 3, 'ed': 312, 'finish': 2...   \n",
       "25  eRisk2023-T3_Subject26  {'binge': 0, 'meal': 1, 'ed': 231, 'finish': 1...   \n",
       "26  eRisk2023-T3_Subject27  {'binge': 1, 'meal': 10, 'ed': 226, 'finish': ...   \n",
       "33  eRisk2023-T3_Subject34  {'binge': 25, 'meal': 9, 'ed': 180, 'finish': ...   \n",
       "30  eRisk2023-T3_Subject31  {'binge': 0, 'meal': 1, 'ed': 170, 'finish': 1...   \n",
       "23  eRisk2023-T3_Subject24  {'binge': 2, 'meal': 0, 'ed': 157, 'finish': 1...   \n",
       "44  eRisk2023-T3_Subject45  {'binge': 0, 'meal': 1, 'ed': 191, 'finish': 0...   \n",
       "21  eRisk2023-T3_Subject22  {'binge': 0, 'meal': 3, 'ed': 175, 'finish': 0...   \n",
       "29  eRisk2023-T3_Subject30  {'binge': 0, 'meal': 0, 'ed': 150, 'finish': 0...   \n",
       "14  eRisk2023-T3_Subject15  {'binge': 0, 'meal': 0, 'ed': 138, 'finish': 0...   \n",
       "36  eRisk2023-T3_Subject37  {'binge': 0, 'meal': 0, 'ed': 104, 'finish': 2...   \n",
       "35  eRisk2023-T3_Subject36  {'binge': 0, 'meal': 0, 'ed': 72, 'finish': 1,...   \n",
       "3    eRisk2023-T3_Subject4  {'binge': 0, 'meal': 2, 'ed': 82, 'finish': 0,...   \n",
       "24  eRisk2023-T3_Subject25  {'binge': 0, 'meal': 0, 'ed': 63, 'finish': 0,...   \n",
       "15  eRisk2023-T3_Subject16  {'binge': 0, 'meal': 0, 'ed': 50, 'finish': 0,...   \n",
       "27  eRisk2023-T3_Subject28  {'binge': 0, 'meal': 0, 'ed': 43, 'finish': 0,...   \n",
       "40  eRisk2023-T3_Subject41  {'binge': 0, 'meal': 2, 'ed': 39, 'finish': 1,...   \n",
       "28  eRisk2023-T3_Subject29  {'binge': 0, 'meal': 0, 'ed': 41, 'finish': 0,...   \n",
       "7    eRisk2023-T3_Subject8  {'binge': 0, 'meal': 0, 'ed': 39, 'finish': 0,...   \n",
       "2    eRisk2023-T3_Subject3  {'binge': 0, 'meal': 0, 'ed': 28, 'finish': 0,...   \n",
       "32  eRisk2023-T3_Subject33  {'binge': 1, 'meal': 0, 'ed': 33, 'finish': 0,...   \n",
       "38  eRisk2023-T3_Subject39  {'binge': 2, 'meal': 0, 'ed': 29, 'finish': 0,...   \n",
       "12  eRisk2023-T3_Subject13  {'binge': 0, 'meal': 0, 'ed': 17, 'finish': 0,...   \n",
       "19  eRisk2023-T3_Subject20  {'binge': 0, 'meal': 0, 'ed': 15, 'finish': 0,...   \n",
       "1    eRisk2023-T3_Subject2  {'binge': 0, 'meal': 0, 'ed': 13, 'finish': 0,...   \n",
       "37  eRisk2023-T3_Subject38  {'binge': 0, 'meal': 0, 'ed': 3, 'finish': 0, ...   \n",
       "\n",
       "    score  \n",
       "13  10107  \n",
       "20   9436  \n",
       "31   7011  \n",
       "16   6315  \n",
       "42   4895  \n",
       "9    4812  \n",
       "18   4520  \n",
       "45   3738  \n",
       "34   2705  \n",
       "8    2607  \n",
       "5    2582  \n",
       "43   2475  \n",
       "0    2151  \n",
       "17   2081  \n",
       "39   2017  \n",
       "11   1783  \n",
       "41   1690  \n",
       "10   1306  \n",
       "22   1239  \n",
       "6    1193  \n",
       "4     991  \n",
       "25    968  \n",
       "26    931  \n",
       "33    816  \n",
       "30    739  \n",
       "23    717  \n",
       "44    640  \n",
       "21    605  \n",
       "29    537  \n",
       "14    510  \n",
       "36    359  \n",
       "35    307  \n",
       "3     297  \n",
       "24    257  \n",
       "15    169  \n",
       "27    146  \n",
       "40    146  \n",
       "28    133  \n",
       "7     120  \n",
       "2      95  \n",
       "32     86  \n",
       "38     79  \n",
       "12     46  \n",
       "19     31  \n",
       "1      30  \n",
       "37     11  "
      ]
     },
     "execution_count": 132,
     "metadata": {},
     "output_type": "execute_result"
    }
   ],
   "source": [
    "user_similar_words = []\n",
    "\n",
    "for index, row in df_train.iterrows():\n",
    "    text = row['text']\n",
    "    user_similar_words.append({'Subject': row['Subject'], 'similar_words': {word: text.count(word) for word, _ in similar_words}})\n",
    "\n",
    "# Convert the list of dictionaries to a DataFrame\n",
    "user_similar_words_df = pd.DataFrame(user_similar_words)\n",
    "\n",
    "\n",
    "# rank the users on the basis of the number of times the similar wordcount summation appear in their text\n",
    "user_similar_words_df['score'] = user_similar_words_df['similar_words'].apply(lambda x: sum(x.values()))\n",
    "\n",
    "# Sort the DataFrame based on the rank\n",
    "user_similar_words_df = user_similar_words_df.sort_values(by='score', ascending=False)\n",
    "\n",
    "# Display the DataFrame\n",
    "user_similar_words_df"
   ]
  },
  {
   "cell_type": "code",
   "execution_count": 133,
   "metadata": {},
   "outputs": [
    {
     "data": {
      "image/png": "[encoded data removed]",
      "text/plain": [
       "<Figure size 1000x600 with 1 Axes>"
      ]
     },
     "metadata": {},
     "output_type": "display_data"
    }
   ],
   "source": [
    "# plot the score of each user in the training set as a bar chart\n",
    "plt.figure(figsize=(10, 6))\n",
    "plt.bar(user_similar_words_df['Subject'], user_similar_words_df['score'])\n",
    "plt.title('User Scores')\n",
    "plt.xlabel('User')\n",
    "plt.ylabel('Score')\n",
    "plt.xticks(rotation=90)\n",
    "plt.show()"
   ]
  },
  {
   "cell_type": "markdown",
   "metadata": {},
   "source": [
    "# Preprocessing Testing Data"
   ]
  },
  {
   "cell_type": "code",
   "execution_count": 38,
   "metadata": {},
   "outputs": [
    {
     "data": {
      "text/html": [
       "<div>\n",
       "<style scoped>\n",
       "    .dataframe tbody tr th:only-of-type {\n",
       "        vertical-align: middle;\n",
       "    }\n",
       "\n",
       "    .dataframe tbody tr th {\n",
       "        vertical-align: top;\n",
       "    }\n",
       "\n",
       "    .dataframe thead th {\n",
       "        text-align: right;\n",
       "    }\n",
       "</style>\n",
       "<table border=\"1\" class=\"dataframe\">\n",
       "  <thead>\n",
       "    <tr style=\"text-align: right;\">\n",
       "      <th></th>\n",
       "      <th>Subject</th>\n",
       "      <th>text</th>\n",
       "    </tr>\n",
       "  </thead>\n",
       "  <tbody>\n",
       "    <tr>\n",
       "      <th>0</th>\n",
       "      <td>eRisk2022-T3_Subject1</td>\n",
       "      <td>thats thats post fucking utterly completely lo...</td>\n",
       "    </tr>\n",
       "    <tr>\n",
       "      <th>1</th>\n",
       "      <td>eRisk2022-T3_Subject2</td>\n",
       "      <td>shes wrong 25 warm rtightpussy thats spicy gir...</td>\n",
       "    </tr>\n",
       "    <tr>\n",
       "      <th>2</th>\n",
       "      <td>eRisk2022-T3_Subject3</td>\n",
       "      <td>feel way ill sometimes starve im feeling stres...</td>\n",
       "    </tr>\n",
       "    <tr>\n",
       "      <th>3</th>\n",
       "      <td>eRisk2022-T3_Subject4</td>\n",
       "      <td>yoga vvvv helpful slowly concentrate movement ...</td>\n",
       "    </tr>\n",
       "    <tr>\n",
       "      <th>4</th>\n",
       "      <td>eRisk2022-T3_Subject5</td>\n",
       "      <td>im experience ive owned patent leather suede b...</td>\n",
       "    </tr>\n",
       "  </tbody>\n",
       "</table>\n",
       "</div>"
      ],
      "text/plain": [
       "                 Subject                                               text\n",
       "0  eRisk2022-T3_Subject1  thats thats post fucking utterly completely lo...\n",
       "1  eRisk2022-T3_Subject2  shes wrong 25 warm rtightpussy thats spicy gir...\n",
       "2  eRisk2022-T3_Subject3  feel way ill sometimes starve im feeling stres...\n",
       "3  eRisk2022-T3_Subject4  yoga vvvv helpful slowly concentrate movement ...\n",
       "4  eRisk2022-T3_Subject5  im experience ive owned patent leather suede b..."
      ]
     },
     "execution_count": 38,
     "metadata": {},
     "output_type": "execute_result"
    }
   ],
   "source": [
    "make_coloumns_same(data_path_test, no_of_testing_instances)\n",
    "data_cleaning(data_path_test, no_of_testing_instances)\n",
    "df_test = make_dataframe(data_path_test, no_of_testing_instances, 'test')\n",
    "df_test = data_preprocessing(df_test)\n",
    "\n",
    "df_test.head()"
   ]
  },
  {
   "cell_type": "code",
   "execution_count": 39,
   "metadata": {},
   "outputs": [
    {
     "data": {
      "text/html": [
       "<div>\n",
       "<style scoped>\n",
       "    .dataframe tbody tr th:only-of-type {\n",
       "        vertical-align: middle;\n",
       "    }\n",
       "\n",
       "    .dataframe tbody tr th {\n",
       "        vertical-align: top;\n",
       "    }\n",
       "\n",
       "    .dataframe thead th {\n",
       "        text-align: right;\n",
       "    }\n",
       "</style>\n",
       "<table border=\"1\" class=\"dataframe\">\n",
       "  <thead>\n",
       "    <tr style=\"text-align: right;\">\n",
       "      <th></th>\n",
       "      <th>Subject</th>\n",
       "      <th>text</th>\n",
       "    </tr>\n",
       "  </thead>\n",
       "  <tbody>\n",
       "    <tr>\n",
       "      <th>0</th>\n",
       "      <td>eRisk2022-T3_Subject1</td>\n",
       "      <td>thats thats post fucking utterly completely lo...</td>\n",
       "    </tr>\n",
       "    <tr>\n",
       "      <th>1</th>\n",
       "      <td>eRisk2022-T3_Subject2</td>\n",
       "      <td>shes wrong 25 warm rtightpussy thats spicy gir...</td>\n",
       "    </tr>\n",
       "    <tr>\n",
       "      <th>2</th>\n",
       "      <td>eRisk2022-T3_Subject3</td>\n",
       "      <td>feel way ill sometimes starve im feeling stres...</td>\n",
       "    </tr>\n",
       "    <tr>\n",
       "      <th>3</th>\n",
       "      <td>eRisk2022-T3_Subject4</td>\n",
       "      <td>yoga vvvv helpful slowly concentrate movement ...</td>\n",
       "    </tr>\n",
       "    <tr>\n",
       "      <th>4</th>\n",
       "      <td>eRisk2022-T3_Subject5</td>\n",
       "      <td>im experience ive owned patent leather suede b...</td>\n",
       "    </tr>\n",
       "    <tr>\n",
       "      <th>5</th>\n",
       "      <td>eRisk2022-T3_Subject6</td>\n",
       "      <td>one find kidnapping inpregnation thing unsette...</td>\n",
       "    </tr>\n",
       "    <tr>\n",
       "      <th>6</th>\n",
       "      <td>eRisk2022-T3_Subject7</td>\n",
       "      <td>home rholup 175 favorite place visit paris wen...</td>\n",
       "    </tr>\n",
       "    <tr>\n",
       "      <th>7</th>\n",
       "      <td>eRisk2022-T3_Subject8</td>\n",
       "      <td>youre friend could honest directly tell making...</td>\n",
       "    </tr>\n",
       "    <tr>\n",
       "      <th>8</th>\n",
       "      <td>eRisk2022-T3_Subject9</td>\n",
       "      <td>oh fun ive lost equivalent beagle 16kg yup gnu...</td>\n",
       "    </tr>\n",
       "    <tr>\n",
       "      <th>9</th>\n",
       "      <td>eRisk2022-T3_Subject10</td>\n",
       "      <td>wash hair often greasy hair absorbs scent much...</td>\n",
       "    </tr>\n",
       "    <tr>\n",
       "      <th>10</th>\n",
       "      <td>eRisk2022-T3_Subject11</td>\n",
       "      <td>linkedin infojobs indeed quite bunch job offer...</td>\n",
       "    </tr>\n",
       "    <tr>\n",
       "      <th>11</th>\n",
       "      <td>eRisk2022-T3_Subject12</td>\n",
       "      <td>something someone used fun one day almost slee...</td>\n",
       "    </tr>\n",
       "    <tr>\n",
       "      <th>12</th>\n",
       "      <td>eRisk2022-T3_Subject13</td>\n",
       "      <td>alright guess really good thought something wr...</td>\n",
       "    </tr>\n",
       "    <tr>\n",
       "      <th>13</th>\n",
       "      <td>eRisk2022-T3_Subject14</td>\n",
       "      <td>buying curved barbell measurement bar distance...</td>\n",
       "    </tr>\n",
       "    <tr>\n",
       "      <th>14</th>\n",
       "      <td>eRisk2022-T3_Subject15</td>\n",
       "      <td>ive diagnosed add last june year like 6 year d...</td>\n",
       "    </tr>\n",
       "    <tr>\n",
       "      <th>15</th>\n",
       "      <td>eRisk2022-T3_Subject16</td>\n",
       "      <td>never get everything usually use hour couple h...</td>\n",
       "    </tr>\n",
       "    <tr>\n",
       "      <th>16</th>\n",
       "      <td>eRisk2022-T3_Subject17</td>\n",
       "      <td>followed story tiktok first got bobby sadly ca...</td>\n",
       "    </tr>\n",
       "    <tr>\n",
       "      <th>17</th>\n",
       "      <td>eRisk2022-T3_Subject18</td>\n",
       "      <td>see thanks video really nice onboarding screen...</td>\n",
       "    </tr>\n",
       "    <tr>\n",
       "      <th>18</th>\n",
       "      <td>eRisk2022-T3_Subject19</td>\n",
       "      <td>im student full time work 20 25h week work wee...</td>\n",
       "    </tr>\n",
       "    <tr>\n",
       "      <th>19</th>\n",
       "      <td>eRisk2022-T3_Subject20</td>\n",
       "      <td>11 hi thought vegeta goku 5 year apart vegeta ...</td>\n",
       "    </tr>\n",
       "    <tr>\n",
       "      <th>20</th>\n",
       "      <td>eRisk2022-T3_Subject21</td>\n",
       "      <td>fake calorie 8am calorie 8pm love cheese calci...</td>\n",
       "    </tr>\n",
       "    <tr>\n",
       "      <th>21</th>\n",
       "      <td>eRisk2022-T3_Subject22</td>\n",
       "      <td>prozac fda approved bulimia could really help ...</td>\n",
       "    </tr>\n",
       "    <tr>\n",
       "      <th>22</th>\n",
       "      <td>eRisk2022-T3_Subject23</td>\n",
       "      <td>tf get invited famous party im sorry guy secon...</td>\n",
       "    </tr>\n",
       "    <tr>\n",
       "      <th>23</th>\n",
       "      <td>eRisk2022-T3_Subject24</td>\n",
       "      <td>hard pick favorite animal ω im america selecte...</td>\n",
       "    </tr>\n",
       "    <tr>\n",
       "      <th>24</th>\n",
       "      <td>eRisk2022-T3_Subject25</td>\n",
       "      <td>disqualified limbo contest yolkswagen pair kni...</td>\n",
       "    </tr>\n",
       "    <tr>\n",
       "      <th>25</th>\n",
       "      <td>eRisk2022-T3_Subject26</td>\n",
       "      <td>cute hehe emergency call cop make sure always ...</td>\n",
       "    </tr>\n",
       "    <tr>\n",
       "      <th>26</th>\n",
       "      <td>eRisk2022-T3_Subject27</td>\n",
       "      <td>theyre jewish chance dont know know someone kn...</td>\n",
       "    </tr>\n",
       "    <tr>\n",
       "      <th>27</th>\n",
       "      <td>eRisk2022-T3_Subject28</td>\n",
       "      <td>part 3 task 4 4 redo go 5 hour timer second ti...</td>\n",
       "    </tr>\n",
       "  </tbody>\n",
       "</table>\n",
       "</div>"
      ],
      "text/plain": [
       "                   Subject                                               text\n",
       "0    eRisk2022-T3_Subject1  thats thats post fucking utterly completely lo...\n",
       "1    eRisk2022-T3_Subject2  shes wrong 25 warm rtightpussy thats spicy gir...\n",
       "2    eRisk2022-T3_Subject3  feel way ill sometimes starve im feeling stres...\n",
       "3    eRisk2022-T3_Subject4  yoga vvvv helpful slowly concentrate movement ...\n",
       "4    eRisk2022-T3_Subject5  im experience ive owned patent leather suede b...\n",
       "5    eRisk2022-T3_Subject6  one find kidnapping inpregnation thing unsette...\n",
       "6    eRisk2022-T3_Subject7  home rholup 175 favorite place visit paris wen...\n",
       "7    eRisk2022-T3_Subject8  youre friend could honest directly tell making...\n",
       "8    eRisk2022-T3_Subject9  oh fun ive lost equivalent beagle 16kg yup gnu...\n",
       "9   eRisk2022-T3_Subject10  wash hair often greasy hair absorbs scent much...\n",
       "10  eRisk2022-T3_Subject11  linkedin infojobs indeed quite bunch job offer...\n",
       "11  eRisk2022-T3_Subject12  something someone used fun one day almost slee...\n",
       "12  eRisk2022-T3_Subject13  alright guess really good thought something wr...\n",
       "13  eRisk2022-T3_Subject14  buying curved barbell measurement bar distance...\n",
       "14  eRisk2022-T3_Subject15  ive diagnosed add last june year like 6 year d...\n",
       "15  eRisk2022-T3_Subject16  never get everything usually use hour couple h...\n",
       "16  eRisk2022-T3_Subject17  followed story tiktok first got bobby sadly ca...\n",
       "17  eRisk2022-T3_Subject18  see thanks video really nice onboarding screen...\n",
       "18  eRisk2022-T3_Subject19  im student full time work 20 25h week work wee...\n",
       "19  eRisk2022-T3_Subject20  11 hi thought vegeta goku 5 year apart vegeta ...\n",
       "20  eRisk2022-T3_Subject21  fake calorie 8am calorie 8pm love cheese calci...\n",
       "21  eRisk2022-T3_Subject22  prozac fda approved bulimia could really help ...\n",
       "22  eRisk2022-T3_Subject23  tf get invited famous party im sorry guy secon...\n",
       "23  eRisk2022-T3_Subject24  hard pick favorite animal ω im america selecte...\n",
       "24  eRisk2022-T3_Subject25  disqualified limbo contest yolkswagen pair kni...\n",
       "25  eRisk2022-T3_Subject26  cute hehe emergency call cop make sure always ...\n",
       "26  eRisk2022-T3_Subject27  theyre jewish chance dont know know someone kn...\n",
       "27  eRisk2022-T3_Subject28  part 3 task 4 4 redo go 5 hour timer second ti..."
      ]
     },
     "execution_count": 39,
     "metadata": {},
     "output_type": "execute_result"
    }
   ],
   "source": [
    "df_test"
   ]
  },
  {
   "cell_type": "code",
   "execution_count": 40,
   "metadata": {},
   "outputs": [],
   "source": [
    "df_test.to_csv('test.csv', index=False)"
   ]
  },
  {
   "cell_type": "markdown",
   "metadata": {},
   "source": [
    "# Evaluating MidSem Models"
   ]
  },
  {
   "cell_type": "markdown",
   "metadata": {},
   "source": [
    "## Multinomial Naives Bayes"
   ]
  },
  {
   "cell_type": "code",
   "execution_count": 50,
   "metadata": {},
   "outputs": [
    {
     "name": "stdout",
     "output_type": "stream",
     "text": [
      "Question 1\n",
      "Question 2\n",
      "Question 3\n",
      "Question 4\n",
      "Question 5\n",
      "Question 6\n",
      "Question 7\n",
      "Question 8\n",
      "Question 9\n",
      "Question 10\n",
      "Question 11\n",
      "Question 12\n",
      "Question 13\n",
      "Question 14\n",
      "Question 15\n",
      "Question 16\n",
      "Question 17\n",
      "Question 18\n",
      "Question 19\n",
      "Question 20\n",
      "Question 21\n",
      "Question 22\n"
     ]
    }
   ],
   "source": [
    "multinomial_naive_bayes_predictions = []\n",
    "\n",
    "for i in range(0, number_of_questions):\n",
    "    print(f'Question {i+1}')\n",
    "    multinomial_naive_bayes_predictions.append(multinomial_naves_bayes(i, labels_train, labels_test, df_train, df_test))"
   ]
  },
  {
   "cell_type": "code",
   "execution_count": 61,
   "metadata": {},
   "outputs": [
    {
     "name": "stdout",
     "output_type": "stream",
     "text": [
      "(28, 22)\n"
     ]
    }
   ],
   "source": [
    "multinomial_naive_bayes_predictions_np = np.array(multinomial_naive_bayes_predictions)\n",
    "multinomial_naive_bayes_predictions_np = multinomial_naive_bayes_predictions_np.T\n",
    "print(multinomial_naive_bayes_predictions_np.shape)"
   ]
  },
  {
   "cell_type": "code",
   "execution_count": 171,
   "metadata": {},
   "outputs": [
    {
     "name": "stdout",
     "output_type": "stream",
     "text": [
      "(28, 22)\n"
     ]
    }
   ],
   "source": [
    "labels_test_np = np.array(labels_test)\n",
    "print(labels_test_np.shape)"
   ]
  },
  {
   "cell_type": "code",
   "execution_count": 76,
   "metadata": {},
   "outputs": [
    {
     "name": "stdout",
     "output_type": "stream",
     "text": [
      "Mean Zero-One Error:  0.6753246753246753\n",
      "Mean Absolute Error:  2.340909090909091\n",
      "Macroaveraged Mean Absolute Error:  1.7449807990523618\n",
      "Restrained Subscale:  2.5793133083937563\n",
      "Eating Concern Subscale:  3.0173308924090034\n",
      "Shape Concern Subscale:  1.9142324086394824\n",
      "Weight Concern Subscale:  1.9142324086394824\n",
      "Global ED:  1.8380655410065536\n"
     ]
    }
   ],
   "source": [
    "find_all_metrics(labels_test_np, multinomial_naive_bayes_predictions_np)"
   ]
  },
  {
   "cell_type": "markdown",
   "metadata": {},
   "source": [
    "## Linear Support Vector Machine"
   ]
  },
  {
   "cell_type": "code",
   "execution_count": 78,
   "metadata": {},
   "outputs": [
    {
     "name": "stdout",
     "output_type": "stream",
     "text": [
      "Question 1\n",
      "Question 2\n",
      "Question 3\n",
      "Question 4\n",
      "Question 5\n",
      "Question 6\n",
      "Question 7\n",
      "Question 8\n",
      "Question 9\n",
      "Question 10\n",
      "Question 11\n",
      "Question 12\n",
      "Question 13\n",
      "Question 14\n",
      "Question 15\n",
      "Question 16\n",
      "Question 17\n",
      "Question 18\n",
      "Question 19\n",
      "Question 20\n",
      "Question 21\n",
      "Question 22\n"
     ]
    }
   ],
   "source": [
    "linear_support_vector_machine_predictions = []\n",
    "\n",
    "for i in range(0, number_of_questions):\n",
    "    print(f'Question {i+1}')\n",
    "    linear_support_vector_machine_predictions.append(linear_SVM(i, labels_train, labels_test, df_train, df_test))"
   ]
  },
  {
   "cell_type": "code",
   "execution_count": 79,
   "metadata": {},
   "outputs": [
    {
     "name": "stdout",
     "output_type": "stream",
     "text": [
      "(28, 22)\n"
     ]
    }
   ],
   "source": [
    "linear_support_vector_machine_predictions_np = np.array(linear_support_vector_machine_predictions)\n",
    "linear_support_vector_machine_predictions_np = linear_support_vector_machine_predictions_np.T\n",
    "print(linear_support_vector_machine_predictions_np.shape)"
   ]
  },
  {
   "cell_type": "code",
   "execution_count": 82,
   "metadata": {},
   "outputs": [
    {
     "name": "stdout",
     "output_type": "stream",
     "text": [
      "Mean Zero-One Error:  0.7012987012987012\n",
      "Mean Absolute Error:  1.974025974025974\n",
      "Macroaveraged Mean Absolute Error:  1.560444493074058\n",
      "Restrained Subscale:  1.9867417691141587\n",
      "Eating Concern Subscale:  1.6274432182326448\n",
      "Shape Concern Subscale:  1.4177446878757824\n",
      "Weight Concern Subscale:  1.4177446878757824\n",
      "Global ED:  1.360584437350624\n"
     ]
    }
   ],
   "source": [
    "find_all_metrics(labels_test_np, linear_support_vector_machine_predictions_np)"
   ]
  },
  {
   "cell_type": "markdown",
   "metadata": {},
   "source": [
    "## Logistic Regression"
   ]
  },
  {
   "cell_type": "code",
   "execution_count": 114,
   "metadata": {},
   "outputs": [
    {
     "name": "stdout",
     "output_type": "stream",
     "text": [
      "Question 1\n",
      "Question 2\n",
      "Question 3\n",
      "Question 4\n",
      "Question 5\n",
      "Question 6\n",
      "Question 7\n",
      "Question 8\n",
      "Question 9\n",
      "Question 10\n",
      "Question 11\n",
      "Question 12\n",
      "Question 13\n",
      "Question 14\n",
      "Question 15\n",
      "Question 16\n",
      "Question 17\n",
      "Question 18\n",
      "Question 19\n",
      "Question 20\n",
      "Question 21\n",
      "Question 22\n"
     ]
    }
   ],
   "source": [
    "logistic_regression_predictions = []\n",
    "\n",
    "for i in range(0, number_of_questions):\n",
    "    print(f'Question {i+1}')\n",
    "    logistic_regression_predictions.append(logistic_regression(i, labels_train, labels_test, df_train, df_test))"
   ]
  },
  {
   "cell_type": "code",
   "execution_count": 85,
   "metadata": {},
   "outputs": [
    {
     "name": "stdout",
     "output_type": "stream",
     "text": [
      "(28, 22)\n"
     ]
    }
   ],
   "source": [
    "logistic_regression_predictions_np = np.array(logistic_regression_predictions)\n",
    "logistic_regression_predictions_np = logistic_regression_predictions_np.T\n",
    "print(logistic_regression_predictions_np.shape)"
   ]
  },
  {
   "cell_type": "code",
   "execution_count": 86,
   "metadata": {},
   "outputs": [
    {
     "name": "stdout",
     "output_type": "stream",
     "text": [
      "Mean Zero-One Error:  0.6720779220779222\n",
      "Mean Absolute Error:  2.043831168831169\n",
      "Macroaveraged Mean Absolute Error:  1.6271578180144235\n",
      "Restrained Subscale:  2.431636720987973\n",
      "Eating Concern Subscale:  2.1480888515807983\n",
      "Shape Concern Subscale:  1.6234883078464981\n",
      "Weight Concern Subscale:  1.6234883078464981\n",
      "Global ED:  1.5417501686684796\n"
     ]
    }
   ],
   "source": [
    "find_all_metrics(labels_test_np, logistic_regression_predictions_np)"
   ]
  },
  {
   "cell_type": "markdown",
   "metadata": {},
   "source": [
    "## Neural Network"
   ]
  },
  {
   "cell_type": "code",
   "execution_count": 115,
   "metadata": {},
   "outputs": [
    {
     "name": "stdout",
     "output_type": "stream",
     "text": [
      "Question 1\n",
      "Question 2\n",
      "Question 3\n",
      "Question 4\n",
      "Question 5\n",
      "Question 6\n",
      "Question 7\n",
      "Question 8\n",
      "Question 9\n",
      "Question 10\n",
      "Question 11\n",
      "Question 12\n",
      "Question 13\n",
      "Question 14\n",
      "Question 15\n",
      "Question 16\n",
      "Question 17\n",
      "Question 18\n",
      "Question 19\n",
      "Question 20\n",
      "Question 21\n",
      "Question 22\n"
     ]
    }
   ],
   "source": [
    "neural_network_predictions = []\n",
    "\n",
    "for i in range(0, number_of_questions):\n",
    "    print(f'Question {i+1}')\n",
    "    neural_network_predictions.append(neural_network(i, labels_train, labels_test, df_train, df_test))"
   ]
  },
  {
   "cell_type": "code",
   "execution_count": 116,
   "metadata": {},
   "outputs": [
    {
     "name": "stdout",
     "output_type": "stream",
     "text": [
      "(28, 22)\n"
     ]
    }
   ],
   "source": [
    "neural_network_predictions_np = np.array(neural_network_predictions)\n",
    "neural_network_predictions_np = neural_network_predictions_np.T\n",
    "print(neural_network_predictions_np.shape)"
   ]
  },
  {
   "cell_type": "code",
   "execution_count": 117,
   "metadata": {},
   "outputs": [
    {
     "name": "stdout",
     "output_type": "stream",
     "text": [
      "Mean Zero-One Error:  0.7646103896103896\n",
      "Mean Absolute Error:  2.586038961038961\n",
      "Macroaveraged Mean Absolute Error:  1.7829061870818046\n",
      "Restrained Subscale:  2.7446050977977032\n",
      "Eating Concern Subscale:  2.80662481588524\n",
      "Shape Concern Subscale:  2.239579042077838\n",
      "Weight Concern Subscale:  2.239579042077838\n",
      "Global ED:  2.336907869997691\n"
     ]
    }
   ],
   "source": [
    "find_all_metrics(labels_test_np, neural_network_predictions_np)"
   ]
  },
  {
   "cell_type": "markdown",
   "metadata": {},
   "source": [
    "# Results Obtained - MidSem Evaluation"
   ]
  },
  {
   "cell_type": "code",
   "execution_count": 118,
   "metadata": {},
   "outputs": [
    {
     "name": "stderr",
     "output_type": "stream",
     "text": [
      "C:\\Users\\91900\\AppData\\Local\\Temp\\ipykernel_28904\\327278642.py:3: FutureWarning: The frame.append method is deprecated and will be removed from pandas in a future version. Use pandas.concat instead.\n",
      "  summary_df = summary_df.append({'Model': 'Multinomial Naive Bayes', 'MAE': mean_absolute_error(labels_test_np, multinomial_naive_bayes_predictions_np), 'MZOE': mean_zero_one_error(labels_test_np, multinomial_naive_bayes_predictions_np), 'MAE_macro': macroaveraged_mean_absolute_error(labels_test_np, multinomial_naive_bayes_predictions_np), 'GED': global_ED(labels_test_np, multinomial_naive_bayes_predictions_np), 'RS': restrained_subscale(labels_test_np, multinomial_naive_bayes_predictions_np), 'ECS': eating_concern_subscale(labels_test_np, multinomial_naive_bayes_predictions_np), 'SCS': shape_concern_subscale(labels_test_np, multinomial_naive_bayes_predictions_np), 'WCS': weight_concern_subscale(labels_test_np, multinomial_naive_bayes_predictions_np)}, ignore_index=True)\n",
      "C:\\Users\\91900\\AppData\\Local\\Temp\\ipykernel_28904\\327278642.py:4: FutureWarning: The frame.append method is deprecated and will be removed from pandas in a future version. Use pandas.concat instead.\n",
      "  summary_df = summary_df.append({'Model': 'Linear Support Vector Machine', 'MAE': mean_absolute_error(labels_test_np, linear_support_vector_machine_predictions_np), 'MZOE': mean_zero_one_error(labels_test_np, linear_support_vector_machine_predictions_np), 'MAE_macro': macroaveraged_mean_absolute_error(labels_test_np, linear_support_vector_machine_predictions_np), 'GED': global_ED(labels_test_np, linear_support_vector_machine_predictions_np), 'RS': restrained_subscale(labels_test_np, linear_support_vector_machine_predictions_np), 'ECS': eating_concern_subscale(labels_test_np, linear_support_vector_machine_predictions_np), 'SCS': shape_concern_subscale(labels_test_np, linear_support_vector_machine_predictions_np), 'WCS': weight_concern_subscale(labels_test_np, linear_support_vector_machine_predictions_np)}, ignore_index=True)\n",
      "C:\\Users\\91900\\AppData\\Local\\Temp\\ipykernel_28904\\327278642.py:5: FutureWarning: The frame.append method is deprecated and will be removed from pandas in a future version. Use pandas.concat instead.\n",
      "  summary_df = summary_df.append({'Model': 'Logistic Regression', 'MAE': mean_absolute_error(labels_test_np, logistic_regression_predictions_np), 'MZOE': mean_zero_one_error(labels_test_np, logistic_regression_predictions_np), 'MAE_macro': macroaveraged_mean_absolute_error(labels_test_np, logistic_regression_predictions_np), 'GED': global_ED(labels_test_np, logistic_regression_predictions_np), 'RS': restrained_subscale(labels_test_np, logistic_regression_predictions_np), 'ECS': eating_concern_subscale(labels_test_np, logistic_regression_predictions_np), 'SCS': shape_concern_subscale(labels_test_np, logistic_regression_predictions_np), 'WCS': weight_concern_subscale(labels_test_np, logistic_regression_predictions_np)}, ignore_index=True)\n",
      "C:\\Users\\91900\\AppData\\Local\\Temp\\ipykernel_28904\\327278642.py:6: FutureWarning: The frame.append method is deprecated and will be removed from pandas in a future version. Use pandas.concat instead.\n",
      "  summary_df = summary_df.append({'Model': 'Neural Network', 'MAE': mean_absolute_error(labels_test_np, neural_network_predictions_np), 'MZOE': mean_zero_one_error(labels_test_np, neural_network_predictions_np), 'MAE_macro': macroaveraged_mean_absolute_error(labels_test_np, neural_network_predictions_np), 'GED': global_ED(labels_test_np, neural_network_predictions_np), 'RS': restrained_subscale(labels_test_np, neural_network_predictions_np), 'ECS': eating_concern_subscale(labels_test_np, neural_network_predictions_np), 'SCS': shape_concern_subscale(labels_test_np, neural_network_predictions_np), 'WCS': weight_concern_subscale(labels_test_np, neural_network_predictions_np)}, ignore_index=True)\n"
     ]
    }
   ],
   "source": [
    "summary_df = pd.DataFrame(columns=['Model', 'MAE', 'MZOE', 'MAE_macro', 'GED', 'RS', 'ECS', 'SCS', 'WCS'])\n",
    "\n",
    "summary_df = summary_df.append({'Model': 'Multinomial Naive Bayes', 'MAE': mean_absolute_error(labels_test_np, multinomial_naive_bayes_predictions_np), 'MZOE': mean_zero_one_error(labels_test_np, multinomial_naive_bayes_predictions_np), 'MAE_macro': macroaveraged_mean_absolute_error(labels_test_np, multinomial_naive_bayes_predictions_np), 'GED': global_ED(labels_test_np, multinomial_naive_bayes_predictions_np), 'RS': restrained_subscale(labels_test_np, multinomial_naive_bayes_predictions_np), 'ECS': eating_concern_subscale(labels_test_np, multinomial_naive_bayes_predictions_np), 'SCS': shape_concern_subscale(labels_test_np, multinomial_naive_bayes_predictions_np), 'WCS': weight_concern_subscale(labels_test_np, multinomial_naive_bayes_predictions_np)}, ignore_index=True)\n",
    "summary_df = summary_df.append({'Model': 'Linear Support Vector Machine', 'MAE': mean_absolute_error(labels_test_np, linear_support_vector_machine_predictions_np), 'MZOE': mean_zero_one_error(labels_test_np, linear_support_vector_machine_predictions_np), 'MAE_macro': macroaveraged_mean_absolute_error(labels_test_np, linear_support_vector_machine_predictions_np), 'GED': global_ED(labels_test_np, linear_support_vector_machine_predictions_np), 'RS': restrained_subscale(labels_test_np, linear_support_vector_machine_predictions_np), 'ECS': eating_concern_subscale(labels_test_np, linear_support_vector_machine_predictions_np), 'SCS': shape_concern_subscale(labels_test_np, linear_support_vector_machine_predictions_np), 'WCS': weight_concern_subscale(labels_test_np, linear_support_vector_machine_predictions_np)}, ignore_index=True)\n",
    "summary_df = summary_df.append({'Model': 'Logistic Regression', 'MAE': mean_absolute_error(labels_test_np, logistic_regression_predictions_np), 'MZOE': mean_zero_one_error(labels_test_np, logistic_regression_predictions_np), 'MAE_macro': macroaveraged_mean_absolute_error(labels_test_np, logistic_regression_predictions_np), 'GED': global_ED(labels_test_np, logistic_regression_predictions_np), 'RS': restrained_subscale(labels_test_np, logistic_regression_predictions_np), 'ECS': eating_concern_subscale(labels_test_np, logistic_regression_predictions_np), 'SCS': shape_concern_subscale(labels_test_np, logistic_regression_predictions_np), 'WCS': weight_concern_subscale(labels_test_np, logistic_regression_predictions_np)}, ignore_index=True)\n",
    "summary_df = summary_df.append({'Model': 'Neural Network', 'MAE': mean_absolute_error(labels_test_np, neural_network_predictions_np), 'MZOE': mean_zero_one_error(labels_test_np, neural_network_predictions_np), 'MAE_macro': macroaveraged_mean_absolute_error(labels_test_np, neural_network_predictions_np), 'GED': global_ED(labels_test_np, neural_network_predictions_np), 'RS': restrained_subscale(labels_test_np, neural_network_predictions_np), 'ECS': eating_concern_subscale(labels_test_np, neural_network_predictions_np), 'SCS': shape_concern_subscale(labels_test_np, neural_network_predictions_np), 'WCS': weight_concern_subscale(labels_test_np, neural_network_predictions_np)}, ignore_index=True)"
   ]
  },
  {
   "cell_type": "code",
   "execution_count": 119,
   "metadata": {},
   "outputs": [
    {
     "data": {
      "text/html": [
       "<div>\n",
       "<style scoped>\n",
       "    .dataframe tbody tr th:only-of-type {\n",
       "        vertical-align: middle;\n",
       "    }\n",
       "\n",
       "    .dataframe tbody tr th {\n",
       "        vertical-align: top;\n",
       "    }\n",
       "\n",
       "    .dataframe thead th {\n",
       "        text-align: right;\n",
       "    }\n",
       "</style>\n",
       "<table border=\"1\" class=\"dataframe\">\n",
       "  <thead>\n",
       "    <tr style=\"text-align: right;\">\n",
       "      <th></th>\n",
       "      <th>Model</th>\n",
       "      <th>MAE</th>\n",
       "      <th>MZOE</th>\n",
       "      <th>MAE_macro</th>\n",
       "      <th>GED</th>\n",
       "      <th>RS</th>\n",
       "      <th>ECS</th>\n",
       "      <th>SCS</th>\n",
       "      <th>WCS</th>\n",
       "    </tr>\n",
       "  </thead>\n",
       "  <tbody>\n",
       "    <tr>\n",
       "      <th>0</th>\n",
       "      <td>Multinomial Naive Bayes</td>\n",
       "      <td>2.340909</td>\n",
       "      <td>0.675325</td>\n",
       "      <td>1.744981</td>\n",
       "      <td>1.838066</td>\n",
       "      <td>2.579313</td>\n",
       "      <td>3.017331</td>\n",
       "      <td>1.914232</td>\n",
       "      <td>1.914232</td>\n",
       "    </tr>\n",
       "    <tr>\n",
       "      <th>1</th>\n",
       "      <td>Linear Support Vector Machine</td>\n",
       "      <td>1.974026</td>\n",
       "      <td>0.701299</td>\n",
       "      <td>1.560444</td>\n",
       "      <td>1.360584</td>\n",
       "      <td>1.986742</td>\n",
       "      <td>1.627443</td>\n",
       "      <td>1.417745</td>\n",
       "      <td>1.417745</td>\n",
       "    </tr>\n",
       "    <tr>\n",
       "      <th>2</th>\n",
       "      <td>Logistic Regression</td>\n",
       "      <td>2.043831</td>\n",
       "      <td>0.672078</td>\n",
       "      <td>1.627158</td>\n",
       "      <td>1.541750</td>\n",
       "      <td>2.431637</td>\n",
       "      <td>2.148089</td>\n",
       "      <td>1.623488</td>\n",
       "      <td>1.623488</td>\n",
       "    </tr>\n",
       "    <tr>\n",
       "      <th>3</th>\n",
       "      <td>Neural Network</td>\n",
       "      <td>2.586039</td>\n",
       "      <td>0.764610</td>\n",
       "      <td>1.782906</td>\n",
       "      <td>2.336908</td>\n",
       "      <td>2.744605</td>\n",
       "      <td>2.806625</td>\n",
       "      <td>2.239579</td>\n",
       "      <td>2.239579</td>\n",
       "    </tr>\n",
       "  </tbody>\n",
       "</table>\n",
       "</div>"
      ],
      "text/plain": [
       "                           Model       MAE      MZOE  MAE_macro       GED  \\\n",
       "0        Multinomial Naive Bayes  2.340909  0.675325   1.744981  1.838066   \n",
       "1  Linear Support Vector Machine  1.974026  0.701299   1.560444  1.360584   \n",
       "2            Logistic Regression  2.043831  0.672078   1.627158  1.541750   \n",
       "3                 Neural Network  2.586039  0.764610   1.782906  2.336908   \n",
       "\n",
       "         RS       ECS       SCS       WCS  \n",
       "0  2.579313  3.017331  1.914232  1.914232  \n",
       "1  1.986742  1.627443  1.417745  1.417745  \n",
       "2  2.431637  2.148089  1.623488  1.623488  \n",
       "3  2.744605  2.806625  2.239579  2.239579  "
      ]
     },
     "execution_count": 119,
     "metadata": {},
     "output_type": "execute_result"
    }
   ],
   "source": [
    "summary_df"
   ]
  },
  {
   "cell_type": "markdown",
   "metadata": {},
   "source": [
    "# Extracting Question Embeddings"
   ]
  },
  {
   "cell_type": "code",
   "execution_count": 1,
   "metadata": {},
   "outputs": [],
   "source": [
    "questions = ['Have you been deliberately trying to limit the amount of food you eat to influence your shape or weight (whether or not you have succeeded)',\n",
    "             'Have you gone for long periods of time (8 waking hours or more) without eating anything at all in order to influence your shape or weight?',\n",
    "             'Have you tried to exclude from your diet any foods that you like in order to influence your shape or weight (whether or not you have succeeded)?',\n",
    "             'Have you tried to follow definite rules regarding your eating (for example, a calorie limit) in order to influence your shape or weight (whether or not you have succeeded)?',\n",
    "             'Have you had a definite desire to have an empty stomach with the aim of influencing your shape or weight?',\n",
    "             'Have you had a definite desire to have a totally flat stomach?',\n",
    "             'Has thinking about food, eating or calories made it very difficult to concentrate on things you are interested in (for example, working, following a conversation, or reading)?',\n",
    "             'Has thinking about shape or weight made it very difficult to concentrate on things you are interested in (for example, working, following a conversation, or reading)?',\n",
    "             'Have you had a definite fear of losing control over eating?',\n",
    "             'Have you had a definite fear that you might gain weight?',\n",
    "             'Have you felt fat?',\n",
    "             'Have you had a strong desire to lose weight?',\n",
    "             'Over the past 28 days, on how many days have you eaten in secret (ie, furtively)? ... Do not count episodes of binge eating.',\n",
    "             'On what proportion of the times that you have eaten have you felt guilty (felt that you’ve done wrong) because of its effect on your shape or weight? ... Do not count episodes of binge eating.',\n",
    "             'Over the past 28 days, how concerned have you been about other people seeing you eat? ... Do not count episodes of binge eating',\n",
    "             'Has your weight influenced how you think about (judge) yourself as a person?',\n",
    "             'Has your shape influenced how you think about (judge) yourself as a person?',\n",
    "             'How much would it have upset you if you had been asked to weigh yourself once a week (no more, or less, often) for the next four weeks?',\n",
    "             'How dissatisfied have you been with your weight?',\n",
    "             'How dissatisfied have you been with your shape?',\n",
    "             'How uncomfortable have you felt seeing your body (for example, seeing your shape in the mirror, in a shop window reflection, while undressing or taking a bath or shower)?',\n",
    "             'How uncomfortable have you felt about others seeing your shape or figure (for example, in communal changing rooms, when swimming, or wearing tight clothes)?'\n",
    "]"
   ]
  },
  {
   "cell_type": "code",
   "execution_count": 4,
   "metadata": {},
   "outputs": [],
   "source": [
    "train_df = pd.read_csv('train.csv')"
   ]
  },
  {
   "cell_type": "code",
   "execution_count": 35,
   "metadata": {},
   "outputs": [],
   "source": [
    "def get_questions_dataframe(df, labels, questions):\n",
    "\n",
    "    questions_df = pd.DataFrame(columns=['Subject', 'text', 'question'])\n",
    "\n",
    "    for index, row in df.iterrows():\n",
    "        data = [{'Subject': row['Subject'], 'text': row['text'], 'question': question} for question in questions]\n",
    "        questions_df = pd.concat([questions_df, pd.DataFrame(data)])\n",
    "    \n",
    "    labels_linear = []\n",
    "\n",
    "    for i in range(len(labels)):\n",
    "        for j in range(22):\n",
    "            labels_linear.append(labels_train[i][j])\n",
    "\n",
    "    questions_df['label'] = labels_linear\n",
    "\n",
    "    return questions_df"
   ]
  },
  {
   "cell_type": "code",
   "execution_count": 43,
   "metadata": {},
   "outputs": [],
   "source": [
    "questions_df_train = get_questions_dataframe(train_df, labels_train, questions)"
   ]
  },
  {
   "cell_type": "code",
   "execution_count": 44,
   "metadata": {},
   "outputs": [
    {
     "data": {
      "text/plain": [
       "(1012, 4)"
      ]
     },
     "execution_count": 44,
     "metadata": {},
     "output_type": "execute_result"
    }
   ],
   "source": [
    "questions_df_train.shape"
   ]
  },
  {
   "cell_type": "code",
   "execution_count": 45,
   "metadata": {},
   "outputs": [
    {
     "data": {
      "text/html": [
       "<div>\n",
       "<style scoped>\n",
       "    .dataframe tbody tr th:only-of-type {\n",
       "        vertical-align: middle;\n",
       "    }\n",
       "\n",
       "    .dataframe tbody tr th {\n",
       "        vertical-align: top;\n",
       "    }\n",
       "\n",
       "    .dataframe thead th {\n",
       "        text-align: right;\n",
       "    }\n",
       "</style>\n",
       "<table border=\"1\" class=\"dataframe\">\n",
       "  <thead>\n",
       "    <tr style=\"text-align: right;\">\n",
       "      <th></th>\n",
       "      <th>Subject</th>\n",
       "      <th>text</th>\n",
       "      <th>question</th>\n",
       "      <th>label</th>\n",
       "    </tr>\n",
       "  </thead>\n",
       "  <tbody>\n",
       "    <tr>\n",
       "      <th>0</th>\n",
       "      <td>eRisk2023-T3_Subject1</td>\n",
       "      <td>idk mate since 1796 using vaccine still waitin...</td>\n",
       "      <td>Have you been deliberately trying to limit the...</td>\n",
       "      <td>2</td>\n",
       "    </tr>\n",
       "    <tr>\n",
       "      <th>1</th>\n",
       "      <td>eRisk2023-T3_Subject1</td>\n",
       "      <td>idk mate since 1796 using vaccine still waitin...</td>\n",
       "      <td>Have you gone for long periods of time (8 waki...</td>\n",
       "      <td>0</td>\n",
       "    </tr>\n",
       "    <tr>\n",
       "      <th>2</th>\n",
       "      <td>eRisk2023-T3_Subject1</td>\n",
       "      <td>idk mate since 1796 using vaccine still waitin...</td>\n",
       "      <td>Have you tried to exclude from your diet any f...</td>\n",
       "      <td>0</td>\n",
       "    </tr>\n",
       "    <tr>\n",
       "      <th>3</th>\n",
       "      <td>eRisk2023-T3_Subject1</td>\n",
       "      <td>idk mate since 1796 using vaccine still waitin...</td>\n",
       "      <td>Have you tried to follow definite rules regard...</td>\n",
       "      <td>0</td>\n",
       "    </tr>\n",
       "    <tr>\n",
       "      <th>4</th>\n",
       "      <td>eRisk2023-T3_Subject1</td>\n",
       "      <td>idk mate since 1796 using vaccine still waitin...</td>\n",
       "      <td>Have you had a definite desire to have an empt...</td>\n",
       "      <td>0</td>\n",
       "    </tr>\n",
       "  </tbody>\n",
       "</table>\n",
       "</div>"
      ],
      "text/plain": [
       "                 Subject                                               text  \\\n",
       "0  eRisk2023-T3_Subject1  idk mate since 1796 using vaccine still waitin...   \n",
       "1  eRisk2023-T3_Subject1  idk mate since 1796 using vaccine still waitin...   \n",
       "2  eRisk2023-T3_Subject1  idk mate since 1796 using vaccine still waitin...   \n",
       "3  eRisk2023-T3_Subject1  idk mate since 1796 using vaccine still waitin...   \n",
       "4  eRisk2023-T3_Subject1  idk mate since 1796 using vaccine still waitin...   \n",
       "\n",
       "                                            question  label  \n",
       "0  Have you been deliberately trying to limit the...      2  \n",
       "1  Have you gone for long periods of time (8 waki...      0  \n",
       "2  Have you tried to exclude from your diet any f...      0  \n",
       "3  Have you tried to follow definite rules regard...      0  \n",
       "4  Have you had a definite desire to have an empt...      0  "
      ]
     },
     "execution_count": 45,
     "metadata": {},
     "output_type": "execute_result"
    }
   ],
   "source": [
    "questions_df_train.head()"
   ]
  },
  {
   "cell_type": "code",
   "execution_count": null,
   "metadata": {},
   "outputs": [],
   "source": [
    "questions_df_train.to_csv('questions_df_train.csv', index=False)"
   ]
  },
  {
   "cell_type": "code",
   "execution_count": 33,
   "metadata": {},
   "outputs": [],
   "source": [
    "test_df = pd.read_csv('test.csv')"
   ]
  },
  {
   "cell_type": "code",
   "execution_count": 39,
   "metadata": {},
   "outputs": [],
   "source": [
    "questions_df_test = get_questions_dataframe(test_df, labels_test, questions)"
   ]
  },
  {
   "cell_type": "code",
   "execution_count": 40,
   "metadata": {},
   "outputs": [
    {
     "data": {
      "text/plain": [
       "(616, 4)"
      ]
     },
     "execution_count": 40,
     "metadata": {},
     "output_type": "execute_result"
    }
   ],
   "source": [
    "questions_df_test.shape"
   ]
  },
  {
   "cell_type": "code",
   "execution_count": 41,
   "metadata": {},
   "outputs": [],
   "source": [
    "questions_df_test.to_csv('questions_df_test.csv', index = False)"
   ]
  },
  {
   "cell_type": "markdown",
   "metadata": {},
   "source": [
    "# Working with New Dataset"
   ]
  },
  {
   "cell_type": "markdown",
   "metadata": {},
   "source": [
    "## Preprocess"
   ]
  },
  {
   "cell_type": "code",
   "execution_count": 42,
   "metadata": {},
   "outputs": [],
   "source": [
    "questions_df_train = pd.read_csv('questions_df_train.csv')"
   ]
  },
  {
   "cell_type": "code",
   "execution_count": 43,
   "metadata": {},
   "outputs": [],
   "source": [
    "questions_df_test = pd.read_csv('questions_df_test.csv')"
   ]
  },
  {
   "cell_type": "code",
   "execution_count": 44,
   "metadata": {},
   "outputs": [
    {
     "data": {
      "text/html": [
       "<div>\n",
       "<style scoped>\n",
       "    .dataframe tbody tr th:only-of-type {\n",
       "        vertical-align: middle;\n",
       "    }\n",
       "\n",
       "    .dataframe tbody tr th {\n",
       "        vertical-align: top;\n",
       "    }\n",
       "\n",
       "    .dataframe thead th {\n",
       "        text-align: right;\n",
       "    }\n",
       "</style>\n",
       "<table border=\"1\" class=\"dataframe\">\n",
       "  <thead>\n",
       "    <tr style=\"text-align: right;\">\n",
       "      <th></th>\n",
       "      <th>Subject</th>\n",
       "      <th>text</th>\n",
       "      <th>question</th>\n",
       "      <th>label</th>\n",
       "    </tr>\n",
       "  </thead>\n",
       "  <tbody>\n",
       "    <tr>\n",
       "      <th>0</th>\n",
       "      <td>eRisk2023-T3_Subject1</td>\n",
       "      <td>idk mate since 1796 using vaccine still waitin...</td>\n",
       "      <td>Have you been deliberately trying to limit the...</td>\n",
       "      <td>2</td>\n",
       "    </tr>\n",
       "    <tr>\n",
       "      <th>1</th>\n",
       "      <td>eRisk2023-T3_Subject1</td>\n",
       "      <td>idk mate since 1796 using vaccine still waitin...</td>\n",
       "      <td>Have you gone for long periods of time (8 waki...</td>\n",
       "      <td>0</td>\n",
       "    </tr>\n",
       "    <tr>\n",
       "      <th>2</th>\n",
       "      <td>eRisk2023-T3_Subject1</td>\n",
       "      <td>idk mate since 1796 using vaccine still waitin...</td>\n",
       "      <td>Have you tried to exclude from your diet any f...</td>\n",
       "      <td>0</td>\n",
       "    </tr>\n",
       "    <tr>\n",
       "      <th>3</th>\n",
       "      <td>eRisk2023-T3_Subject1</td>\n",
       "      <td>idk mate since 1796 using vaccine still waitin...</td>\n",
       "      <td>Have you tried to follow definite rules regard...</td>\n",
       "      <td>0</td>\n",
       "    </tr>\n",
       "    <tr>\n",
       "      <th>4</th>\n",
       "      <td>eRisk2023-T3_Subject1</td>\n",
       "      <td>idk mate since 1796 using vaccine still waitin...</td>\n",
       "      <td>Have you had a definite desire to have an empt...</td>\n",
       "      <td>0</td>\n",
       "    </tr>\n",
       "  </tbody>\n",
       "</table>\n",
       "</div>"
      ],
      "text/plain": [
       "                 Subject                                               text  \\\n",
       "0  eRisk2023-T3_Subject1  idk mate since 1796 using vaccine still waitin...   \n",
       "1  eRisk2023-T3_Subject1  idk mate since 1796 using vaccine still waitin...   \n",
       "2  eRisk2023-T3_Subject1  idk mate since 1796 using vaccine still waitin...   \n",
       "3  eRisk2023-T3_Subject1  idk mate since 1796 using vaccine still waitin...   \n",
       "4  eRisk2023-T3_Subject1  idk mate since 1796 using vaccine still waitin...   \n",
       "\n",
       "                                            question  label  \n",
       "0  Have you been deliberately trying to limit the...      2  \n",
       "1  Have you gone for long periods of time (8 waki...      0  \n",
       "2  Have you tried to exclude from your diet any f...      0  \n",
       "3  Have you tried to follow definite rules regard...      0  \n",
       "4  Have you had a definite desire to have an empt...      0  "
      ]
     },
     "execution_count": 44,
     "metadata": {},
     "output_type": "execute_result"
    }
   ],
   "source": [
    "questions_df_train.head()"
   ]
  },
  {
   "cell_type": "code",
   "execution_count": 45,
   "metadata": {},
   "outputs": [],
   "source": [
    "questions_df_train = data_preprocessing_question(questions_df_train)"
   ]
  },
  {
   "cell_type": "code",
   "execution_count": 46,
   "metadata": {},
   "outputs": [],
   "source": [
    "question_df_test = data_preprocessing_question(questions_df_test)"
   ]
  },
  {
   "cell_type": "code",
   "execution_count": 47,
   "metadata": {},
   "outputs": [
    {
     "data": {
      "text/html": [
       "<div>\n",
       "<style scoped>\n",
       "    .dataframe tbody tr th:only-of-type {\n",
       "        vertical-align: middle;\n",
       "    }\n",
       "\n",
       "    .dataframe tbody tr th {\n",
       "        vertical-align: top;\n",
       "    }\n",
       "\n",
       "    .dataframe thead th {\n",
       "        text-align: right;\n",
       "    }\n",
       "</style>\n",
       "<table border=\"1\" class=\"dataframe\">\n",
       "  <thead>\n",
       "    <tr style=\"text-align: right;\">\n",
       "      <th></th>\n",
       "      <th>Subject</th>\n",
       "      <th>text</th>\n",
       "      <th>question</th>\n",
       "      <th>label</th>\n",
       "    </tr>\n",
       "  </thead>\n",
       "  <tbody>\n",
       "    <tr>\n",
       "      <th>0</th>\n",
       "      <td>eRisk2023-T3_Subject1</td>\n",
       "      <td>idk mate since 1796 using vaccine still waitin...</td>\n",
       "      <td>deliberately trying limit amount food eat infl...</td>\n",
       "      <td>2</td>\n",
       "    </tr>\n",
       "    <tr>\n",
       "      <th>1</th>\n",
       "      <td>eRisk2023-T3_Subject1</td>\n",
       "      <td>idk mate since 1796 using vaccine still waitin...</td>\n",
       "      <td>gone long period time 8 waking hour without ea...</td>\n",
       "      <td>0</td>\n",
       "    </tr>\n",
       "    <tr>\n",
       "      <th>2</th>\n",
       "      <td>eRisk2023-T3_Subject1</td>\n",
       "      <td>idk mate since 1796 using vaccine still waitin...</td>\n",
       "      <td>tried exclude diet food like order influence s...</td>\n",
       "      <td>0</td>\n",
       "    </tr>\n",
       "    <tr>\n",
       "      <th>3</th>\n",
       "      <td>eRisk2023-T3_Subject1</td>\n",
       "      <td>idk mate since 1796 using vaccine still waitin...</td>\n",
       "      <td>tried follow definite rule regarding eating ex...</td>\n",
       "      <td>0</td>\n",
       "    </tr>\n",
       "    <tr>\n",
       "      <th>4</th>\n",
       "      <td>eRisk2023-T3_Subject1</td>\n",
       "      <td>idk mate since 1796 using vaccine still waitin...</td>\n",
       "      <td>definite desire empty stomach aim influencing ...</td>\n",
       "      <td>0</td>\n",
       "    </tr>\n",
       "  </tbody>\n",
       "</table>\n",
       "</div>"
      ],
      "text/plain": [
       "                 Subject                                               text  \\\n",
       "0  eRisk2023-T3_Subject1  idk mate since 1796 using vaccine still waitin...   \n",
       "1  eRisk2023-T3_Subject1  idk mate since 1796 using vaccine still waitin...   \n",
       "2  eRisk2023-T3_Subject1  idk mate since 1796 using vaccine still waitin...   \n",
       "3  eRisk2023-T3_Subject1  idk mate since 1796 using vaccine still waitin...   \n",
       "4  eRisk2023-T3_Subject1  idk mate since 1796 using vaccine still waitin...   \n",
       "\n",
       "                                            question  label  \n",
       "0  deliberately trying limit amount food eat infl...      2  \n",
       "1  gone long period time 8 waking hour without ea...      0  \n",
       "2  tried exclude diet food like order influence s...      0  \n",
       "3  tried follow definite rule regarding eating ex...      0  \n",
       "4  definite desire empty stomach aim influencing ...      0  "
      ]
     },
     "execution_count": 47,
     "metadata": {},
     "output_type": "execute_result"
    }
   ],
   "source": [
    "questions_df_train.head()"
   ]
  },
  {
   "cell_type": "code",
   "execution_count": 48,
   "metadata": {},
   "outputs": [
    {
     "data": {
      "text/html": [
       "<div>\n",
       "<style scoped>\n",
       "    .dataframe tbody tr th:only-of-type {\n",
       "        vertical-align: middle;\n",
       "    }\n",
       "\n",
       "    .dataframe tbody tr th {\n",
       "        vertical-align: top;\n",
       "    }\n",
       "\n",
       "    .dataframe thead th {\n",
       "        text-align: right;\n",
       "    }\n",
       "</style>\n",
       "<table border=\"1\" class=\"dataframe\">\n",
       "  <thead>\n",
       "    <tr style=\"text-align: right;\">\n",
       "      <th></th>\n",
       "      <th>Subject</th>\n",
       "      <th>text</th>\n",
       "      <th>question</th>\n",
       "      <th>label</th>\n",
       "    </tr>\n",
       "  </thead>\n",
       "  <tbody>\n",
       "    <tr>\n",
       "      <th>0</th>\n",
       "      <td>eRisk2022-T3_Subject1</td>\n",
       "      <td>thats thats post fucking utterly completely lo...</td>\n",
       "      <td>deliberately trying limit amount food eat infl...</td>\n",
       "      <td>2</td>\n",
       "    </tr>\n",
       "    <tr>\n",
       "      <th>1</th>\n",
       "      <td>eRisk2022-T3_Subject1</td>\n",
       "      <td>thats thats post fucking utterly completely lo...</td>\n",
       "      <td>gone long period time 8 waking hour without ea...</td>\n",
       "      <td>0</td>\n",
       "    </tr>\n",
       "    <tr>\n",
       "      <th>2</th>\n",
       "      <td>eRisk2022-T3_Subject1</td>\n",
       "      <td>thats thats post fucking utterly completely lo...</td>\n",
       "      <td>tried exclude diet food like order influence s...</td>\n",
       "      <td>0</td>\n",
       "    </tr>\n",
       "    <tr>\n",
       "      <th>3</th>\n",
       "      <td>eRisk2022-T3_Subject1</td>\n",
       "      <td>thats thats post fucking utterly completely lo...</td>\n",
       "      <td>tried follow definite rule regarding eating ex...</td>\n",
       "      <td>0</td>\n",
       "    </tr>\n",
       "    <tr>\n",
       "      <th>4</th>\n",
       "      <td>eRisk2022-T3_Subject1</td>\n",
       "      <td>thats thats post fucking utterly completely lo...</td>\n",
       "      <td>definite desire empty stomach aim influencing ...</td>\n",
       "      <td>0</td>\n",
       "    </tr>\n",
       "  </tbody>\n",
       "</table>\n",
       "</div>"
      ],
      "text/plain": [
       "                 Subject                                               text  \\\n",
       "0  eRisk2022-T3_Subject1  thats thats post fucking utterly completely lo...   \n",
       "1  eRisk2022-T3_Subject1  thats thats post fucking utterly completely lo...   \n",
       "2  eRisk2022-T3_Subject1  thats thats post fucking utterly completely lo...   \n",
       "3  eRisk2022-T3_Subject1  thats thats post fucking utterly completely lo...   \n",
       "4  eRisk2022-T3_Subject1  thats thats post fucking utterly completely lo...   \n",
       "\n",
       "                                            question  label  \n",
       "0  deliberately trying limit amount food eat infl...      2  \n",
       "1  gone long period time 8 waking hour without ea...      0  \n",
       "2  tried exclude diet food like order influence s...      0  \n",
       "3  tried follow definite rule regarding eating ex...      0  \n",
       "4  definite desire empty stomach aim influencing ...      0  "
      ]
     },
     "execution_count": 48,
     "metadata": {},
     "output_type": "execute_result"
    }
   ],
   "source": [
    "questions_df_test.head()"
   ]
  },
  {
   "cell_type": "markdown",
   "metadata": {},
   "source": [
    "## Naive Bayes"
   ]
  },
  {
   "cell_type": "code",
   "execution_count": 57,
   "metadata": {},
   "outputs": [],
   "source": [
    "from sklearn.naive_bayes import MultinomialNB\n",
    "from sklearn.pipeline import Pipeline\n",
    "from sklearn.feature_extraction.text import TfidfTransformer\n",
    "from sklearn.feature_extraction.text import CountVectorizer\n",
    "\n",
    "def multinomial_naves_bayes_new(labels_train, labels_test, df_train, df_test):\n",
    "    # Concatenate text and question columns to create combined text\n",
    "    df_train['combined_text'] = df_train['text'] + ' ' + df_train['question']\n",
    "    df_test['combined_text'] = df_test['text'] + ' ' + df_test['question']\n",
    "\n",
    "    nb = Pipeline([('vect', CountVectorizer()),\n",
    "                   ('tfidf', TfidfTransformer()),\n",
    "                   ('clf', MultinomialNB()),\n",
    "                  ])\n",
    "\n",
    "    # Train the model\n",
    "    X_train = df_train['combined_text']\n",
    "    y_train = labels_train\n",
    "    nb.fit(X_train, y_train)\n",
    "\n",
    "    # Test the model\n",
    "    X_test = df_test['combined_text']\n",
    "    y_pred = nb.predict(X_test)\n",
    "\n",
    "    return y_pred"
   ]
  },
  {
   "cell_type": "markdown",
   "metadata": {},
   "source": [
    "## Linear Support Vector Machine"
   ]
  },
  {
   "cell_type": "code",
   "execution_count": 79,
   "metadata": {},
   "outputs": [],
   "source": [
    "from sklearn.linear_model import SGDClassifier\n",
    "\n",
    "def linear_SVM_new(labels_train, labels_test, df_train, df_test):\n",
    "\n",
    "    df_train['combined_text'] = df_train['text'] + ' ' + df_train['question']\n",
    "    df_test['combined_text'] = df_test['text'] + ' ' + df_test['question']\n",
    "\n",
    "    sgd = Pipeline([('vect', CountVectorizer()),\n",
    "                ('tfidf', TfidfTransformer()),\n",
    "                ('clf', SGDClassifier(loss='hinge', penalty='l2',alpha=1e-3, random_state=42, max_iter=5, tol=None)),\n",
    "               ])\n",
    "\n",
    "    # Train the model\n",
    "    X_train = df_train['combined_text']\n",
    "    y_train = labels_train\n",
    "    sgd.fit(X_train, y_train)\n",
    "\n",
    "    # Test the model\n",
    "    X_test = df_test['combined_text']\n",
    "    y_pred = sgd.predict(X_test)\n",
    "\n",
    "    return y_pred"
   ]
  },
  {
   "cell_type": "markdown",
   "metadata": {},
   "source": [
    "## Logistic Regression"
   ]
  },
  {
   "cell_type": "code",
   "execution_count": 85,
   "metadata": {},
   "outputs": [],
   "source": [
    "from sklearn.linear_model import LogisticRegression\n",
    "\n",
    "def logistic_regression_new(labels_train, labels_test, df_train, df_test):\n",
    "\n",
    "    df_train['combined_text'] = df_train['text'] + ' ' + df_train['question']\n",
    "    df_test['combined_text'] = df_test['text'] + ' ' + df_test['question']\n",
    "\n",
    "    logreg = Pipeline([('vect', CountVectorizer()),\n",
    "                ('tfidf', TfidfTransformer()),\n",
    "                ('clf', LogisticRegression(n_jobs=1, C=1e5)),\n",
    "               ])\n",
    "\n",
    "    # Train the model\n",
    "    X_train = df_train['combined_text']\n",
    "    y_train = labels_train\n",
    "    logreg.fit(X_train, y_train)\n",
    "\n",
    "    # Test the model\n",
    "    X_test = df_test['combined_text']\n",
    "    y_pred = logreg.predict(X_test)\n",
    "\n",
    "    return y_pred"
   ]
  },
  {
   "cell_type": "markdown",
   "metadata": {},
   "source": [
    "## Predictions"
   ]
  },
  {
   "cell_type": "code",
   "execution_count": 146,
   "metadata": {},
   "outputs": [],
   "source": [
    "def flatten_labels(labels):\n",
    "\n",
    "    labels_flattened = []\n",
    "\n",
    "    for i in range (len(labels)):\n",
    "        for j in range (len(labels[0])):\n",
    "            labels_flattened.append(labels[i][j])\n",
    "\n",
    "    return labels_flattened"
   ]
  },
  {
   "cell_type": "code",
   "execution_count": 147,
   "metadata": {},
   "outputs": [],
   "source": [
    "train_labels_one_d = flatten_labels(labels_train)\n",
    "test_labels_one_d = flatten_labels(labels_test)"
   ]
  },
  {
   "cell_type": "code",
   "execution_count": 60,
   "metadata": {},
   "outputs": [],
   "source": [
    "y_pred_multinomial_naive_bayes = multinomial_naves_bayes_new(train_labels_one_d, test_labels_one_d, questions_df_train, questions_df_test)"
   ]
  },
  {
   "cell_type": "code",
   "execution_count": 62,
   "metadata": {},
   "outputs": [
    {
     "name": "stdout",
     "output_type": "stream",
     "text": [
      "616\n"
     ]
    }
   ],
   "source": [
    "print(len(y_pred_multinomial_naive_bayes))"
   ]
  },
  {
   "cell_type": "code",
   "execution_count": 63,
   "metadata": {},
   "outputs": [],
   "source": [
    "y_pred_2d = np.array(y_pred_multinomial_naive_bayes).reshape(28, 22)"
   ]
  },
  {
   "cell_type": "code",
   "execution_count": 66,
   "metadata": {},
   "outputs": [
    {
     "name": "stdout",
     "output_type": "stream",
     "text": [
      "<class 'list'>\n"
     ]
    }
   ],
   "source": [
    "y_pred_2d_list = y_pred_2d.tolist()"
   ]
  },
  {
   "cell_type": "code",
   "execution_count": 78,
   "metadata": {},
   "outputs": [
    {
     "name": "stdout",
     "output_type": "stream",
     "text": [
      "Mean Zero-One Error:  0.814935064935065\n",
      "Mean Absolute Error:  3.3603896103896105\n",
      "Macroaveraged Mean Absolute Error:  2.2857142857142856\n",
      "Restrained Subscale:  3.6942039544593173\n",
      "Eating Concern Subscale:  3.1845609699656516\n",
      "Shape Concern Subscale:  4.278006461626056\n",
      "Weight Concern Subscale:  3.8234240450898755\n",
      "Global ED:  3.676851301191201\n"
     ]
    }
   ],
   "source": [
    "find_all_metrics(labels_test_np, y_pred_2d)"
   ]
  },
  {
   "cell_type": "code",
   "execution_count": 80,
   "metadata": {},
   "outputs": [],
   "source": [
    "y_pred_linear_svm = linear_SVM_new(train_labels_one_d, test_labels_one_d, questions_df_train, questions_df_test)"
   ]
  },
  {
   "cell_type": "code",
   "execution_count": 81,
   "metadata": {},
   "outputs": [],
   "source": [
    "y_pred_2d_lin_svm = np.array(y_pred_linear_svm).reshape(28, 22)"
   ]
  },
  {
   "cell_type": "code",
   "execution_count": 82,
   "metadata": {},
   "outputs": [
    {
     "name": "stdout",
     "output_type": "stream",
     "text": [
      "Mean Zero-One Error:  0.6185064935064934\n",
      "Mean Absolute Error:  2.126623376623377\n",
      "Macroaveraged Mean Absolute Error:  1.9740038872691936\n",
      "Restrained Subscale:  3.0708305065568178\n",
      "Eating Concern Subscale:  2.7137217459212195\n",
      "Shape Concern Subscale:  2.48746859276655\n",
      "Weight Concern Subscale:  2.497141222621237\n",
      "Global ED:  2.5695026269688843\n"
     ]
    }
   ],
   "source": [
    "find_all_metrics(labels_test_np, y_pred_2d_lin_svm)"
   ]
  },
  {
   "cell_type": "code",
   "execution_count": 86,
   "metadata": {},
   "outputs": [
    {
     "name": "stderr",
     "output_type": "stream",
     "text": [
      "c:\\Users\\91900\\AppData\\Local\\Programs\\Python\\Python310\\lib\\site-packages\\sklearn\\linear_model\\_logistic.py:460: ConvergenceWarning: lbfgs failed to converge (status=1):\n",
      "STOP: TOTAL NO. of ITERATIONS REACHED LIMIT.\n",
      "\n",
      "Increase the number of iterations (max_iter) or scale the data as shown in:\n",
      "    https://scikit-learn.org/stable/modules/preprocessing.html\n",
      "Please also refer to the documentation for alternative solver options:\n",
      "    https://scikit-learn.org/stable/modules/linear_model.html#logistic-regression\n",
      "  n_iter_i = _check_optimize_result(\n"
     ]
    }
   ],
   "source": [
    "y_pred_logreg = logistic_regression_new(train_labels_one_d, test_labels_one_d, questions_df_train, questions_df_test)"
   ]
  },
  {
   "cell_type": "code",
   "execution_count": 87,
   "metadata": {},
   "outputs": [],
   "source": [
    "y_pred_logreg_2d = np.array(y_pred_logreg).reshape(28, 22)"
   ]
  },
  {
   "cell_type": "code",
   "execution_count": 88,
   "metadata": {},
   "outputs": [
    {
     "name": "stdout",
     "output_type": "stream",
     "text": [
      "Mean Zero-One Error:  0.7305194805194807\n",
      "Mean Absolute Error:  2.399350649350649\n",
      "Macroaveraged Mean Absolute Error:  1.7905143627854423\n",
      "Restrained Subscale:  2.991893810185878\n",
      "Eating Concern Subscale:  2.5809743453642793\n",
      "Shape Concern Subscale:  2.907041942790447\n",
      "Weight Concern Subscale:  2.52445184997796\n",
      "Global ED:  2.6128695056530145\n"
     ]
    }
   ],
   "source": [
    "find_all_metrics(labels_test_np, y_pred_logreg_2d)"
   ]
  },
  {
   "cell_type": "markdown",
   "metadata": {},
   "source": [
    "# Final Table"
   ]
  },
  {
   "cell_type": "code",
   "execution_count": 93,
   "metadata": {},
   "outputs": [
    {
     "name": "stderr",
     "output_type": "stream",
     "text": [
      "C:\\Users\\91900\\AppData\\Local\\Temp\\ipykernel_26472\\863126563.py:3: FutureWarning: The frame.append method is deprecated and will be removed from pandas in a future version. Use pandas.concat instead.\n",
      "  summary_df_2 = summary_df_2.append({'Model': 'Multinomial Naive Bayes', 'MAE': mean_absolute_error(labels_test_np, y_pred_2d), 'MZOE': mean_zero_one_error(labels_test_np, y_pred_2d), 'MAE_macro': macroaveraged_mean_absolute_error(labels_test_np, y_pred_2d), 'GED': global_ED(labels_test_np, y_pred_2d), 'RS': restrained_subscale(labels_test_np, y_pred_2d), 'ECS': eating_concern_subscale(labels_test_np, y_pred_2d), 'SCS': shape_concern_subscale(labels_test_np, y_pred_2d), 'WCS': weight_concern_subscale(labels_test_np, y_pred_2d)}, ignore_index=True)\n",
      "C:\\Users\\91900\\AppData\\Local\\Temp\\ipykernel_26472\\863126563.py:4: FutureWarning: The frame.append method is deprecated and will be removed from pandas in a future version. Use pandas.concat instead.\n",
      "  summary_df_2 = summary_df_2.append({'Model': 'Linear Support Vector Machine', 'MAE': mean_absolute_error(labels_test_np, y_pred_2d_lin_svm), 'MZOE': mean_zero_one_error(labels_test_np, y_pred_2d_lin_svm), 'MAE_macro': macroaveraged_mean_absolute_error(labels_test_np, y_pred_2d_lin_svm), 'GED': global_ED(labels_test_np, y_pred_2d_lin_svm), 'RS': restrained_subscale(labels_test_np, y_pred_2d_lin_svm), 'ECS': eating_concern_subscale(labels_test_np, y_pred_2d_lin_svm), 'SCS': shape_concern_subscale(labels_test_np, y_pred_2d_lin_svm), 'WCS': weight_concern_subscale(labels_test_np, y_pred_2d_lin_svm)}, ignore_index=True)\n",
      "C:\\Users\\91900\\AppData\\Local\\Temp\\ipykernel_26472\\863126563.py:5: FutureWarning: The frame.append method is deprecated and will be removed from pandas in a future version. Use pandas.concat instead.\n",
      "  summary_df_2 = summary_df_2.append({'Model': 'Logistic Regression', 'MAE': mean_absolute_error(labels_test_np, y_pred_logreg_2d), 'MZOE': mean_zero_one_error(labels_test_np, y_pred_logreg_2d), 'MAE_macro': macroaveraged_mean_absolute_error(labels_test_np, y_pred_logreg_2d), 'GED': global_ED(labels_test_np, y_pred_logreg_2d), 'RS': restrained_subscale(labels_test_np, y_pred_logreg_2d), 'ECS': eating_concern_subscale(labels_test_np, y_pred_logreg_2d), 'SCS': shape_concern_subscale(labels_test_np, y_pred_logreg_2d), 'WCS': weight_concern_subscale(labels_test_np, y_pred_logreg_2d)}, ignore_index=True)\n"
     ]
    }
   ],
   "source": [
    "summary_df_2 = pd.DataFrame(columns=['Model', 'MAE', 'MZOE', 'MAE_macro', 'GED', 'RS', 'ECS', 'SCS', 'WCS'])\n",
    "\n",
    "summary_df_2 = summary_df_2.append({'Model': 'Multinomial Naive Bayes', 'MAE': mean_absolute_error(labels_test_np, y_pred_2d), 'MZOE': mean_zero_one_error(labels_test_np, y_pred_2d), 'MAE_macro': macroaveraged_mean_absolute_error(labels_test_np, y_pred_2d), 'GED': global_ED(labels_test_np, y_pred_2d), 'RS': restrained_subscale(labels_test_np, y_pred_2d), 'ECS': eating_concern_subscale(labels_test_np, y_pred_2d), 'SCS': shape_concern_subscale(labels_test_np, y_pred_2d), 'WCS': weight_concern_subscale(labels_test_np, y_pred_2d)}, ignore_index=True)\n",
    "summary_df_2 = summary_df_2.append({'Model': 'Linear Support Vector Machine', 'MAE': mean_absolute_error(labels_test_np, y_pred_2d_lin_svm), 'MZOE': mean_zero_one_error(labels_test_np, y_pred_2d_lin_svm), 'MAE_macro': macroaveraged_mean_absolute_error(labels_test_np, y_pred_2d_lin_svm), 'GED': global_ED(labels_test_np, y_pred_2d_lin_svm), 'RS': restrained_subscale(labels_test_np, y_pred_2d_lin_svm), 'ECS': eating_concern_subscale(labels_test_np, y_pred_2d_lin_svm), 'SCS': shape_concern_subscale(labels_test_np, y_pred_2d_lin_svm), 'WCS': weight_concern_subscale(labels_test_np, y_pred_2d_lin_svm)}, ignore_index=True)\n",
    "summary_df_2 = summary_df_2.append({'Model': 'Logistic Regression', 'MAE': mean_absolute_error(labels_test_np, y_pred_logreg_2d), 'MZOE': mean_zero_one_error(labels_test_np, y_pred_logreg_2d), 'MAE_macro': macroaveraged_mean_absolute_error(labels_test_np, y_pred_logreg_2d), 'GED': global_ED(labels_test_np, y_pred_logreg_2d), 'RS': restrained_subscale(labels_test_np, y_pred_logreg_2d), 'ECS': eating_concern_subscale(labels_test_np, y_pred_logreg_2d), 'SCS': shape_concern_subscale(labels_test_np, y_pred_logreg_2d), 'WCS': weight_concern_subscale(labels_test_np, y_pred_logreg_2d)}, ignore_index=True)"
   ]
  },
  {
   "cell_type": "code",
   "execution_count": 94,
   "metadata": {},
   "outputs": [
    {
     "data": {
      "text/html": [
       "<div>\n",
       "<style scoped>\n",
       "    .dataframe tbody tr th:only-of-type {\n",
       "        vertical-align: middle;\n",
       "    }\n",
       "\n",
       "    .dataframe tbody tr th {\n",
       "        vertical-align: top;\n",
       "    }\n",
       "\n",
       "    .dataframe thead th {\n",
       "        text-align: right;\n",
       "    }\n",
       "</style>\n",
       "<table border=\"1\" class=\"dataframe\">\n",
       "  <thead>\n",
       "    <tr style=\"text-align: right;\">\n",
       "      <th></th>\n",
       "      <th>Model</th>\n",
       "      <th>MAE</th>\n",
       "      <th>MZOE</th>\n",
       "      <th>MAE_macro</th>\n",
       "      <th>GED</th>\n",
       "      <th>RS</th>\n",
       "      <th>ECS</th>\n",
       "      <th>SCS</th>\n",
       "      <th>WCS</th>\n",
       "    </tr>\n",
       "  </thead>\n",
       "  <tbody>\n",
       "    <tr>\n",
       "      <th>0</th>\n",
       "      <td>Multinomial Naive Bayes</td>\n",
       "      <td>3.360390</td>\n",
       "      <td>0.814935</td>\n",
       "      <td>2.285714</td>\n",
       "      <td>3.676851</td>\n",
       "      <td>3.694204</td>\n",
       "      <td>3.184561</td>\n",
       "      <td>4.278006</td>\n",
       "      <td>3.823424</td>\n",
       "    </tr>\n",
       "    <tr>\n",
       "      <th>1</th>\n",
       "      <td>Linear Support Vector Machine</td>\n",
       "      <td>2.126623</td>\n",
       "      <td>0.618506</td>\n",
       "      <td>1.974004</td>\n",
       "      <td>2.569503</td>\n",
       "      <td>3.070831</td>\n",
       "      <td>2.713722</td>\n",
       "      <td>2.487469</td>\n",
       "      <td>2.497141</td>\n",
       "    </tr>\n",
       "    <tr>\n",
       "      <th>2</th>\n",
       "      <td>Logistic Regression</td>\n",
       "      <td>2.399351</td>\n",
       "      <td>0.730519</td>\n",
       "      <td>1.790514</td>\n",
       "      <td>2.612870</td>\n",
       "      <td>2.991894</td>\n",
       "      <td>2.580974</td>\n",
       "      <td>2.907042</td>\n",
       "      <td>2.524452</td>\n",
       "    </tr>\n",
       "  </tbody>\n",
       "</table>\n",
       "</div>"
      ],
      "text/plain": [
       "                           Model       MAE      MZOE  MAE_macro       GED  \\\n",
       "0        Multinomial Naive Bayes  3.360390  0.814935   2.285714  3.676851   \n",
       "1  Linear Support Vector Machine  2.126623  0.618506   1.974004  2.569503   \n",
       "2            Logistic Regression  2.399351  0.730519   1.790514  2.612870   \n",
       "\n",
       "         RS       ECS       SCS       WCS  \n",
       "0  3.694204  3.184561  4.278006  3.823424  \n",
       "1  3.070831  2.713722  2.487469  2.497141  \n",
       "2  2.991894  2.580974  2.907042  2.524452  "
      ]
     },
     "execution_count": 94,
     "metadata": {},
     "output_type": "execute_result"
    }
   ],
   "source": [
    "summary_df_2"
   ]
  },
  {
   "cell_type": "code",
   "execution_count": 98,
   "metadata": {},
   "outputs": [],
   "source": [
    "summary_df_2.to_csv('summary_2.csv', index=False)"
   ]
  },
  {
   "cell_type": "markdown",
   "metadata": {},
   "source": [
    "# Word Embeddings"
   ]
  },
  {
   "cell_type": "markdown",
   "metadata": {},
   "source": [
    "## Word2Vec"
   ]
  },
  {
   "cell_type": "code",
   "execution_count": 116,
   "metadata": {},
   "outputs": [],
   "source": [
    "word_vectors = KeyedVectors.load_word2vec_format('googlewordemb/GoogleNews-vectors-negative300.bin', binary=True)"
   ]
  },
  {
   "cell_type": "code",
   "execution_count": 117,
   "metadata": {},
   "outputs": [],
   "source": [
    "def preprocess_text(text):\n",
    "    stop_words = set(stopwords.words('english'))\n",
    "    # Tokenize\n",
    "    tokens = word_tokenize(text)\n",
    "    # Convert to lowercase\n",
    "    tokens = [word.lower() for word in tokens]\n",
    "    # Remove punctuation\n",
    "    tokens = [word for word in tokens if word.isalpha()]\n",
    "    # Remove stopwords\n",
    "    tokens = [word for word in tokens if not word in stop_words]\n",
    "    return tokens"
   ]
  },
  {
   "cell_type": "code",
   "execution_count": 118,
   "metadata": {},
   "outputs": [],
   "source": [
    "def text_to_embeddings(text):\n",
    "    tokens = preprocess_text(text)\n",
    "    embeddings = []\n",
    "    for token in tokens:\n",
    "        if token in word_vectors:\n",
    "            embeddings.append(word_vectors[token])\n",
    "    if not embeddings:\n",
    "        # If no embeddings found, return zeros\n",
    "        return np.zeros(300)\n",
    "    else:\n",
    "        # Average the embeddings for all tokens\n",
    "        return np.mean(embeddings, axis=0)"
   ]
  },
  {
   "cell_type": "code",
   "execution_count": 116,
   "metadata": {},
   "outputs": [],
   "source": [
    "questions_df_train = pd.read_csv('questions_df_train.csv')"
   ]
  },
  {
   "cell_type": "code",
   "execution_count": 117,
   "metadata": {},
   "outputs": [],
   "source": [
    "questions_df_train['finaltext'] = questions_df_train['text'] + ' ' + questions_df_train['question']"
   ]
  },
  {
   "cell_type": "code",
   "execution_count": 118,
   "metadata": {},
   "outputs": [],
   "source": [
    "questions_df_train['embeddings'] = questions_df_train['finaltext'].apply(text_to_embeddings)"
   ]
  },
  {
   "cell_type": "code",
   "execution_count": 119,
   "metadata": {},
   "outputs": [
    {
     "data": {
      "text/html": [
       "<div>\n",
       "<style scoped>\n",
       "    .dataframe tbody tr th:only-of-type {\n",
       "        vertical-align: middle;\n",
       "    }\n",
       "\n",
       "    .dataframe tbody tr th {\n",
       "        vertical-align: top;\n",
       "    }\n",
       "\n",
       "    .dataframe thead th {\n",
       "        text-align: right;\n",
       "    }\n",
       "</style>\n",
       "<table border=\"1\" class=\"dataframe\">\n",
       "  <thead>\n",
       "    <tr style=\"text-align: right;\">\n",
       "      <th></th>\n",
       "      <th>Subject</th>\n",
       "      <th>text</th>\n",
       "      <th>question</th>\n",
       "      <th>label</th>\n",
       "      <th>finaltext</th>\n",
       "      <th>embeddings</th>\n",
       "    </tr>\n",
       "  </thead>\n",
       "  <tbody>\n",
       "    <tr>\n",
       "      <th>0</th>\n",
       "      <td>eRisk2023-T3_Subject1</td>\n",
       "      <td>idk mate since 1796 using vaccine still waitin...</td>\n",
       "      <td>Have you been deliberately trying to limit the...</td>\n",
       "      <td>2</td>\n",
       "      <td>idk mate since 1796 using vaccine still waitin...</td>\n",
       "      <td>[0.03400013, 0.023241315, 0.014655367, 0.09442...</td>\n",
       "    </tr>\n",
       "    <tr>\n",
       "      <th>1</th>\n",
       "      <td>eRisk2023-T3_Subject1</td>\n",
       "      <td>idk mate since 1796 using vaccine still waitin...</td>\n",
       "      <td>Have you gone for long periods of time (8 waki...</td>\n",
       "      <td>0</td>\n",
       "      <td>idk mate since 1796 using vaccine still waitin...</td>\n",
       "      <td>[0.033861037, 0.023289423, 0.014571838, 0.0944...</td>\n",
       "    </tr>\n",
       "    <tr>\n",
       "      <th>2</th>\n",
       "      <td>eRisk2023-T3_Subject1</td>\n",
       "      <td>idk mate since 1796 using vaccine still waitin...</td>\n",
       "      <td>Have you tried to exclude from your diet any f...</td>\n",
       "      <td>0</td>\n",
       "      <td>idk mate since 1796 using vaccine still waitin...</td>\n",
       "      <td>[0.03396365, 0.023302507, 0.014678202, 0.09443...</td>\n",
       "    </tr>\n",
       "    <tr>\n",
       "      <th>3</th>\n",
       "      <td>eRisk2023-T3_Subject1</td>\n",
       "      <td>idk mate since 1796 using vaccine still waitin...</td>\n",
       "      <td>Have you tried to follow definite rules regard...</td>\n",
       "      <td>0</td>\n",
       "      <td>idk mate since 1796 using vaccine still waitin...</td>\n",
       "      <td>[0.03396574, 0.023225555, 0.014704033, 0.09439...</td>\n",
       "    </tr>\n",
       "    <tr>\n",
       "      <th>4</th>\n",
       "      <td>eRisk2023-T3_Subject1</td>\n",
       "      <td>idk mate since 1796 using vaccine still waitin...</td>\n",
       "      <td>Have you had a definite desire to have an empt...</td>\n",
       "      <td>0</td>\n",
       "      <td>idk mate since 1796 using vaccine still waitin...</td>\n",
       "      <td>[0.03393882, 0.023243697, 0.014618031, 0.09438...</td>\n",
       "    </tr>\n",
       "  </tbody>\n",
       "</table>\n",
       "</div>"
      ],
      "text/plain": [
       "                 Subject                                               text  \\\n",
       "0  eRisk2023-T3_Subject1  idk mate since 1796 using vaccine still waitin...   \n",
       "1  eRisk2023-T3_Subject1  idk mate since 1796 using vaccine still waitin...   \n",
       "2  eRisk2023-T3_Subject1  idk mate since 1796 using vaccine still waitin...   \n",
       "3  eRisk2023-T3_Subject1  idk mate since 1796 using vaccine still waitin...   \n",
       "4  eRisk2023-T3_Subject1  idk mate since 1796 using vaccine still waitin...   \n",
       "\n",
       "                                            question  label  \\\n",
       "0  Have you been deliberately trying to limit the...      2   \n",
       "1  Have you gone for long periods of time (8 waki...      0   \n",
       "2  Have you tried to exclude from your diet any f...      0   \n",
       "3  Have you tried to follow definite rules regard...      0   \n",
       "4  Have you had a definite desire to have an empt...      0   \n",
       "\n",
       "                                           finaltext  \\\n",
       "0  idk mate since 1796 using vaccine still waitin...   \n",
       "1  idk mate since 1796 using vaccine still waitin...   \n",
       "2  idk mate since 1796 using vaccine still waitin...   \n",
       "3  idk mate since 1796 using vaccine still waitin...   \n",
       "4  idk mate since 1796 using vaccine still waitin...   \n",
       "\n",
       "                                          embeddings  \n",
       "0  [0.03400013, 0.023241315, 0.014655367, 0.09442...  \n",
       "1  [0.033861037, 0.023289423, 0.014571838, 0.0944...  \n",
       "2  [0.03396365, 0.023302507, 0.014678202, 0.09443...  \n",
       "3  [0.03396574, 0.023225555, 0.014704033, 0.09439...  \n",
       "4  [0.03393882, 0.023243697, 0.014618031, 0.09438...  "
      ]
     },
     "execution_count": 119,
     "metadata": {},
     "output_type": "execute_result"
    }
   ],
   "source": [
    "questions_df_train.head()"
   ]
  },
  {
   "cell_type": "code",
   "execution_count": 121,
   "metadata": {},
   "outputs": [],
   "source": [
    "X_train = np.vstack(questions_df_train['embeddings'].values)\n",
    "y_train = questions_df_train['label'] "
   ]
  },
  {
   "cell_type": "code",
   "execution_count": 126,
   "metadata": {},
   "outputs": [],
   "source": [
    "question_df_test = pd.read_csv('questions_df_test.csv')"
   ]
  },
  {
   "cell_type": "code",
   "execution_count": 127,
   "metadata": {},
   "outputs": [],
   "source": [
    "questions_df_test['finaltext'] = questions_df_test['text'] + ' ' + questions_df_test['question']"
   ]
  },
  {
   "cell_type": "code",
   "execution_count": 128,
   "metadata": {},
   "outputs": [],
   "source": [
    "questions_df_test['embeddings'] = questions_df_test['finaltext'].apply(text_to_embeddings)"
   ]
  },
  {
   "cell_type": "code",
   "execution_count": 129,
   "metadata": {},
   "outputs": [],
   "source": [
    "X_test = np.vstack(questions_df_test['embeddings'].values)"
   ]
  },
  {
   "cell_type": "markdown",
   "metadata": {},
   "source": [
    "## Logistic Regression"
   ]
  },
  {
   "cell_type": "code",
   "execution_count": 167,
   "metadata": {},
   "outputs": [
    {
     "data": {
      "text/html": [
       "<style>#sk-container-id-3 {color: black;}#sk-container-id-3 pre{padding: 0;}#sk-container-id-3 div.sk-toggleable {background-color: white;}#sk-container-id-3 label.sk-toggleable__label {cursor: pointer;display: block;width: 100%;margin-bottom: 0;padding: 0.3em;box-sizing: border-box;text-align: center;}#sk-container-id-3 label.sk-toggleable__label-arrow:before {content: \"▸\";float: left;margin-right: 0.25em;color: #696969;}#sk-container-id-3 label.sk-toggleable__label-arrow:hover:before {color: black;}#sk-container-id-3 div.sk-estimator:hover label.sk-toggleable__label-arrow:before {color: black;}#sk-container-id-3 div.sk-toggleable__content {max-height: 0;max-width: 0;overflow: hidden;text-align: left;background-color: #f0f8ff;}#sk-container-id-3 div.sk-toggleable__content pre {margin: 0.2em;color: black;border-radius: 0.25em;background-color: #f0f8ff;}#sk-container-id-3 input.sk-toggleable__control:checked~div.sk-toggleable__content {max-height: 200px;max-width: 100%;overflow: auto;}#sk-container-id-3 input.sk-toggleable__control:checked~label.sk-toggleable__label-arrow:before {content: \"▾\";}#sk-container-id-3 div.sk-estimator input.sk-toggleable__control:checked~label.sk-toggleable__label {background-color: #d4ebff;}#sk-container-id-3 div.sk-label input.sk-toggleable__control:checked~label.sk-toggleable__label {background-color: #d4ebff;}#sk-container-id-3 input.sk-hidden--visually {border: 0;clip: rect(1px 1px 1px 1px);clip: rect(1px, 1px, 1px, 1px);height: 1px;margin: -1px;overflow: hidden;padding: 0;position: absolute;width: 1px;}#sk-container-id-3 div.sk-estimator {font-family: monospace;background-color: #f0f8ff;border: 1px dotted black;border-radius: 0.25em;box-sizing: border-box;margin-bottom: 0.5em;}#sk-container-id-3 div.sk-estimator:hover {background-color: #d4ebff;}#sk-container-id-3 div.sk-parallel-item::after {content: \"\";width: 100%;border-bottom: 1px solid gray;flex-grow: 1;}#sk-container-id-3 div.sk-label:hover label.sk-toggleable__label {background-color: #d4ebff;}#sk-container-id-3 div.sk-serial::before {content: \"\";position: absolute;border-left: 1px solid gray;box-sizing: border-box;top: 0;bottom: 0;left: 50%;z-index: 0;}#sk-container-id-3 div.sk-serial {display: flex;flex-direction: column;align-items: center;background-color: white;padding-right: 0.2em;padding-left: 0.2em;position: relative;}#sk-container-id-3 div.sk-item {position: relative;z-index: 1;}#sk-container-id-3 div.sk-parallel {display: flex;align-items: stretch;justify-content: center;background-color: white;position: relative;}#sk-container-id-3 div.sk-item::before, #sk-container-id-3 div.sk-parallel-item::before {content: \"\";position: absolute;border-left: 1px solid gray;box-sizing: border-box;top: 0;bottom: 0;left: 50%;z-index: -1;}#sk-container-id-3 div.sk-parallel-item {display: flex;flex-direction: column;z-index: 1;position: relative;background-color: white;}#sk-container-id-3 div.sk-parallel-item:first-child::after {align-self: flex-end;width: 50%;}#sk-container-id-3 div.sk-parallel-item:last-child::after {align-self: flex-start;width: 50%;}#sk-container-id-3 div.sk-parallel-item:only-child::after {width: 0;}#sk-container-id-3 div.sk-dashed-wrapped {border: 1px dashed gray;margin: 0 0.4em 0.5em 0.4em;box-sizing: border-box;padding-bottom: 0.4em;background-color: white;}#sk-container-id-3 div.sk-label label {font-family: monospace;font-weight: bold;display: inline-block;line-height: 1.2em;}#sk-container-id-3 div.sk-label-container {text-align: center;}#sk-container-id-3 div.sk-container {/* jupyter's `normalize.less` sets `[hidden] { display: none; }` but bootstrap.min.css set `[hidden] { display: none !important; }` so we also need the `!important` here to be able to override the default hidden behavior on the sphinx rendered scikit-learn.org. See: https://github.com/scikit-learn/scikit-learn/issues/21755 */display: inline-block !important;position: relative;}#sk-container-id-3 div.sk-text-repr-fallback {display: none;}</style><div id=\"sk-container-id-3\" class=\"sk-top-container\"><div class=\"sk-text-repr-fallback\"><pre>LogisticRegression(max_iter=1000)</pre><b>In a Jupyter environment, please rerun this cell to show the HTML representation or trust the notebook. <br />On GitHub, the HTML representation is unable to render, please try loading this page with nbviewer.org.</b></div><div class=\"sk-container\" hidden><div class=\"sk-item\"><div class=\"sk-estimator sk-toggleable\"><input class=\"sk-toggleable__control sk-hidden--visually\" id=\"sk-estimator-id-3\" type=\"checkbox\" checked><label for=\"sk-estimator-id-3\" class=\"sk-toggleable__label sk-toggleable__label-arrow\">LogisticRegression</label><div class=\"sk-toggleable__content\"><pre>LogisticRegression(max_iter=1000)</pre></div></div></div></div></div>"
      ],
      "text/plain": [
       "LogisticRegression(max_iter=1000)"
      ]
     },
     "execution_count": 167,
     "metadata": {},
     "output_type": "execute_result"
    }
   ],
   "source": [
    "classifier = LogisticRegression(max_iter=1000)  # You can adjust parameters as needed\n",
    "classifier.fit(X_train, y_train)"
   ]
  },
  {
   "cell_type": "code",
   "execution_count": 168,
   "metadata": {},
   "outputs": [],
   "source": [
    "y_pred_lg = classifier.predict(X_test)"
   ]
  },
  {
   "cell_type": "code",
   "execution_count": 169,
   "metadata": {},
   "outputs": [],
   "source": [
    "y_pred_2d_lg = np.array(y_pred_lg).reshape(28, 22)"
   ]
  },
  {
   "cell_type": "code",
   "execution_count": 170,
   "metadata": {},
   "outputs": [
    {
     "name": "stdout",
     "output_type": "stream",
     "text": [
      "Mean Zero-One Error:  0.6298701298701299\n",
      "Mean Absolute Error:  2.185064935064935\n",
      "Macroaveraged Mean Absolute Error:  1.9923469387755104\n",
      "Restrained Subscale:  3.0002380857906212\n",
      "Eating Concern Subscale:  2.8881531419626225\n",
      "Shape Concern Subscale:  2.7349425431415764\n",
      "Weight Concern Subscale:  2.4937063637428185\n",
      "Global ED:  2.660012041796051\n"
     ]
    }
   ],
   "source": [
    "find_all_metrics(labels_test_np, y_pred_2d_lg)"
   ]
  },
  {
   "cell_type": "markdown",
   "metadata": {},
   "source": [
    "## Linear SVM"
   ]
  },
  {
   "cell_type": "code",
   "execution_count": 171,
   "metadata": {},
   "outputs": [
    {
     "name": "stderr",
     "output_type": "stream",
     "text": [
      "c:\\Users\\91900\\AppData\\Local\\Programs\\Python\\Python310\\lib\\site-packages\\sklearn\\svm\\_classes.py:32: FutureWarning: The default value of `dual` will change from `True` to `'auto'` in 1.5. Set the value of `dual` explicitly to suppress the warning.\n",
      "  warnings.warn(\n"
     ]
    }
   ],
   "source": [
    "svm_classifier = LinearSVC(max_iter=10000)  # You can adjust parameters as needed\n",
    "svm_classifier.fit(X_train, y_train)\n",
    "\n",
    "# Predict on the test set\n",
    "y_pred_svm = svm_classifier.predict(X_test)"
   ]
  },
  {
   "cell_type": "code",
   "execution_count": 172,
   "metadata": {},
   "outputs": [
    {
     "name": "stdout",
     "output_type": "stream",
     "text": [
      "[6 6 6 6 6 6 6 6 6 6 6 6 6 6 6 6 6 6 6 6 6 6 0 0 0 0 0 0 0 0 0 0 0 0 0 0 0\n",
      " 0 0 0 0 0 0 0 6 6 6 6 6 6 6 6 6 6 6 6 6 6 6 6 6 6 6 6 6 6 6 6 6 6 6 6 6 6\n",
      " 6 6 6 6 6 6 6 6 6 6 6 6 6 6 0 0 0 0 0 0 0 0 0 0 0 0 0 0 0 0 0 0 0 0 0 0 6\n",
      " 6 6 6 6 6 6 6 6 6 6 6 6 6 6 6 6 6 6 6 6 6 0 0 0 0 0 0 0 0 0 0 0 0 0 0 0 0\n",
      " 0 0 0 0 0 0 0 0 0 0 0 0 0 0 0 0 0 0 0 0 0 0 0 0 0 0 0 0 0 0 0 0 0 0 0 0 0\n",
      " 0 0 0 0 0 0 0 0 0 0 0 0 0 6 6 6 6 6 6 6 6 6 6 6 6 6 6 6 6 6 6 6 6 6 6 6 6\n",
      " 6 6 6 6 6 6 6 6 6 6 6 6 6 6 6 6 6 6 6 6 0 0 0 0 0 0 0 0 0 0 0 0 0 0 0 0 0\n",
      " 0 0 0 0 0 0 0 0 0 0 0 0 0 0 0 0 0 0 0 0 0 0 0 0 0 0 0 0 6 0 0 0 0 0 0 0 0\n",
      " 0 6 0 0 0 0 0 0 0 0 6 6 6 6 6 6 6 6 6 6 6 6 6 6 6 6 6 6 6 6 6 6 6 6 6 6 6\n",
      " 6 6 6 6 6 6 6 6 6 6 6 6 6 6 6 6 6 6 6 0 0 0 0 0 0 0 0 0 0 0 0 0 0 0 0 0 0\n",
      " 0 0 0 0 0 0 0 0 0 0 0 0 0 0 0 0 0 0 0 0 0 0 0 0 0 0 0 0 0 0 0 0 0 0 0 0 0\n",
      " 0 0 0 0 0 0 0 0 0 0 0 0 0 0 0 0 0 0 0 0 0 0 0 0 0 0 0 0 0 0 0 0 0 6 6 6 6\n",
      " 6 6 6 6 6 6 6 6 6 6 6 6 6 6 6 6 6 6 6 6 6 6 6 6 6 6 6 6 6 6 6 6 6 6 6 6 6\n",
      " 6 6 6 0 0 0 0 0 0 0 0 0 0 0 0 0 0 0 0 0 0 0 0 0 0 0 0 0 0 0 0 0 0 0 0 0 0\n",
      " 0 0 0 0 0 0 0 0 0 0 0 0 0 0 0 0 0 0 0 0 0 0 0 0 0 0 0 0 0 0 6 0 0 6 6 0 6\n",
      " 6 0 0 0 0 6 6 0 6 6 6 0 0 6 6 6 6 0 0 0 0 0 0 0 0 0 0 0 0 0 0 0 0 0 0 0 0\n",
      " 0 0 0 0 0 0 0 0 0 0 0 0 0 0 0 0 0 0 0 0 0 0 0 0]\n"
     ]
    }
   ],
   "source": [
    "print(y_pred_svm)"
   ]
  },
  {
   "cell_type": "code",
   "execution_count": 173,
   "metadata": {},
   "outputs": [
    {
     "name": "stdout",
     "output_type": "stream",
     "text": [
      "Mean Zero-One Error:  0.6574675324675325\n",
      "Mean Absolute Error:  2.37012987012987\n",
      "Macroaveraged Mean Absolute Error:  2.0345238095238094\n",
      "Restrained Subscale:  3.0708305065568178\n",
      "Eating Concern Subscale:  2.6723451445179327\n",
      "Shape Concern Subscale:  2.998883720891587\n",
      "Weight Concern Subscale:  2.6341168213599464\n",
      "Global ED:  2.7430319594122743\n"
     ]
    }
   ],
   "source": [
    "y_pred_2d_svm = np.array(y_pred_svm).reshape(28, 22)\n",
    "find_all_metrics(labels_test_np, y_pred_2d_svm)"
   ]
  },
  {
   "cell_type": "markdown",
   "metadata": {},
   "source": [
    "## Random Forest"
   ]
  },
  {
   "cell_type": "code",
   "execution_count": 174,
   "metadata": {},
   "outputs": [],
   "source": [
    "from sklearn.ensemble import RandomForestClassifier\n",
    "\n",
    "# Define and train the Random Forest model\n",
    "rf_classifier = RandomForestClassifier(n_estimators=100, random_state=42)  # You can adjust parameters as needed\n",
    "rf_classifier.fit(X_train, y_train)\n",
    "\n",
    "# Predict on the test set\n",
    "y_pred_rf = rf_classifier.predict(X_test)"
   ]
  },
  {
   "cell_type": "code",
   "execution_count": 175,
   "metadata": {},
   "outputs": [
    {
     "name": "stdout",
     "output_type": "stream",
     "text": [
      "[6 6 6 6 6 6 6 6 6 6 6 6 6 6 6 6 6 6 6 6 6 6 0 0 0 0 0 0 0 0 0 0 0 0 0 0 0\n",
      " 0 0 0 0 0 0 0 6 6 6 6 6 6 6 6 6 6 6 6 6 6 6 6 6 6 6 6 6 6 6 6 6 6 6 6 6 6\n",
      " 6 6 6 6 6 6 6 6 6 6 6 6 6 6 0 0 0 0 0 0 0 0 0 0 0 0 0 0 0 0 0 0 0 0 0 0 4\n",
      " 4 4 0 0 0 4 4 4 5 4 4 0 4 4 4 4 0 4 4 4 4 0 0 0 0 0 1 0 0 0 0 0 0 0 0 0 0\n",
      " 0 0 0 0 0 0 0 0 0 0 0 0 0 0 0 0 0 0 0 0 0 0 0 0 0 0 0 0 0 0 0 0 0 0 0 0 0\n",
      " 0 0 0 0 0 0 0 0 0 0 0 0 0 1 1 1 1 1 1 1 1 1 1 1 1 1 1 1 1 1 1 1 1 1 1 0 0\n",
      " 0 0 0 0 0 0 0 0 0 0 0 0 0 0 0 0 0 0 0 0 0 0 0 0 0 0 0 0 0 0 0 0 0 0 0 0 0\n",
      " 0 0 0 0 0 6 6 6 6 6 6 6 6 6 6 6 6 6 6 6 6 6 6 6 6 6 6 0 0 0 0 0 0 0 1 0 0\n",
      " 0 0 0 1 0 0 0 0 0 0 1 1 6 6 6 6 6 6 6 6 6 6 6 6 6 6 6 6 6 6 6 6 6 6 0 0 1\n",
      " 0 0 1 0 0 0 0 1 1 1 1 0 1 1 0 1 0 0 0 0 0 0 0 0 0 0 0 0 0 0 0 0 0 0 0 0 0\n",
      " 0 0 0 0 0 0 0 0 0 0 0 0 0 0 0 0 0 0 0 0 0 0 0 0 0 0 1 0 0 0 0 0 1 0 0 1 1\n",
      " 1 0 6 0 0 0 0 0 0 1 0 0 6 0 0 0 0 6 6 0 0 0 0 0 0 0 0 6 0 0 0 0 0 6 6 6 6\n",
      " 6 6 6 6 6 6 6 6 6 6 6 6 6 6 6 6 6 6 6 6 6 6 6 6 6 6 6 6 6 6 6 6 6 6 6 6 6\n",
      " 6 6 6 0 0 0 0 0 0 0 0 0 0 0 0 0 0 0 0 0 0 0 0 0 0 2 2 2 2 6 6 2 6 6 6 6 6\n",
      " 6 6 6 2 2 2 6 6 6 2 6 6 6 6 6 6 6 6 6 6 6 6 6 6 6 6 6 6 6 6 6 6 1 1 1 0 0\n",
      " 1 0 0 0 1 1 0 0 0 0 1 1 0 1 1 6 1 0 0 0 0 0 0 0 0 0 0 0 0 0 0 0 0 0 0 0 0\n",
      " 0 0 0 0 0 0 0 0 0 0 0 0 0 0 0 1 0 0 0 0 0 0 1 1]\n"
     ]
    }
   ],
   "source": [
    "print(y_pred_rf)"
   ]
  },
  {
   "cell_type": "code",
   "execution_count": 176,
   "metadata": {},
   "outputs": [
    {
     "name": "stdout",
     "output_type": "stream",
     "text": [
      "Mean Zero-One Error:  0.6866883116883117\n",
      "Mean Absolute Error:  2.400974025974026\n",
      "Macroaveraged Mean Absolute Error:  2.0053114048649765\n",
      "Restrained Subscale:  3.024896692450835\n",
      "Eating Concern Subscale:  2.5272797346441207\n",
      "Shape Concern Subscale:  2.946415043258987\n",
      "Weight Concern Subscale:  2.877747134726846\n",
      "Global ED:  2.7300322657204985\n"
     ]
    }
   ],
   "source": [
    "y_pred_2d_rf = np.array(y_pred_rf).reshape(28, 22)\n",
    "find_all_metrics(labels_test_np, y_pred_2d_rf)"
   ]
  },
  {
   "cell_type": "markdown",
   "metadata": {},
   "source": [
    "## Gradient Boosting"
   ]
  },
  {
   "cell_type": "code",
   "execution_count": 162,
   "metadata": {},
   "outputs": [],
   "source": [
    "from sklearn.ensemble import GradientBoostingClassifier\n",
    "\n",
    "# Define and train the Gradient Boosting model\n",
    "gb_classifier = GradientBoostingClassifier(n_estimators=100, learning_rate=0.1, random_state=42)  \n",
    "# You can adjust parameters as needed\n",
    "gb_classifier.fit(X_train, y_train)\n",
    "\n",
    "# Predict on the test set\n",
    "y_pred_gb = gb_classifier.predict(X_test)"
   ]
  },
  {
   "cell_type": "code",
   "execution_count": 163,
   "metadata": {},
   "outputs": [
    {
     "name": "stdout",
     "output_type": "stream",
     "text": [
      "[0 0 0 0 0 0 0 0 0 0 0 0 0 0 0 0 0 0 0 0 0 0 0 0 0 0 0 0 0 0 0 0 0 0 0 0 0\n",
      " 0 0 0 0 0 0 0 1 1 1 1 1 1 1 1 1 1 1 1 1 1 1 1 1 1 1 1 1 1 2 2 6 2 2 2 2 2\n",
      " 2 2 2 2 2 2 2 6 6 2 2 2 2 2 2 2 2 2 2 2 2 2 2 2 2 2 2 2 2 2 2 2 2 2 2 2 4\n",
      " 4 4 4 4 4 4 4 4 4 4 4 4 4 4 4 4 4 4 4 4 4 0 0 0 0 0 0 0 0 0 0 0 0 0 0 0 0\n",
      " 0 0 0 0 0 0 0 0 0 0 0 0 0 0 0 0 0 0 0 0 0 0 0 0 0 0 0 0 0 0 0 0 0 0 0 0 0\n",
      " 0 0 0 0 0 0 0 0 0 0 0 0 0 0 5 0 0 5 5 0 0 5 5 0 5 5 0 5 5 0 5 5 0 5 5 1 0\n",
      " 4 0 4 0 4 4 0 1 0 0 1 1 0 1 1 0 0 0 1 0 0 0 0 0 0 0 0 0 0 0 0 0 0 0 0 0 0\n",
      " 0 0 0 0 0 6 6 6 6 6 6 6 6 6 6 6 6 6 6 6 6 6 6 6 6 6 6 0 4 0 0 0 0 0 0 0 4\n",
      " 0 4 4 0 4 0 0 4 0 0 0 0 5 5 5 6 5 5 5 5 5 5 5 5 5 5 5 5 5 5 5 5 5 5 3 3 1\n",
      " 1 3 3 3 3 3 3 3 3 3 0 3 3 3 3 3 3 1 3 0 0 0 0 0 0 0 0 0 0 0 0 0 0 0 0 0 0\n",
      " 0 0 0 0 4 4 4 2 4 4 4 4 4 4 4 4 4 4 4 4 4 4 4 4 4 4 0 0 0 0 0 0 0 0 0 0 0\n",
      " 0 0 0 0 0 0 0 0 0 0 0 0 0 0 0 0 0 0 0 0 0 0 0 0 0 0 0 0 0 0 0 0 0 6 6 6 6\n",
      " 6 6 6 6 6 6 6 6 6 6 6 6 6 6 6 6 6 6 1 1 1 1 1 1 1 1 1 1 1 1 1 1 1 1 1 1 1\n",
      " 1 1 1 0 0 0 0 0 0 0 0 0 0 0 0 0 0 0 0 0 0 0 0 0 0 2 1 2 1 2 2 1 2 2 2 2 2\n",
      " 2 2 3 2 2 2 2 2 2 2 6 1 6 6 1 1 1 1 1 1 1 1 1 1 1 6 6 1 1 1 1 6 2 2 4 4 2\n",
      " 4 2 2 2 2 4 2 2 2 2 4 0 4 4 4 2 2 0 0 0 0 0 0 0 0 0 0 0 0 0 0 0 0 0 0 0 0\n",
      " 0 0 2 2 2 2 2 2 2 2 2 2 2 2 2 2 2 2 2 2 2 2 2 2]\n"
     ]
    }
   ],
   "source": [
    "print(y_pred_gb)"
   ]
  },
  {
   "cell_type": "code",
   "execution_count": 177,
   "metadata": {},
   "outputs": [
    {
     "name": "stdout",
     "output_type": "stream",
     "text": [
      "Mean Zero-One Error:  0.7840909090909091\n",
      "Mean Absolute Error:  2.4642857142857144\n",
      "Macroaveraged Mean Absolute Error:  1.7803864998380303\n",
      "Restrained Subscale:  2.7581049394725463\n",
      "Eating Concern Subscale:  2.2878561393334405\n",
      "Shape Concern Subscale:  3.082297525501762\n",
      "Weight Concern Subscale:  2.6473706632376643\n",
      "Global ED:  2.5764799946722716\n"
     ]
    }
   ],
   "source": [
    "y_pred_2d_gb = np.array(y_pred_gb).reshape(28, 22)\n",
    "find_all_metrics(labels_test_np, y_pred_2d_gb)"
   ]
  },
  {
   "cell_type": "markdown",
   "metadata": {},
   "source": [
    "## Final Table and Store Results"
   ]
  },
  {
   "cell_type": "code",
   "execution_count": 181,
   "metadata": {},
   "outputs": [
    {
     "name": "stderr",
     "output_type": "stream",
     "text": [
      "C:\\Users\\91900\\AppData\\Local\\Temp\\ipykernel_26472\\4156447357.py:3: FutureWarning: The frame.append method is deprecated and will be removed from pandas in a future version. Use pandas.concat instead.\n",
      "  summary_df_3 = summary_df_3.append({'Model': 'Logistic Regression (Word2Vec)', 'MAE': mean_absolute_error(labels_test_np, y_pred_2d_lg), 'MZOE': mean_zero_one_error(labels_test_np, y_pred_2d_lg), 'MAE_macro': macroaveraged_mean_absolute_error(labels_test_np, y_pred_2d_lg), 'GED': global_ED(labels_test_np, y_pred_2d_lg), 'RS': restrained_subscale(labels_test_np, y_pred_2d_lg), 'ECS': eating_concern_subscale(labels_test_np, y_pred_2d_lg), 'SCS': shape_concern_subscale(labels_test_np, y_pred_2d_lg), 'WCS': weight_concern_subscale(labels_test_np, y_pred_2d_lg)}, ignore_index=True)\n",
      "C:\\Users\\91900\\AppData\\Local\\Temp\\ipykernel_26472\\4156447357.py:4: FutureWarning: The frame.append method is deprecated and will be removed from pandas in a future version. Use pandas.concat instead.\n",
      "  summary_df_3 = summary_df_3.append({'Model': 'Linear Support Vector Machine (Word2Vec)', 'MAE': mean_absolute_error(labels_test_np, y_pred_2d_svm), 'MZOE': mean_zero_one_error(labels_test_np, y_pred_2d_svm), 'MAE_macro': macroaveraged_mean_absolute_error(labels_test_np, y_pred_2d_svm), 'GED': global_ED(labels_test_np, y_pred_2d_svm), 'RS': restrained_subscale(labels_test_np, y_pred_2d_svm), 'ECS': eating_concern_subscale(labels_test_np, y_pred_2d_svm), 'SCS': shape_concern_subscale(labels_test_np, y_pred_2d_svm), 'WCS': weight_concern_subscale(labels_test_np, y_pred_2d_svm)}, ignore_index=True)\n",
      "C:\\Users\\91900\\AppData\\Local\\Temp\\ipykernel_26472\\4156447357.py:5: FutureWarning: The frame.append method is deprecated and will be removed from pandas in a future version. Use pandas.concat instead.\n",
      "  summary_df_3 = summary_df_3.append({'Model': 'Random Forest (Word2Vec)', 'MAE': mean_absolute_error(labels_test_np, y_pred_2d_rf), 'MZOE': mean_zero_one_error(labels_test_np, y_pred_2d_rf), 'MAE_macro': macroaveraged_mean_absolute_error(labels_test_np, y_pred_2d_rf), 'GED': global_ED(labels_test_np, y_pred_2d_rf), 'RS': restrained_subscale(labels_test_np, y_pred_2d_rf), 'ECS': eating_concern_subscale(labels_test_np, y_pred_2d_rf), 'SCS': shape_concern_subscale(labels_test_np, y_pred_2d_rf), 'WCS': weight_concern_subscale(labels_test_np, y_pred_2d_rf)}, ignore_index=True)\n",
      "C:\\Users\\91900\\AppData\\Local\\Temp\\ipykernel_26472\\4156447357.py:6: FutureWarning: The frame.append method is deprecated and will be removed from pandas in a future version. Use pandas.concat instead.\n",
      "  summary_df_3 = summary_df_3.append({'Model': 'Gradient Boosting (Word2Vec)', 'MAE': mean_absolute_error(labels_test_np, y_pred_2d_gb), 'MZOE': mean_zero_one_error(labels_test_np, y_pred_2d_gb), 'MAE_macro': macroaveraged_mean_absolute_error(labels_test_np, y_pred_2d_gb), 'GED': global_ED(labels_test_np, y_pred_2d_gb), 'RS': restrained_subscale(labels_test_np, y_pred_2d_gb), 'ECS': eating_concern_subscale(labels_test_np, y_pred_2d_gb), 'SCS': shape_concern_subscale(labels_test_np, y_pred_2d_gb), 'WCS': weight_concern_subscale(labels_test_np, y_pred_2d_gb)}, ignore_index=True)\n"
     ]
    }
   ],
   "source": [
    "summary_df_3 = pd.DataFrame(columns=['Model', 'MAE', 'MZOE', 'MAE_macro', 'GED', 'RS', 'ECS', 'SCS', 'WCS'])\n",
    "\n",
    "summary_df_3 = summary_df_3.append({'Model': 'Logistic Regression (Word2Vec)', 'MAE': mean_absolute_error(labels_test_np, y_pred_2d_lg), 'MZOE': mean_zero_one_error(labels_test_np, y_pred_2d_lg), 'MAE_macro': macroaveraged_mean_absolute_error(labels_test_np, y_pred_2d_lg), 'GED': global_ED(labels_test_np, y_pred_2d_lg), 'RS': restrained_subscale(labels_test_np, y_pred_2d_lg), 'ECS': eating_concern_subscale(labels_test_np, y_pred_2d_lg), 'SCS': shape_concern_subscale(labels_test_np, y_pred_2d_lg), 'WCS': weight_concern_subscale(labels_test_np, y_pred_2d_lg)}, ignore_index=True)\n",
    "summary_df_3 = summary_df_3.append({'Model': 'Linear Support Vector Machine (Word2Vec)', 'MAE': mean_absolute_error(labels_test_np, y_pred_2d_svm), 'MZOE': mean_zero_one_error(labels_test_np, y_pred_2d_svm), 'MAE_macro': macroaveraged_mean_absolute_error(labels_test_np, y_pred_2d_svm), 'GED': global_ED(labels_test_np, y_pred_2d_svm), 'RS': restrained_subscale(labels_test_np, y_pred_2d_svm), 'ECS': eating_concern_subscale(labels_test_np, y_pred_2d_svm), 'SCS': shape_concern_subscale(labels_test_np, y_pred_2d_svm), 'WCS': weight_concern_subscale(labels_test_np, y_pred_2d_svm)}, ignore_index=True)\n",
    "summary_df_3 = summary_df_3.append({'Model': 'Random Forest (Word2Vec)', 'MAE': mean_absolute_error(labels_test_np, y_pred_2d_rf), 'MZOE': mean_zero_one_error(labels_test_np, y_pred_2d_rf), 'MAE_macro': macroaveraged_mean_absolute_error(labels_test_np, y_pred_2d_rf), 'GED': global_ED(labels_test_np, y_pred_2d_rf), 'RS': restrained_subscale(labels_test_np, y_pred_2d_rf), 'ECS': eating_concern_subscale(labels_test_np, y_pred_2d_rf), 'SCS': shape_concern_subscale(labels_test_np, y_pred_2d_rf), 'WCS': weight_concern_subscale(labels_test_np, y_pred_2d_rf)}, ignore_index=True)\n",
    "summary_df_3 = summary_df_3.append({'Model': 'Gradient Boosting (Word2Vec)', 'MAE': mean_absolute_error(labels_test_np, y_pred_2d_gb), 'MZOE': mean_zero_one_error(labels_test_np, y_pred_2d_gb), 'MAE_macro': macroaveraged_mean_absolute_error(labels_test_np, y_pred_2d_gb), 'GED': global_ED(labels_test_np, y_pred_2d_gb), 'RS': restrained_subscale(labels_test_np, y_pred_2d_gb), 'ECS': eating_concern_subscale(labels_test_np, y_pred_2d_gb), 'SCS': shape_concern_subscale(labels_test_np, y_pred_2d_gb), 'WCS': weight_concern_subscale(labels_test_np, y_pred_2d_gb)}, ignore_index=True)"
   ]
  },
  {
   "cell_type": "code",
   "execution_count": 182,
   "metadata": {},
   "outputs": [
    {
     "data": {
      "text/html": [
       "<div>\n",
       "<style scoped>\n",
       "    .dataframe tbody tr th:only-of-type {\n",
       "        vertical-align: middle;\n",
       "    }\n",
       "\n",
       "    .dataframe tbody tr th {\n",
       "        vertical-align: top;\n",
       "    }\n",
       "\n",
       "    .dataframe thead th {\n",
       "        text-align: right;\n",
       "    }\n",
       "</style>\n",
       "<table border=\"1\" class=\"dataframe\">\n",
       "  <thead>\n",
       "    <tr style=\"text-align: right;\">\n",
       "      <th></th>\n",
       "      <th>Model</th>\n",
       "      <th>MAE</th>\n",
       "      <th>MZOE</th>\n",
       "      <th>MAE_macro</th>\n",
       "      <th>GED</th>\n",
       "      <th>RS</th>\n",
       "      <th>ECS</th>\n",
       "      <th>SCS</th>\n",
       "      <th>WCS</th>\n",
       "    </tr>\n",
       "  </thead>\n",
       "  <tbody>\n",
       "    <tr>\n",
       "      <th>0</th>\n",
       "      <td>Logistic Regression (Word2Vec)</td>\n",
       "      <td>2.185065</td>\n",
       "      <td>0.629870</td>\n",
       "      <td>1.992347</td>\n",
       "      <td>2.660012</td>\n",
       "      <td>3.000238</td>\n",
       "      <td>2.888153</td>\n",
       "      <td>2.734943</td>\n",
       "      <td>2.493706</td>\n",
       "    </tr>\n",
       "    <tr>\n",
       "      <th>1</th>\n",
       "      <td>Linear Support Vector Machine (Word2Vec)</td>\n",
       "      <td>2.370130</td>\n",
       "      <td>0.657468</td>\n",
       "      <td>2.034524</td>\n",
       "      <td>2.743032</td>\n",
       "      <td>3.070831</td>\n",
       "      <td>2.672345</td>\n",
       "      <td>2.998884</td>\n",
       "      <td>2.634117</td>\n",
       "    </tr>\n",
       "    <tr>\n",
       "      <th>2</th>\n",
       "      <td>Random Forest (Word2Vec)</td>\n",
       "      <td>2.400974</td>\n",
       "      <td>0.686688</td>\n",
       "      <td>2.005311</td>\n",
       "      <td>2.730032</td>\n",
       "      <td>3.024897</td>\n",
       "      <td>2.527280</td>\n",
       "      <td>2.946415</td>\n",
       "      <td>2.877747</td>\n",
       "    </tr>\n",
       "    <tr>\n",
       "      <th>3</th>\n",
       "      <td>Gradient Boosting (Word2Vec)</td>\n",
       "      <td>2.464286</td>\n",
       "      <td>0.784091</td>\n",
       "      <td>1.780386</td>\n",
       "      <td>2.576480</td>\n",
       "      <td>2.758105</td>\n",
       "      <td>2.287856</td>\n",
       "      <td>3.082298</td>\n",
       "      <td>2.647371</td>\n",
       "    </tr>\n",
       "  </tbody>\n",
       "</table>\n",
       "</div>"
      ],
      "text/plain": [
       "                                      Model       MAE      MZOE  MAE_macro  \\\n",
       "0            Logistic Regression (Word2Vec)  2.185065  0.629870   1.992347   \n",
       "1  Linear Support Vector Machine (Word2Vec)  2.370130  0.657468   2.034524   \n",
       "2                  Random Forest (Word2Vec)  2.400974  0.686688   2.005311   \n",
       "3              Gradient Boosting (Word2Vec)  2.464286  0.784091   1.780386   \n",
       "\n",
       "        GED        RS       ECS       SCS       WCS  \n",
       "0  2.660012  3.000238  2.888153  2.734943  2.493706  \n",
       "1  2.743032  3.070831  2.672345  2.998884  2.634117  \n",
       "2  2.730032  3.024897  2.527280  2.946415  2.877747  \n",
       "3  2.576480  2.758105  2.287856  3.082298  2.647371  "
      ]
     },
     "execution_count": 182,
     "metadata": {},
     "output_type": "execute_result"
    }
   ],
   "source": [
    "summary_df_3.head()"
   ]
  },
  {
   "cell_type": "code",
   "execution_count": 183,
   "metadata": {},
   "outputs": [],
   "source": [
    "summary_df_3.to_csv('summary_3.csv', index=False)"
   ]
  },
  {
   "cell_type": "markdown",
   "metadata": {},
   "source": [
    "# Backtranslation"
   ]
  },
  {
   "cell_type": "markdown",
   "metadata": {},
   "source": [
    "## Without Dim Red"
   ]
  },
  {
   "cell_type": "markdown",
   "metadata": {},
   "source": [
    "### Init"
   ]
  },
  {
   "cell_type": "code",
   "execution_count": 270,
   "metadata": {},
   "outputs": [],
   "source": [
    "questions_df_train = pd.read_csv('questions_df_train.csv')"
   ]
  },
  {
   "cell_type": "code",
   "execution_count": 104,
   "metadata": {},
   "outputs": [],
   "source": [
    "questions_df_test = pd.read_csv('questions_df_test.csv')"
   ]
  },
  {
   "cell_type": "code",
   "execution_count": 84,
   "metadata": {},
   "outputs": [],
   "source": [
    "backtranslated_train_df = pd.read_csv('train.csv')"
   ]
  },
  {
   "cell_type": "code",
   "execution_count": 85,
   "metadata": {},
   "outputs": [
    {
     "data": {
      "text/html": [
       "<div>\n",
       "<style scoped>\n",
       "    .dataframe tbody tr th:only-of-type {\n",
       "        vertical-align: middle;\n",
       "    }\n",
       "\n",
       "    .dataframe tbody tr th {\n",
       "        vertical-align: top;\n",
       "    }\n",
       "\n",
       "    .dataframe thead th {\n",
       "        text-align: right;\n",
       "    }\n",
       "</style>\n",
       "<table border=\"1\" class=\"dataframe\">\n",
       "  <thead>\n",
       "    <tr style=\"text-align: right;\">\n",
       "      <th></th>\n",
       "      <th>Subject</th>\n",
       "      <th>text</th>\n",
       "    </tr>\n",
       "  </thead>\n",
       "  <tbody>\n",
       "    <tr>\n",
       "      <th>0</th>\n",
       "      <td>eRisk2023-T3_Subject1</td>\n",
       "      <td>idk mate since 1796 using vaccine still waitin...</td>\n",
       "    </tr>\n",
       "    <tr>\n",
       "      <th>1</th>\n",
       "      <td>eRisk2023-T3_Subject2</td>\n",
       "      <td>loved ideaconcept feel like film left many thi...</td>\n",
       "    </tr>\n",
       "    <tr>\n",
       "      <th>2</th>\n",
       "      <td>eRisk2023-T3_Subject3</td>\n",
       "      <td>dont need certification start working h motor ...</td>\n",
       "    </tr>\n",
       "    <tr>\n",
       "      <th>3</th>\n",
       "      <td>eRisk2023-T3_Subject4</td>\n",
       "      <td>leangains method rept fitness workout tracker ...</td>\n",
       "    </tr>\n",
       "    <tr>\n",
       "      <th>4</th>\n",
       "      <td>eRisk2023-T3_Subject5</td>\n",
       "      <td>think opinion system led anxiety havent change...</td>\n",
       "    </tr>\n",
       "  </tbody>\n",
       "</table>\n",
       "</div>"
      ],
      "text/plain": [
       "                 Subject                                               text\n",
       "0  eRisk2023-T3_Subject1  idk mate since 1796 using vaccine still waitin...\n",
       "1  eRisk2023-T3_Subject2  loved ideaconcept feel like film left many thi...\n",
       "2  eRisk2023-T3_Subject3  dont need certification start working h motor ...\n",
       "3  eRisk2023-T3_Subject4  leangains method rept fitness workout tracker ...\n",
       "4  eRisk2023-T3_Subject5  think opinion system led anxiety havent change..."
      ]
     },
     "execution_count": 85,
     "metadata": {},
     "output_type": "execute_result"
    }
   ],
   "source": [
    "backtranslated_train_df.head()"
   ]
  },
  {
   "cell_type": "code",
   "execution_count": 86,
   "metadata": {},
   "outputs": [],
   "source": [
    "backtranslated_train_df['backtranslated'] = backtranslated_train_df['text']#add a new coloumn called backtranslated in the df and fill it with text it self"
   ]
  },
  {
   "cell_type": "code",
   "execution_count": 271,
   "metadata": {},
   "outputs": [
    {
     "data": {
      "text/plain": [
       "0    305\n",
       "6    215\n",
       "1    141\n",
       "4     90\n",
       "3     89\n",
       "2     86\n",
       "5     86\n",
       "Name: label, dtype: int64"
      ]
     },
     "execution_count": 271,
     "metadata": {},
     "output_type": "execute_result"
    }
   ],
   "source": [
    "# count the values of the coloumn label in questions_df_train\n",
    "questions_df_train['label'].value_counts()"
   ]
  },
  {
   "cell_type": "code",
   "execution_count": 275,
   "metadata": {},
   "outputs": [
    {
     "data": {
      "image/png": "[encoded data removed]",
      "text/plain": [
       "<Figure size 1000x600 with 1 Axes>"
      ]
     },
     "metadata": {},
     "output_type": "display_data"
    }
   ],
   "source": [
    "# make a pie chart on the label counts\n",
    "\n",
    "plt.figure(figsize=(10, 6))\n",
    "plt.pie(questions_df_train['label'].value_counts(), labels=['0', '6', '1', '4', '3', '2', '5'], autopct='%1.1f%%')\n",
    "plt.show()"
   ]
  },
  {
   "cell_type": "code",
   "execution_count": 61,
   "metadata": {},
   "outputs": [
    {
     "data": {
      "text/plain": [
       "0    30.138340\n",
       "6    21.245059\n",
       "1    13.932806\n",
       "4     8.893281\n",
       "3     8.794466\n",
       "2     8.498024\n",
       "5     8.498024\n",
       "Name: label, dtype: float64"
      ]
     },
     "execution_count": 61,
     "metadata": {},
     "output_type": "execute_result"
    }
   ],
   "source": [
    "# find the percentages of each, give it in 100%\n",
    "questions_df_train['label'].value_counts(normalize=True) * 100"
   ]
  },
  {
   "cell_type": "code",
   "execution_count": 62,
   "metadata": {},
   "outputs": [
    {
     "data": {
      "text/plain": [
       "0    201\n",
       "6    102\n",
       "1     88\n",
       "5     59\n",
       "3     57\n",
       "2     56\n",
       "4     53\n",
       "Name: label, dtype: int64"
      ]
     },
     "execution_count": 62,
     "metadata": {},
     "output_type": "execute_result"
    }
   ],
   "source": [
    "questions_df_test['label'].value_counts()"
   ]
  },
  {
   "cell_type": "code",
   "execution_count": 63,
   "metadata": {},
   "outputs": [
    {
     "data": {
      "text/plain": [
       "0    32.629870\n",
       "6    16.558442\n",
       "1    14.285714\n",
       "5     9.577922\n",
       "3     9.253247\n",
       "2     9.090909\n",
       "4     8.603896\n",
       "Name: label, dtype: float64"
      ]
     },
     "execution_count": 63,
     "metadata": {},
     "output_type": "execute_result"
    }
   ],
   "source": [
    "questions_df_test['label'].value_counts(normalize=True) * 100"
   ]
  },
  {
   "cell_type": "code",
   "execution_count": 64,
   "metadata": {},
   "outputs": [],
   "source": [
    "SOURCE_LANGUAGE = \"en\"\n",
    "TARGET_LANGUAGE = \"fr\"\n",
    "MAX_CHARACTERS = 4999"
   ]
  },
  {
   "cell_type": "markdown",
   "metadata": {},
   "source": [
    "### Backtranslate Function"
   ]
  },
  {
   "cell_type": "code",
   "execution_count": 88,
   "metadata": {},
   "outputs": [],
   "source": [
    "def backtranslate(text, src_lang, dest_lang):\n",
    "    try:\n",
    "        # Skip if the text is NaN or empty\n",
    "        if pd.isna(text) or text == \"\":\n",
    "            return text\n",
    "\n",
    "        # Skip if the text is a link\n",
    "        if re.match(r'https?://\\S+', str(text)):\n",
    "            return text\n",
    "\n",
    "        # Split text into smaller chunks to avoid exceeding character limit\n",
    "        chunk_size = 4999\n",
    "        chunks = [text[i:i+chunk_size] for i in range(0, len(text), chunk_size)]\n",
    "        \n",
    "        # Translate each chunk\n",
    "        translated_chunks = []\n",
    "        for chunk in chunks:\n",
    "            translated_chunk = GoogleTranslator(source=src_lang, target=dest_lang).translate(chunk)\n",
    "            translated_chunks.append(translated_chunk)\n",
    "        \n",
    "        # Combine translated chunks and backtranslate\n",
    "        translated_text = ' '.join(translated_chunks)\n",
    "\n",
    "        chunks_2 = [translated_text[i:i+chunk_size] for i in range(0, len(translated_text), chunk_size)]\n",
    "\n",
    "        # Translate each chunk back to original language now\n",
    "        backtranslated_chunks = []\n",
    "        for chunk in chunks_2:\n",
    "            backtranslated_chunk = GoogleTranslator(source=dest_lang, target=src_lang).translate(chunk)\n",
    "            backtranslated_chunks.append(backtranslated_chunk)\n",
    "\n",
    "        # Combine backtranslated chunks\n",
    "        backtranslated_text = ' '.join(backtranslated_chunks)\n",
    "    \n",
    "        return backtranslated_text\n",
    "\n",
    "    except ValueError as e:\n",
    "        print(f\"Error Backtranslating text: {e}\")\n",
    "        return text  # Return the original text if translation fails"
   ]
  },
  {
   "cell_type": "markdown",
   "metadata": {},
   "source": [
    "### Backtranslated Dataframe"
   ]
  },
  {
   "cell_type": "code",
   "execution_count": 87,
   "metadata": {},
   "outputs": [],
   "source": [
    "done = 0\n",
    "total = 46"
   ]
  },
  {
   "cell_type": "code",
   "execution_count": 90,
   "metadata": {},
   "outputs": [
    {
     "name": "stdout",
     "output_type": "stream",
     "text": [
      "Progress: 1/46\n",
      "Progress: 2/46\n",
      "Progress: 3/46\n",
      "Progress: 4/46\n",
      "Progress: 5/46\n",
      "Progress: 6/46\n",
      "Progress: 7/46\n",
      "Progress: 8/46\n",
      "Progress: 9/46\n",
      "Progress: 10/46\n",
      "Progress: 11/46\n",
      "Progress: 12/46\n",
      "Progress: 13/46\n",
      "Progress: 14/46\n",
      "Progress: 15/46\n",
      "Progress: 16/46\n",
      "Progress: 17/46\n",
      "Progress: 18/46\n",
      "Progress: 19/46\n",
      "Progress: 20/46\n",
      "Progress: 21/46\n",
      "Progress: 22/46\n",
      "Progress: 23/46\n",
      "Progress: 24/46\n",
      "Progress: 25/46\n",
      "Progress: 26/46\n",
      "Progress: 27/46\n",
      "Progress: 28/46\n",
      "Progress: 29/46\n",
      "Progress: 30/46\n",
      "Progress: 31/46\n",
      "Progress: 32/46\n",
      "Progress: 33/46\n",
      "Progress: 34/46\n",
      "Progress: 35/46\n",
      "Progress: 36/46\n",
      "Progress: 37/46\n",
      "Progress: 38/46\n",
      "Progress: 39/46\n",
      "Progress: 40/46\n",
      "Progress: 41/46\n",
      "Progress: 42/46\n",
      "Progress: 43/46\n",
      "Progress: 44/46\n",
      "Progress: 45/46\n",
      "Progress: 46/46\n"
     ]
    }
   ],
   "source": [
    "done = 0  # Initialize counter\n",
    "\n",
    "for index, row in backtranslated_train_df.iterrows():\n",
    "    backtranslated_text = backtranslate(row['text'], SOURCE_LANGUAGE, TARGET_LANGUAGE)\n",
    "    backtranslated_train_df.loc[index, 'backtranslated'] = backtranslated_text\n",
    "    done += 1\n",
    "    print(f\"Progress: {done}/{total}\")"
   ]
  },
  {
   "cell_type": "code",
   "execution_count": 91,
   "metadata": {},
   "outputs": [],
   "source": [
    "backtranslated_train_df.to_csv('backtranslated_train.csv', index=False)"
   ]
  },
  {
   "cell_type": "code",
   "execution_count": 92,
   "metadata": {},
   "outputs": [
    {
     "data": {
      "text/html": [
       "<div>\n",
       "<style scoped>\n",
       "    .dataframe tbody tr th:only-of-type {\n",
       "        vertical-align: middle;\n",
       "    }\n",
       "\n",
       "    .dataframe tbody tr th {\n",
       "        vertical-align: top;\n",
       "    }\n",
       "\n",
       "    .dataframe thead th {\n",
       "        text-align: right;\n",
       "    }\n",
       "</style>\n",
       "<table border=\"1\" class=\"dataframe\">\n",
       "  <thead>\n",
       "    <tr style=\"text-align: right;\">\n",
       "      <th></th>\n",
       "      <th>Subject</th>\n",
       "      <th>text</th>\n",
       "      <th>backtranslated</th>\n",
       "    </tr>\n",
       "  </thead>\n",
       "  <tbody>\n",
       "    <tr>\n",
       "      <th>0</th>\n",
       "      <td>eRisk2023-T3_Subject1</td>\n",
       "      <td>idk mate since 1796 using vaccine still waitin...</td>\n",
       "      <td>I don't know buddy since 1796 I've been using ...</td>\n",
       "    </tr>\n",
       "    <tr>\n",
       "      <th>1</th>\n",
       "      <td>eRisk2023-T3_Subject2</td>\n",
       "      <td>loved ideaconcept feel like film left many thi...</td>\n",
       "      <td>I loved the idea the concept I have the impres...</td>\n",
       "    </tr>\n",
       "    <tr>\n",
       "      <th>2</th>\n",
       "      <td>eRisk2023-T3_Subject3</td>\n",
       "      <td>dont need certification start working h motor ...</td>\n",
       "      <td>no need certification start working engine h w...</td>\n",
       "    </tr>\n",
       "    <tr>\n",
       "      <th>3</th>\n",
       "      <td>eRisk2023-T3_Subject4</td>\n",
       "      <td>leangains method rept fitness workout tracker ...</td>\n",
       "      <td>leangains method rept fitness workout tracker ...</td>\n",
       "    </tr>\n",
       "    <tr>\n",
       "      <th>4</th>\n",
       "      <td>eRisk2023-T3_Subject5</td>\n",
       "      <td>think opinion system led anxiety havent change...</td>\n",
       "      <td>think opinion system drives anxiety hasn't cha...</td>\n",
       "    </tr>\n",
       "  </tbody>\n",
       "</table>\n",
       "</div>"
      ],
      "text/plain": [
       "                 Subject                                               text  \\\n",
       "0  eRisk2023-T3_Subject1  idk mate since 1796 using vaccine still waitin...   \n",
       "1  eRisk2023-T3_Subject2  loved ideaconcept feel like film left many thi...   \n",
       "2  eRisk2023-T3_Subject3  dont need certification start working h motor ...   \n",
       "3  eRisk2023-T3_Subject4  leangains method rept fitness workout tracker ...   \n",
       "4  eRisk2023-T3_Subject5  think opinion system led anxiety havent change...   \n",
       "\n",
       "                                      backtranslated  \n",
       "0  I don't know buddy since 1796 I've been using ...  \n",
       "1  I loved the idea the concept I have the impres...  \n",
       "2  no need certification start working engine h w...  \n",
       "3  leangains method rept fitness workout tracker ...  \n",
       "4  think opinion system drives anxiety hasn't cha...  "
      ]
     },
     "execution_count": 92,
     "metadata": {},
     "output_type": "execute_result"
    }
   ],
   "source": [
    "backtranslated_train_df.head()"
   ]
  },
  {
   "cell_type": "code",
   "execution_count": 99,
   "metadata": {},
   "outputs": [],
   "source": [
    "backtranslated_train_df = data_preprocessing_backtranslate(backtranslated_train_df)"
   ]
  },
  {
   "cell_type": "code",
   "execution_count": 100,
   "metadata": {},
   "outputs": [
    {
     "data": {
      "text/html": [
       "<div>\n",
       "<style scoped>\n",
       "    .dataframe tbody tr th:only-of-type {\n",
       "        vertical-align: middle;\n",
       "    }\n",
       "\n",
       "    .dataframe tbody tr th {\n",
       "        vertical-align: top;\n",
       "    }\n",
       "\n",
       "    .dataframe thead th {\n",
       "        text-align: right;\n",
       "    }\n",
       "</style>\n",
       "<table border=\"1\" class=\"dataframe\">\n",
       "  <thead>\n",
       "    <tr style=\"text-align: right;\">\n",
       "      <th></th>\n",
       "      <th>Subject</th>\n",
       "      <th>text</th>\n",
       "      <th>backtranslated</th>\n",
       "    </tr>\n",
       "  </thead>\n",
       "  <tbody>\n",
       "    <tr>\n",
       "      <th>0</th>\n",
       "      <td>eRisk2023-T3_Subject1</td>\n",
       "      <td>idk mate since 1796 using vaccine still waitin...</td>\n",
       "      <td>dont know buddy since 1796 ive using vaccine i...</td>\n",
       "    </tr>\n",
       "    <tr>\n",
       "      <th>1</th>\n",
       "      <td>eRisk2023-T3_Subject2</td>\n",
       "      <td>loved ideaconcept feel like film left many thi...</td>\n",
       "      <td>loved idea concept impression film leaf lot th...</td>\n",
       "    </tr>\n",
       "    <tr>\n",
       "      <th>2</th>\n",
       "      <td>eRisk2023-T3_Subject3</td>\n",
       "      <td>dont need certification start working h motor ...</td>\n",
       "      <td>need certification start working engine h with...</td>\n",
       "    </tr>\n",
       "    <tr>\n",
       "      <th>3</th>\n",
       "      <td>eRisk2023-T3_Subject4</td>\n",
       "      <td>leangains method rept fitness workout tracker ...</td>\n",
       "      <td>leangains method rept fitness workout tracker ...</td>\n",
       "    </tr>\n",
       "    <tr>\n",
       "      <th>4</th>\n",
       "      <td>eRisk2023-T3_Subject5</td>\n",
       "      <td>think opinion system led anxiety havent change...</td>\n",
       "      <td>think opinion system drive anxiety hasnt chang...</td>\n",
       "    </tr>\n",
       "  </tbody>\n",
       "</table>\n",
       "</div>"
      ],
      "text/plain": [
       "                 Subject                                               text  \\\n",
       "0  eRisk2023-T3_Subject1  idk mate since 1796 using vaccine still waitin...   \n",
       "1  eRisk2023-T3_Subject2  loved ideaconcept feel like film left many thi...   \n",
       "2  eRisk2023-T3_Subject3  dont need certification start working h motor ...   \n",
       "3  eRisk2023-T3_Subject4  leangains method rept fitness workout tracker ...   \n",
       "4  eRisk2023-T3_Subject5  think opinion system led anxiety havent change...   \n",
       "\n",
       "                                      backtranslated  \n",
       "0  dont know buddy since 1796 ive using vaccine i...  \n",
       "1  loved idea concept impression film leaf lot th...  \n",
       "2  need certification start working engine h with...  \n",
       "3  leangains method rept fitness workout tracker ...  \n",
       "4  think opinion system drive anxiety hasnt chang...  "
      ]
     },
     "execution_count": 100,
     "metadata": {},
     "output_type": "execute_result"
    }
   ],
   "source": [
    "backtranslated_train_df.head()"
   ]
  },
  {
   "cell_type": "code",
   "execution_count": 101,
   "metadata": {},
   "outputs": [
    {
     "data": {
      "text/plain": [
       "(46, 3)"
      ]
     },
     "execution_count": 101,
     "metadata": {},
     "output_type": "execute_result"
    }
   ],
   "source": [
    "backtranslated_train_df.shape"
   ]
  },
  {
   "cell_type": "markdown",
   "metadata": {},
   "source": [
    "### Increasing Train Set Size"
   ]
  },
  {
   "cell_type": "code",
   "execution_count": 108,
   "metadata": {},
   "outputs": [],
   "source": [
    "extra_backtranslated_df = pd.DataFrame(columns=['Subject', 'text', 'question', 'label'])"
   ]
  },
  {
   "cell_type": "code",
   "execution_count": 109,
   "metadata": {},
   "outputs": [],
   "source": [
    "for index, row in backtranslated_train_df.iterrows():\n",
    "    for index1, row1 in questions_df_train.iterrows():\n",
    "        if row['Subject'] == row1['Subject'] and row1['label'] in [2, 3, 4, 5]:\n",
    "            data = {'Subject': row['Subject'], 'text': row['backtranslated'], 'question': row1['question'], 'label': row1['label']}\n",
    "            extra_backtranslated_df = pd.concat([extra_backtranslated_df, pd.DataFrame(data, index=[0])])"
   ]
  },
  {
   "cell_type": "code",
   "execution_count": 111,
   "metadata": {},
   "outputs": [
    {
     "data": {
      "text/plain": [
       "(351, 4)"
      ]
     },
     "execution_count": 111,
     "metadata": {},
     "output_type": "execute_result"
    }
   ],
   "source": [
    "extra_backtranslated_df.shape"
   ]
  },
  {
   "cell_type": "code",
   "execution_count": 112,
   "metadata": {},
   "outputs": [
    {
     "data": {
      "text/html": [
       "<div>\n",
       "<style scoped>\n",
       "    .dataframe tbody tr th:only-of-type {\n",
       "        vertical-align: middle;\n",
       "    }\n",
       "\n",
       "    .dataframe tbody tr th {\n",
       "        vertical-align: top;\n",
       "    }\n",
       "\n",
       "    .dataframe thead th {\n",
       "        text-align: right;\n",
       "    }\n",
       "</style>\n",
       "<table border=\"1\" class=\"dataframe\">\n",
       "  <thead>\n",
       "    <tr style=\"text-align: right;\">\n",
       "      <th></th>\n",
       "      <th>Subject</th>\n",
       "      <th>text</th>\n",
       "      <th>question</th>\n",
       "      <th>label</th>\n",
       "    </tr>\n",
       "  </thead>\n",
       "  <tbody>\n",
       "    <tr>\n",
       "      <th>0</th>\n",
       "      <td>eRisk2023-T3_Subject1</td>\n",
       "      <td>dont know buddy since 1796 ive using vaccine i...</td>\n",
       "      <td>Have you been deliberately trying to limit the...</td>\n",
       "      <td>2</td>\n",
       "    </tr>\n",
       "    <tr>\n",
       "      <th>0</th>\n",
       "      <td>eRisk2023-T3_Subject1</td>\n",
       "      <td>dont know buddy since 1796 ive using vaccine i...</td>\n",
       "      <td>Have you had a definite desire to have a total...</td>\n",
       "      <td>3</td>\n",
       "    </tr>\n",
       "    <tr>\n",
       "      <th>0</th>\n",
       "      <td>eRisk2023-T3_Subject1</td>\n",
       "      <td>dont know buddy since 1796 ive using vaccine i...</td>\n",
       "      <td>Has your shape influenced how you think about ...</td>\n",
       "      <td>2</td>\n",
       "    </tr>\n",
       "    <tr>\n",
       "      <th>0</th>\n",
       "      <td>eRisk2023-T3_Subject2</td>\n",
       "      <td>loved idea concept impression film leaf lot th...</td>\n",
       "      <td>Have you been deliberately trying to limit the...</td>\n",
       "      <td>5</td>\n",
       "    </tr>\n",
       "    <tr>\n",
       "      <th>0</th>\n",
       "      <td>eRisk2023-T3_Subject2</td>\n",
       "      <td>loved idea concept impression film leaf lot th...</td>\n",
       "      <td>Have you tried to exclude from your diet any f...</td>\n",
       "      <td>5</td>\n",
       "    </tr>\n",
       "  </tbody>\n",
       "</table>\n",
       "</div>"
      ],
      "text/plain": [
       "                 Subject                                               text  \\\n",
       "0  eRisk2023-T3_Subject1  dont know buddy since 1796 ive using vaccine i...   \n",
       "0  eRisk2023-T3_Subject1  dont know buddy since 1796 ive using vaccine i...   \n",
       "0  eRisk2023-T3_Subject1  dont know buddy since 1796 ive using vaccine i...   \n",
       "0  eRisk2023-T3_Subject2  loved idea concept impression film leaf lot th...   \n",
       "0  eRisk2023-T3_Subject2  loved idea concept impression film leaf lot th...   \n",
       "\n",
       "                                            question label  \n",
       "0  Have you been deliberately trying to limit the...     2  \n",
       "0  Have you had a definite desire to have a total...     3  \n",
       "0  Has your shape influenced how you think about ...     2  \n",
       "0  Have you been deliberately trying to limit the...     5  \n",
       "0  Have you tried to exclude from your diet any f...     5  "
      ]
     },
     "execution_count": 112,
     "metadata": {},
     "output_type": "execute_result"
    }
   ],
   "source": [
    "extra_backtranslated_df.head()"
   ]
  },
  {
   "cell_type": "code",
   "execution_count": 113,
   "metadata": {},
   "outputs": [],
   "source": [
    "questions_df_train = pd.concat([questions_df_train, extra_backtranslated_df])"
   ]
  },
  {
   "cell_type": "code",
   "execution_count": 114,
   "metadata": {},
   "outputs": [
    {
     "data": {
      "text/plain": [
       "(1363, 4)"
      ]
     },
     "execution_count": 114,
     "metadata": {},
     "output_type": "execute_result"
    }
   ],
   "source": [
    "questions_df_train.shape"
   ]
  },
  {
   "cell_type": "code",
   "execution_count": 115,
   "metadata": {},
   "outputs": [],
   "source": [
    "questions_df_train.to_csv('questions_df_train_with_backtranslation.csv', index=False)"
   ]
  },
  {
   "cell_type": "code",
   "execution_count": 276,
   "metadata": {},
   "outputs": [],
   "source": [
    "questions_df_train_with_backtranslation = pd.read_csv('questions_df_train_with_backtranslation.csv')"
   ]
  },
  {
   "cell_type": "code",
   "execution_count": 277,
   "metadata": {},
   "outputs": [
    {
     "data": {
      "text/plain": [
       "0    305\n",
       "6    215\n",
       "4    180\n",
       "3    178\n",
       "2    172\n",
       "5    172\n",
       "1    141\n",
       "Name: label, dtype: int64"
      ]
     },
     "execution_count": 277,
     "metadata": {},
     "output_type": "execute_result"
    }
   ],
   "source": [
    "questions_df_train_with_backtranslation['label'].value_counts()"
   ]
  },
  {
   "cell_type": "code",
   "execution_count": 278,
   "metadata": {},
   "outputs": [
    {
     "data": {
      "image/png": "[encoded data removed]",
      "text/plain": [
       "<Figure size 1000x600 with 1 Axes>"
      ]
     },
     "metadata": {},
     "output_type": "display_data"
    }
   ],
   "source": [
    "plt.figure(figsize=(10, 6))\n",
    "plt.pie(questions_df_train_with_backtranslation['label'].value_counts(), labels=['0', '6', '1', '4', '3', '2', '5'], autopct='%1.1f%%')\n",
    "plt.show()"
   ]
  },
  {
   "cell_type": "markdown",
   "metadata": {},
   "source": [
    "### Word Embeddings Preprocessing"
   ]
  },
  {
   "cell_type": "code",
   "execution_count": 119,
   "metadata": {},
   "outputs": [],
   "source": [
    "questions_df_train_with_backtranslation = pd.read_csv('questions_df_train_with_backtranslation.csv')"
   ]
  },
  {
   "cell_type": "code",
   "execution_count": 122,
   "metadata": {},
   "outputs": [],
   "source": [
    "# shuffle the data frame\n",
    "questions_df_train_with_backtranslation = questions_df_train_with_backtranslation.sample(frac=1).reset_index(drop=True)"
   ]
  },
  {
   "cell_type": "code",
   "execution_count": 123,
   "metadata": {},
   "outputs": [
    {
     "data": {
      "text/html": [
       "<div>\n",
       "<style scoped>\n",
       "    .dataframe tbody tr th:only-of-type {\n",
       "        vertical-align: middle;\n",
       "    }\n",
       "\n",
       "    .dataframe tbody tr th {\n",
       "        vertical-align: top;\n",
       "    }\n",
       "\n",
       "    .dataframe thead th {\n",
       "        text-align: right;\n",
       "    }\n",
       "</style>\n",
       "<table border=\"1\" class=\"dataframe\">\n",
       "  <thead>\n",
       "    <tr style=\"text-align: right;\">\n",
       "      <th></th>\n",
       "      <th>Subject</th>\n",
       "      <th>text</th>\n",
       "      <th>question</th>\n",
       "      <th>label</th>\n",
       "    </tr>\n",
       "  </thead>\n",
       "  <tbody>\n",
       "    <tr>\n",
       "      <th>0</th>\n",
       "      <td>eRisk2023-T3_Subject42</td>\n",
       "      <td>joke he commercialised huge number product man...</td>\n",
       "      <td>How uncomfortable have you felt about others s...</td>\n",
       "      <td>2</td>\n",
       "    </tr>\n",
       "    <tr>\n",
       "      <th>1</th>\n",
       "      <td>eRisk2023-T3_Subject19</td>\n",
       "      <td>read comment section lot comment posted autist...</td>\n",
       "      <td>Have you had a definite desire to have a total...</td>\n",
       "      <td>1</td>\n",
       "    </tr>\n",
       "    <tr>\n",
       "      <th>2</th>\n",
       "      <td>eRisk2023-T3_Subject28</td>\n",
       "      <td>get never lost weight always feeling empty sto...</td>\n",
       "      <td>Has thinking about food, eating or calories ma...</td>\n",
       "      <td>6</td>\n",
       "    </tr>\n",
       "    <tr>\n",
       "      <th>3</th>\n",
       "      <td>eRisk2023-T3_Subject21</td>\n",
       "      <td>might bit track post someone explain see much ...</td>\n",
       "      <td>How much would it have upset you if you had be...</td>\n",
       "      <td>1</td>\n",
       "    </tr>\n",
       "    <tr>\n",
       "      <th>4</th>\n",
       "      <td>eRisk2023-T3_Subject46</td>\n",
       "      <td>one mainly come im social setting ive tried lo...</td>\n",
       "      <td>Have you tried to exclude from your diet any f...</td>\n",
       "      <td>5</td>\n",
       "    </tr>\n",
       "  </tbody>\n",
       "</table>\n",
       "</div>"
      ],
      "text/plain": [
       "                  Subject                                               text  \\\n",
       "0  eRisk2023-T3_Subject42  joke he commercialised huge number product man...   \n",
       "1  eRisk2023-T3_Subject19  read comment section lot comment posted autist...   \n",
       "2  eRisk2023-T3_Subject28  get never lost weight always feeling empty sto...   \n",
       "3  eRisk2023-T3_Subject21  might bit track post someone explain see much ...   \n",
       "4  eRisk2023-T3_Subject46  one mainly come im social setting ive tried lo...   \n",
       "\n",
       "                                            question  label  \n",
       "0  How uncomfortable have you felt about others s...      2  \n",
       "1  Have you had a definite desire to have a total...      1  \n",
       "2  Has thinking about food, eating or calories ma...      6  \n",
       "3  How much would it have upset you if you had be...      1  \n",
       "4  Have you tried to exclude from your diet any f...      5  "
      ]
     },
     "execution_count": 123,
     "metadata": {},
     "output_type": "execute_result"
    }
   ],
   "source": [
    "questions_df_train_with_backtranslation.head()"
   ]
  },
  {
   "cell_type": "code",
   "execution_count": 126,
   "metadata": {},
   "outputs": [],
   "source": [
    "questions_df_train_with_backtranslation['text embeddings'] = questions_df_train_with_backtranslation['text'].apply(text_to_embeddings)"
   ]
  },
  {
   "cell_type": "code",
   "execution_count": 127,
   "metadata": {},
   "outputs": [],
   "source": [
    "questions_df_train_with_backtranslation['question embeddings'] = questions_df_train_with_backtranslation['question'].apply(text_to_embeddings)"
   ]
  },
  {
   "cell_type": "code",
   "execution_count": 128,
   "metadata": {},
   "outputs": [
    {
     "data": {
      "text/html": [
       "<div>\n",
       "<style scoped>\n",
       "    .dataframe tbody tr th:only-of-type {\n",
       "        vertical-align: middle;\n",
       "    }\n",
       "\n",
       "    .dataframe tbody tr th {\n",
       "        vertical-align: top;\n",
       "    }\n",
       "\n",
       "    .dataframe thead th {\n",
       "        text-align: right;\n",
       "    }\n",
       "</style>\n",
       "<table border=\"1\" class=\"dataframe\">\n",
       "  <thead>\n",
       "    <tr style=\"text-align: right;\">\n",
       "      <th></th>\n",
       "      <th>Subject</th>\n",
       "      <th>text</th>\n",
       "      <th>question</th>\n",
       "      <th>label</th>\n",
       "      <th>text embeddings</th>\n",
       "      <th>question embeddings</th>\n",
       "    </tr>\n",
       "  </thead>\n",
       "  <tbody>\n",
       "    <tr>\n",
       "      <th>0</th>\n",
       "      <td>eRisk2023-T3_Subject42</td>\n",
       "      <td>joke he commercialised huge number product man...</td>\n",
       "      <td>How uncomfortable have you felt about others s...</td>\n",
       "      <td>2</td>\n",
       "      <td>[0.04482429, 0.016458541, 0.015856944, 0.09611...</td>\n",
       "      <td>[0.06806292, 0.111238204, -0.023045132, 0.1129...</td>\n",
       "    </tr>\n",
       "    <tr>\n",
       "      <th>1</th>\n",
       "      <td>eRisk2023-T3_Subject19</td>\n",
       "      <td>read comment section lot comment posted autist...</td>\n",
       "      <td>Have you had a definite desire to have a total...</td>\n",
       "      <td>1</td>\n",
       "      <td>[0.033100642, 0.020874992, 0.0064385766, 0.100...</td>\n",
       "      <td>[0.07992554, 0.03793945, 0.009521484, 0.136425...</td>\n",
       "    </tr>\n",
       "    <tr>\n",
       "      <th>2</th>\n",
       "      <td>eRisk2023-T3_Subject28</td>\n",
       "      <td>get never lost weight always feeling empty sto...</td>\n",
       "      <td>Has thinking about food, eating or calories ma...</td>\n",
       "      <td>6</td>\n",
       "      <td>[0.024046626, 0.034505185, 0.0068059387, 0.110...</td>\n",
       "      <td>[0.05696106, 0.07692991, 0.05092948, 0.1493661...</td>\n",
       "    </tr>\n",
       "    <tr>\n",
       "      <th>3</th>\n",
       "      <td>eRisk2023-T3_Subject21</td>\n",
       "      <td>might bit track post someone explain see much ...</td>\n",
       "      <td>How much would it have upset you if you had be...</td>\n",
       "      <td>1</td>\n",
       "      <td>[0.04190163, 0.020787582, 0.0033705877, 0.1016...</td>\n",
       "      <td>[0.068392664, 0.07142223, -0.00074351917, 0.02...</td>\n",
       "    </tr>\n",
       "    <tr>\n",
       "      <th>4</th>\n",
       "      <td>eRisk2023-T3_Subject46</td>\n",
       "      <td>one mainly come im social setting ive tried lo...</td>\n",
       "      <td>Have you tried to exclude from your diet any f...</td>\n",
       "      <td>5</td>\n",
       "      <td>[0.042601615, 0.023390554, 0.006868688, 0.1052...</td>\n",
       "      <td>[0.07719283, 0.17119251, 0.08575578, 0.0619895...</td>\n",
       "    </tr>\n",
       "  </tbody>\n",
       "</table>\n",
       "</div>"
      ],
      "text/plain": [
       "                  Subject                                               text  \\\n",
       "0  eRisk2023-T3_Subject42  joke he commercialised huge number product man...   \n",
       "1  eRisk2023-T3_Subject19  read comment section lot comment posted autist...   \n",
       "2  eRisk2023-T3_Subject28  get never lost weight always feeling empty sto...   \n",
       "3  eRisk2023-T3_Subject21  might bit track post someone explain see much ...   \n",
       "4  eRisk2023-T3_Subject46  one mainly come im social setting ive tried lo...   \n",
       "\n",
       "                                            question  label  \\\n",
       "0  How uncomfortable have you felt about others s...      2   \n",
       "1  Have you had a definite desire to have a total...      1   \n",
       "2  Has thinking about food, eating or calories ma...      6   \n",
       "3  How much would it have upset you if you had be...      1   \n",
       "4  Have you tried to exclude from your diet any f...      5   \n",
       "\n",
       "                                     text embeddings  \\\n",
       "0  [0.04482429, 0.016458541, 0.015856944, 0.09611...   \n",
       "1  [0.033100642, 0.020874992, 0.0064385766, 0.100...   \n",
       "2  [0.024046626, 0.034505185, 0.0068059387, 0.110...   \n",
       "3  [0.04190163, 0.020787582, 0.0033705877, 0.1016...   \n",
       "4  [0.042601615, 0.023390554, 0.006868688, 0.1052...   \n",
       "\n",
       "                                 question embeddings  \n",
       "0  [0.06806292, 0.111238204, -0.023045132, 0.1129...  \n",
       "1  [0.07992554, 0.03793945, 0.009521484, 0.136425...  \n",
       "2  [0.05696106, 0.07692991, 0.05092948, 0.1493661...  \n",
       "3  [0.068392664, 0.07142223, -0.00074351917, 0.02...  \n",
       "4  [0.07719283, 0.17119251, 0.08575578, 0.0619895...  "
      ]
     },
     "execution_count": 128,
     "metadata": {},
     "output_type": "execute_result"
    }
   ],
   "source": [
    "questions_df_train_with_backtranslation.head()"
   ]
  },
  {
   "cell_type": "code",
   "execution_count": 129,
   "metadata": {},
   "outputs": [],
   "source": [
    "questions_df_train_with_backtranslation['embeddings'] = questions_df_train_with_backtranslation.apply(\n",
    "    lambda row: np.concatenate((row['text embeddings'], row['question embeddings'])), axis=1)"
   ]
  },
  {
   "cell_type": "code",
   "execution_count": 130,
   "metadata": {},
   "outputs": [
    {
     "data": {
      "text/html": [
       "<div>\n",
       "<style scoped>\n",
       "    .dataframe tbody tr th:only-of-type {\n",
       "        vertical-align: middle;\n",
       "    }\n",
       "\n",
       "    .dataframe tbody tr th {\n",
       "        vertical-align: top;\n",
       "    }\n",
       "\n",
       "    .dataframe thead th {\n",
       "        text-align: right;\n",
       "    }\n",
       "</style>\n",
       "<table border=\"1\" class=\"dataframe\">\n",
       "  <thead>\n",
       "    <tr style=\"text-align: right;\">\n",
       "      <th></th>\n",
       "      <th>Subject</th>\n",
       "      <th>text</th>\n",
       "      <th>question</th>\n",
       "      <th>label</th>\n",
       "      <th>text embeddings</th>\n",
       "      <th>question embeddings</th>\n",
       "      <th>embeddings</th>\n",
       "    </tr>\n",
       "  </thead>\n",
       "  <tbody>\n",
       "    <tr>\n",
       "      <th>0</th>\n",
       "      <td>eRisk2023-T3_Subject42</td>\n",
       "      <td>joke he commercialised huge number product man...</td>\n",
       "      <td>How uncomfortable have you felt about others s...</td>\n",
       "      <td>2</td>\n",
       "      <td>[0.04482429, 0.016458541, 0.015856944, 0.09611...</td>\n",
       "      <td>[0.06806292, 0.111238204, -0.023045132, 0.1129...</td>\n",
       "      <td>[0.04482429, 0.016458541, 0.015856944, 0.09611...</td>\n",
       "    </tr>\n",
       "    <tr>\n",
       "      <th>1</th>\n",
       "      <td>eRisk2023-T3_Subject19</td>\n",
       "      <td>read comment section lot comment posted autist...</td>\n",
       "      <td>Have you had a definite desire to have a total...</td>\n",
       "      <td>1</td>\n",
       "      <td>[0.033100642, 0.020874992, 0.0064385766, 0.100...</td>\n",
       "      <td>[0.07992554, 0.03793945, 0.009521484, 0.136425...</td>\n",
       "      <td>[0.033100642, 0.020874992, 0.0064385766, 0.100...</td>\n",
       "    </tr>\n",
       "    <tr>\n",
       "      <th>2</th>\n",
       "      <td>eRisk2023-T3_Subject28</td>\n",
       "      <td>get never lost weight always feeling empty sto...</td>\n",
       "      <td>Has thinking about food, eating or calories ma...</td>\n",
       "      <td>6</td>\n",
       "      <td>[0.024046626, 0.034505185, 0.0068059387, 0.110...</td>\n",
       "      <td>[0.05696106, 0.07692991, 0.05092948, 0.1493661...</td>\n",
       "      <td>[0.024046626, 0.034505185, 0.0068059387, 0.110...</td>\n",
       "    </tr>\n",
       "    <tr>\n",
       "      <th>3</th>\n",
       "      <td>eRisk2023-T3_Subject21</td>\n",
       "      <td>might bit track post someone explain see much ...</td>\n",
       "      <td>How much would it have upset you if you had be...</td>\n",
       "      <td>1</td>\n",
       "      <td>[0.04190163, 0.020787582, 0.0033705877, 0.1016...</td>\n",
       "      <td>[0.068392664, 0.07142223, -0.00074351917, 0.02...</td>\n",
       "      <td>[0.04190163, 0.020787582, 0.0033705877, 0.1016...</td>\n",
       "    </tr>\n",
       "    <tr>\n",
       "      <th>4</th>\n",
       "      <td>eRisk2023-T3_Subject46</td>\n",
       "      <td>one mainly come im social setting ive tried lo...</td>\n",
       "      <td>Have you tried to exclude from your diet any f...</td>\n",
       "      <td>5</td>\n",
       "      <td>[0.042601615, 0.023390554, 0.006868688, 0.1052...</td>\n",
       "      <td>[0.07719283, 0.17119251, 0.08575578, 0.0619895...</td>\n",
       "      <td>[0.042601615, 0.023390554, 0.006868688, 0.1052...</td>\n",
       "    </tr>\n",
       "  </tbody>\n",
       "</table>\n",
       "</div>"
      ],
      "text/plain": [
       "                  Subject                                               text  \\\n",
       "0  eRisk2023-T3_Subject42  joke he commercialised huge number product man...   \n",
       "1  eRisk2023-T3_Subject19  read comment section lot comment posted autist...   \n",
       "2  eRisk2023-T3_Subject28  get never lost weight always feeling empty sto...   \n",
       "3  eRisk2023-T3_Subject21  might bit track post someone explain see much ...   \n",
       "4  eRisk2023-T3_Subject46  one mainly come im social setting ive tried lo...   \n",
       "\n",
       "                                            question  label  \\\n",
       "0  How uncomfortable have you felt about others s...      2   \n",
       "1  Have you had a definite desire to have a total...      1   \n",
       "2  Has thinking about food, eating or calories ma...      6   \n",
       "3  How much would it have upset you if you had be...      1   \n",
       "4  Have you tried to exclude from your diet any f...      5   \n",
       "\n",
       "                                     text embeddings  \\\n",
       "0  [0.04482429, 0.016458541, 0.015856944, 0.09611...   \n",
       "1  [0.033100642, 0.020874992, 0.0064385766, 0.100...   \n",
       "2  [0.024046626, 0.034505185, 0.0068059387, 0.110...   \n",
       "3  [0.04190163, 0.020787582, 0.0033705877, 0.1016...   \n",
       "4  [0.042601615, 0.023390554, 0.006868688, 0.1052...   \n",
       "\n",
       "                                 question embeddings  \\\n",
       "0  [0.06806292, 0.111238204, -0.023045132, 0.1129...   \n",
       "1  [0.07992554, 0.03793945, 0.009521484, 0.136425...   \n",
       "2  [0.05696106, 0.07692991, 0.05092948, 0.1493661...   \n",
       "3  [0.068392664, 0.07142223, -0.00074351917, 0.02...   \n",
       "4  [0.07719283, 0.17119251, 0.08575578, 0.0619895...   \n",
       "\n",
       "                                          embeddings  \n",
       "0  [0.04482429, 0.016458541, 0.015856944, 0.09611...  \n",
       "1  [0.033100642, 0.020874992, 0.0064385766, 0.100...  \n",
       "2  [0.024046626, 0.034505185, 0.0068059387, 0.110...  \n",
       "3  [0.04190163, 0.020787582, 0.0033705877, 0.1016...  \n",
       "4  [0.042601615, 0.023390554, 0.006868688, 0.1052...  "
      ]
     },
     "execution_count": 130,
     "metadata": {},
     "output_type": "execute_result"
    }
   ],
   "source": [
    "questions_df_train_with_backtranslation.head()"
   ]
  },
  {
   "cell_type": "code",
   "execution_count": 143,
   "metadata": {},
   "outputs": [],
   "source": [
    "X_train = np.vstack(questions_df_train_with_backtranslation['embeddings'].values)"
   ]
  },
  {
   "cell_type": "code",
   "execution_count": 144,
   "metadata": {},
   "outputs": [
    {
     "data": {
      "text/plain": [
       "(1363, 600)"
      ]
     },
     "execution_count": 144,
     "metadata": {},
     "output_type": "execute_result"
    }
   ],
   "source": [
    "X_train.shape"
   ]
  },
  {
   "cell_type": "code",
   "execution_count": 145,
   "metadata": {},
   "outputs": [],
   "source": [
    "y_train = questions_df_train_with_backtranslation['label']"
   ]
  },
  {
   "cell_type": "code",
   "execution_count": 147,
   "metadata": {},
   "outputs": [
    {
     "data": {
      "text/plain": [
       "(1363,)"
      ]
     },
     "execution_count": 147,
     "metadata": {},
     "output_type": "execute_result"
    }
   ],
   "source": [
    "y_train.shape"
   ]
  },
  {
   "cell_type": "code",
   "execution_count": 164,
   "metadata": {},
   "outputs": [
    {
     "data": {
      "text/html": [
       "<div>\n",
       "<style scoped>\n",
       "    .dataframe tbody tr th:only-of-type {\n",
       "        vertical-align: middle;\n",
       "    }\n",
       "\n",
       "    .dataframe tbody tr th {\n",
       "        vertical-align: top;\n",
       "    }\n",
       "\n",
       "    .dataframe thead th {\n",
       "        text-align: right;\n",
       "    }\n",
       "</style>\n",
       "<table border=\"1\" class=\"dataframe\">\n",
       "  <thead>\n",
       "    <tr style=\"text-align: right;\">\n",
       "      <th></th>\n",
       "      <th>Subject</th>\n",
       "      <th>text</th>\n",
       "      <th>question</th>\n",
       "      <th>label</th>\n",
       "    </tr>\n",
       "  </thead>\n",
       "  <tbody>\n",
       "    <tr>\n",
       "      <th>0</th>\n",
       "      <td>eRisk2022-T3_Subject1</td>\n",
       "      <td>thats thats post fucking utterly completely lo...</td>\n",
       "      <td>Have you been deliberately trying to limit the...</td>\n",
       "      <td>2</td>\n",
       "    </tr>\n",
       "    <tr>\n",
       "      <th>1</th>\n",
       "      <td>eRisk2022-T3_Subject1</td>\n",
       "      <td>thats thats post fucking utterly completely lo...</td>\n",
       "      <td>Have you gone for long periods of time (8 waki...</td>\n",
       "      <td>0</td>\n",
       "    </tr>\n",
       "    <tr>\n",
       "      <th>2</th>\n",
       "      <td>eRisk2022-T3_Subject1</td>\n",
       "      <td>thats thats post fucking utterly completely lo...</td>\n",
       "      <td>Have you tried to exclude from your diet any f...</td>\n",
       "      <td>0</td>\n",
       "    </tr>\n",
       "    <tr>\n",
       "      <th>3</th>\n",
       "      <td>eRisk2022-T3_Subject1</td>\n",
       "      <td>thats thats post fucking utterly completely lo...</td>\n",
       "      <td>Have you tried to follow definite rules regard...</td>\n",
       "      <td>0</td>\n",
       "    </tr>\n",
       "    <tr>\n",
       "      <th>4</th>\n",
       "      <td>eRisk2022-T3_Subject1</td>\n",
       "      <td>thats thats post fucking utterly completely lo...</td>\n",
       "      <td>Have you had a definite desire to have an empt...</td>\n",
       "      <td>0</td>\n",
       "    </tr>\n",
       "  </tbody>\n",
       "</table>\n",
       "</div>"
      ],
      "text/plain": [
       "                 Subject                                               text  \\\n",
       "0  eRisk2022-T3_Subject1  thats thats post fucking utterly completely lo...   \n",
       "1  eRisk2022-T3_Subject1  thats thats post fucking utterly completely lo...   \n",
       "2  eRisk2022-T3_Subject1  thats thats post fucking utterly completely lo...   \n",
       "3  eRisk2022-T3_Subject1  thats thats post fucking utterly completely lo...   \n",
       "4  eRisk2022-T3_Subject1  thats thats post fucking utterly completely lo...   \n",
       "\n",
       "                                            question  label  \n",
       "0  Have you been deliberately trying to limit the...      2  \n",
       "1  Have you gone for long periods of time (8 waki...      0  \n",
       "2  Have you tried to exclude from your diet any f...      0  \n",
       "3  Have you tried to follow definite rules regard...      0  \n",
       "4  Have you had a definite desire to have an empt...      0  "
      ]
     },
     "execution_count": 164,
     "metadata": {},
     "output_type": "execute_result"
    }
   ],
   "source": [
    "questions_df_test = pd.read_csv('questions_df_test.csv')\n",
    "questions_df_test.head()"
   ]
  },
  {
   "cell_type": "code",
   "execution_count": 165,
   "metadata": {},
   "outputs": [],
   "source": [
    "questions_df_test['text embeddings'] = questions_df_test['text'].apply(text_to_embeddings)\n",
    "questions_df_test['question embeddings'] = questions_df_test['question'].apply(text_to_embeddings)"
   ]
  },
  {
   "cell_type": "code",
   "execution_count": 166,
   "metadata": {},
   "outputs": [],
   "source": [
    "questions_df_test['embeddings'] = questions_df_test.apply(\n",
    "    lambda row: np.concatenate((row['text embeddings'], row['question embeddings'])), axis=1)"
   ]
  },
  {
   "cell_type": "code",
   "execution_count": 167,
   "metadata": {},
   "outputs": [],
   "source": [
    "X_test = np.vstack(questions_df_test['embeddings'].values)"
   ]
  },
  {
   "cell_type": "markdown",
   "metadata": {},
   "source": [
    "### Logistic Regression"
   ]
  },
  {
   "cell_type": "code",
   "execution_count": 152,
   "metadata": {},
   "outputs": [
    {
     "data": {
      "text/html": [
       "<style>#sk-container-id-1 {color: black;}#sk-container-id-1 pre{padding: 0;}#sk-container-id-1 div.sk-toggleable {background-color: white;}#sk-container-id-1 label.sk-toggleable__label {cursor: pointer;display: block;width: 100%;margin-bottom: 0;padding: 0.3em;box-sizing: border-box;text-align: center;}#sk-container-id-1 label.sk-toggleable__label-arrow:before {content: \"▸\";float: left;margin-right: 0.25em;color: #696969;}#sk-container-id-1 label.sk-toggleable__label-arrow:hover:before {color: black;}#sk-container-id-1 div.sk-estimator:hover label.sk-toggleable__label-arrow:before {color: black;}#sk-container-id-1 div.sk-toggleable__content {max-height: 0;max-width: 0;overflow: hidden;text-align: left;background-color: #f0f8ff;}#sk-container-id-1 div.sk-toggleable__content pre {margin: 0.2em;color: black;border-radius: 0.25em;background-color: #f0f8ff;}#sk-container-id-1 input.sk-toggleable__control:checked~div.sk-toggleable__content {max-height: 200px;max-width: 100%;overflow: auto;}#sk-container-id-1 input.sk-toggleable__control:checked~label.sk-toggleable__label-arrow:before {content: \"▾\";}#sk-container-id-1 div.sk-estimator input.sk-toggleable__control:checked~label.sk-toggleable__label {background-color: #d4ebff;}#sk-container-id-1 div.sk-label input.sk-toggleable__control:checked~label.sk-toggleable__label {background-color: #d4ebff;}#sk-container-id-1 input.sk-hidden--visually {border: 0;clip: rect(1px 1px 1px 1px);clip: rect(1px, 1px, 1px, 1px);height: 1px;margin: -1px;overflow: hidden;padding: 0;position: absolute;width: 1px;}#sk-container-id-1 div.sk-estimator {font-family: monospace;background-color: #f0f8ff;border: 1px dotted black;border-radius: 0.25em;box-sizing: border-box;margin-bottom: 0.5em;}#sk-container-id-1 div.sk-estimator:hover {background-color: #d4ebff;}#sk-container-id-1 div.sk-parallel-item::after {content: \"\";width: 100%;border-bottom: 1px solid gray;flex-grow: 1;}#sk-container-id-1 div.sk-label:hover label.sk-toggleable__label {background-color: #d4ebff;}#sk-container-id-1 div.sk-serial::before {content: \"\";position: absolute;border-left: 1px solid gray;box-sizing: border-box;top: 0;bottom: 0;left: 50%;z-index: 0;}#sk-container-id-1 div.sk-serial {display: flex;flex-direction: column;align-items: center;background-color: white;padding-right: 0.2em;padding-left: 0.2em;position: relative;}#sk-container-id-1 div.sk-item {position: relative;z-index: 1;}#sk-container-id-1 div.sk-parallel {display: flex;align-items: stretch;justify-content: center;background-color: white;position: relative;}#sk-container-id-1 div.sk-item::before, #sk-container-id-1 div.sk-parallel-item::before {content: \"\";position: absolute;border-left: 1px solid gray;box-sizing: border-box;top: 0;bottom: 0;left: 50%;z-index: -1;}#sk-container-id-1 div.sk-parallel-item {display: flex;flex-direction: column;z-index: 1;position: relative;background-color: white;}#sk-container-id-1 div.sk-parallel-item:first-child::after {align-self: flex-end;width: 50%;}#sk-container-id-1 div.sk-parallel-item:last-child::after {align-self: flex-start;width: 50%;}#sk-container-id-1 div.sk-parallel-item:only-child::after {width: 0;}#sk-container-id-1 div.sk-dashed-wrapped {border: 1px dashed gray;margin: 0 0.4em 0.5em 0.4em;box-sizing: border-box;padding-bottom: 0.4em;background-color: white;}#sk-container-id-1 div.sk-label label {font-family: monospace;font-weight: bold;display: inline-block;line-height: 1.2em;}#sk-container-id-1 div.sk-label-container {text-align: center;}#sk-container-id-1 div.sk-container {/* jupyter's `normalize.less` sets `[hidden] { display: none; }` but bootstrap.min.css set `[hidden] { display: none !important; }` so we also need the `!important` here to be able to override the default hidden behavior on the sphinx rendered scikit-learn.org. See: https://github.com/scikit-learn/scikit-learn/issues/21755 */display: inline-block !important;position: relative;}#sk-container-id-1 div.sk-text-repr-fallback {display: none;}</style><div id=\"sk-container-id-1\" class=\"sk-top-container\"><div class=\"sk-text-repr-fallback\"><pre>LogisticRegression(max_iter=1000)</pre><b>In a Jupyter environment, please rerun this cell to show the HTML representation or trust the notebook. <br />On GitHub, the HTML representation is unable to render, please try loading this page with nbviewer.org.</b></div><div class=\"sk-container\" hidden><div class=\"sk-item\"><div class=\"sk-estimator sk-toggleable\"><input class=\"sk-toggleable__control sk-hidden--visually\" id=\"sk-estimator-id-1\" type=\"checkbox\" checked><label for=\"sk-estimator-id-1\" class=\"sk-toggleable__label sk-toggleable__label-arrow\">LogisticRegression</label><div class=\"sk-toggleable__content\"><pre>LogisticRegression(max_iter=1000)</pre></div></div></div></div></div>"
      ],
      "text/plain": [
       "LogisticRegression(max_iter=1000)"
      ]
     },
     "execution_count": 152,
     "metadata": {},
     "output_type": "execute_result"
    }
   ],
   "source": [
    "classifier = LogisticRegression(max_iter=1000)  # You can adjust parameters as needed\n",
    "classifier.fit(X_train, y_train)"
   ]
  },
  {
   "cell_type": "code",
   "execution_count": 172,
   "metadata": {},
   "outputs": [
    {
     "name": "stdout",
     "output_type": "stream",
     "text": [
      "Mean Zero-One Error:  0.6964285714285714\n",
      "Mean Absolute Error:  2.0048701298701297\n",
      "Macroaveraged Mean Absolute Error:  1.5419785936703228\n",
      "Restrained Subscale:  2.2222896815157624\n",
      "Eating Concern Subscale:  2.546987015503388\n",
      "Shape Concern Subscale:  1.4394396851354547\n",
      "Weight Concern Subscale:  1.4217695212053785\n",
      "Global ED:  1.579956504402438\n"
     ]
    }
   ],
   "source": [
    "y_pred_lg = classifier.predict(X_test)\n",
    "y_pred_2d_lg = np.array(y_pred_lg).reshape(28, 22)\n",
    "find_all_metrics(labels_test_np, y_pred_2d_lg)"
   ]
  },
  {
   "cell_type": "markdown",
   "metadata": {},
   "source": [
    "### Linear SVM"
   ]
  },
  {
   "cell_type": "code",
   "execution_count": 173,
   "metadata": {},
   "outputs": [
    {
     "name": "stderr",
     "output_type": "stream",
     "text": [
      "c:\\Users\\91900\\AppData\\Local\\Programs\\Python\\Python310\\lib\\site-packages\\sklearn\\svm\\_classes.py:32: FutureWarning: The default value of `dual` will change from `True` to `'auto'` in 1.5. Set the value of `dual` explicitly to suppress the warning.\n",
      "  warnings.warn(\n"
     ]
    }
   ],
   "source": [
    "svm_classifier = LinearSVC(max_iter=10000) \n",
    "svm_classifier.fit(X_train, y_train)\n",
    "\n",
    "y_pred_svm = svm_classifier.predict(X_test)"
   ]
  },
  {
   "cell_type": "code",
   "execution_count": 174,
   "metadata": {},
   "outputs": [
    {
     "name": "stdout",
     "output_type": "stream",
     "text": [
      "Mean Zero-One Error:  0.6720779220779222\n",
      "Mean Absolute Error:  1.9496753246753247\n",
      "Macroaveraged Mean Absolute Error:  1.5926937783543587\n",
      "Restrained Subscale:  2.2446762413701062\n",
      "Eating Concern Subscale:  2.4233978507164573\n",
      "Shape Concern Subscale:  1.511304131725785\n",
      "Weight Concern Subscale:  1.4157279803287472\n",
      "Global ED:  1.511513200080587\n"
     ]
    }
   ],
   "source": [
    "y_pred_2d_svm = np.array(y_pred_svm).reshape(28, 22)\n",
    "find_all_metrics(labels_test_np, y_pred_2d_svm)"
   ]
  },
  {
   "cell_type": "markdown",
   "metadata": {},
   "source": [
    "### Random Forest"
   ]
  },
  {
   "cell_type": "code",
   "execution_count": 176,
   "metadata": {},
   "outputs": [],
   "source": [
    "rf_classifier = RandomForestClassifier(n_estimators=100, random_state=42) \n",
    "rf_classifier.fit(X_train, y_train)\n",
    "\n",
    "y_pred_rf = rf_classifier.predict(X_test)"
   ]
  },
  {
   "cell_type": "code",
   "execution_count": 177,
   "metadata": {},
   "outputs": [
    {
     "name": "stdout",
     "output_type": "stream",
     "text": [
      "Mean Zero-One Error:  0.75487012987013\n",
      "Mean Absolute Error:  1.9740259740259738\n",
      "Macroaveraged Mean Absolute Error:  1.5476342177335731\n",
      "Restrained Subscale:  2.090796157311509\n",
      "Eating Concern Subscale:  2.0220216192146485\n",
      "Shape Concern Subscale:  1.700512002729934\n",
      "Weight Concern Subscale:  1.5514969729725085\n",
      "Global ED:  1.6067510683163446\n"
     ]
    }
   ],
   "source": [
    "y_pred_2d_rf = np.array(y_pred_rf).reshape(28, 22)\n",
    "find_all_metrics(labels_test_np, y_pred_2d_rf)"
   ]
  },
  {
   "cell_type": "markdown",
   "metadata": {},
   "source": [
    "### Gradient Boosting"
   ]
  },
  {
   "cell_type": "code",
   "execution_count": 180,
   "metadata": {},
   "outputs": [],
   "source": [
    "gb_classifier = GradientBoostingClassifier(n_estimators=100, learning_rate=0.1, random_state=42) \n",
    "gb_classifier.fit(X_train, y_train)\n",
    "\n",
    "y_pred_gb = gb_classifier.predict(X_test)"
   ]
  },
  {
   "cell_type": "code",
   "execution_count": 181,
   "metadata": {},
   "outputs": [
    {
     "name": "stdout",
     "output_type": "stream",
     "text": [
      "Mean Zero-One Error:  0.7564935064935066\n",
      "Mean Absolute Error:  1.8490259740259738\n",
      "Macroaveraged Mean Absolute Error:  1.4130586060466563\n",
      "Restrained Subscale:  1.9748417658131499\n",
      "Eating Concern Subscale:  1.5847487407878167\n",
      "Shape Concern Subscale:  1.4460151525584273\n",
      "Weight Concern Subscale:  1.6660475040389116\n",
      "Global ED:  1.386725069150592\n"
     ]
    }
   ],
   "source": [
    "y_pred_2d_gb = np.array(y_pred_gb).reshape(28, 22)\n",
    "find_all_metrics(labels_test_np, y_pred_2d_gb)"
   ]
  },
  {
   "cell_type": "markdown",
   "metadata": {},
   "source": [
    "### Final Table and Store Results"
   ]
  },
  {
   "cell_type": "code",
   "execution_count": 185,
   "metadata": {},
   "outputs": [
    {
     "name": "stderr",
     "output_type": "stream",
     "text": [
      "C:\\Users\\91900\\AppData\\Local\\Temp\\ipykernel_40668\\4144291010.py:3: FutureWarning: The frame.append method is deprecated and will be removed from pandas in a future version. Use pandas.concat instead.\n",
      "  summary_df_4 = summary_df_4.append({'Model': 'Logistic Regression (Word2Vec + BT)', 'MAE': mean_absolute_error(labels_test_np, y_pred_2d_lg), 'MZOE': mean_zero_one_error(labels_test_np, y_pred_2d_lg), 'MAE_macro': macroaveraged_mean_absolute_error(labels_test_np, y_pred_2d_lg), 'GED': global_ED(labels_test_np, y_pred_2d_lg), 'RS': restrained_subscale(labels_test_np, y_pred_2d_lg), 'ECS': eating_concern_subscale(labels_test_np, y_pred_2d_lg), 'SCS': shape_concern_subscale(labels_test_np, y_pred_2d_lg), 'WCS': weight_concern_subscale(labels_test_np, y_pred_2d_lg)}, ignore_index=True)\n",
      "C:\\Users\\91900\\AppData\\Local\\Temp\\ipykernel_40668\\4144291010.py:4: FutureWarning: The frame.append method is deprecated and will be removed from pandas in a future version. Use pandas.concat instead.\n",
      "  summary_df_4 = summary_df_4.append({'Model': 'Linear Support Vector Machine (Word2Vec + BT)', 'MAE': mean_absolute_error(labels_test_np, y_pred_2d_svm), 'MZOE': mean_zero_one_error(labels_test_np, y_pred_2d_svm), 'MAE_macro': macroaveraged_mean_absolute_error(labels_test_np, y_pred_2d_svm), 'GED': global_ED(labels_test_np, y_pred_2d_svm), 'RS': restrained_subscale(labels_test_np, y_pred_2d_svm), 'ECS': eating_concern_subscale(labels_test_np, y_pred_2d_svm), 'SCS': shape_concern_subscale(labels_test_np, y_pred_2d_svm), 'WCS': weight_concern_subscale(labels_test_np, y_pred_2d_svm)}, ignore_index=True)\n",
      "C:\\Users\\91900\\AppData\\Local\\Temp\\ipykernel_40668\\4144291010.py:5: FutureWarning: The frame.append method is deprecated and will be removed from pandas in a future version. Use pandas.concat instead.\n",
      "  summary_df_4 = summary_df_4.append({'Model': 'Random Forest (Word2Vec + BT)', 'MAE': mean_absolute_error(labels_test_np, y_pred_2d_rf), 'MZOE': mean_zero_one_error(labels_test_np, y_pred_2d_rf), 'MAE_macro': macroaveraged_mean_absolute_error(labels_test_np, y_pred_2d_rf), 'GED': global_ED(labels_test_np, y_pred_2d_rf), 'RS': restrained_subscale(labels_test_np, y_pred_2d_rf), 'ECS': eating_concern_subscale(labels_test_np, y_pred_2d_rf), 'SCS': shape_concern_subscale(labels_test_np, y_pred_2d_rf), 'WCS': weight_concern_subscale(labels_test_np, y_pred_2d_rf)}, ignore_index=True)\n",
      "C:\\Users\\91900\\AppData\\Local\\Temp\\ipykernel_40668\\4144291010.py:6: FutureWarning: The frame.append method is deprecated and will be removed from pandas in a future version. Use pandas.concat instead.\n",
      "  summary_df_4 = summary_df_4.append({'Model': 'Gradient Boosting (Word2Vec + BT)', 'MAE': mean_absolute_error(labels_test_np, y_pred_2d_gb), 'MZOE': mean_zero_one_error(labels_test_np, y_pred_2d_gb), 'MAE_macro': macroaveraged_mean_absolute_error(labels_test_np, y_pred_2d_gb), 'GED': global_ED(labels_test_np, y_pred_2d_gb), 'RS': restrained_subscale(labels_test_np, y_pred_2d_gb), 'ECS': eating_concern_subscale(labels_test_np, y_pred_2d_gb), 'SCS': shape_concern_subscale(labels_test_np, y_pred_2d_gb), 'WCS': weight_concern_subscale(labels_test_np, y_pred_2d_gb)}, ignore_index=True)\n"
     ]
    }
   ],
   "source": [
    "summary_df_4 = pd.DataFrame(columns=['Model', 'MAE', 'MZOE', 'MAE_macro', 'GED', 'RS', 'ECS', 'SCS', 'WCS'])\n",
    "\n",
    "summary_df_4 = summary_df_4.append({'Model': 'Logistic Regression (Word2Vec + BT)', 'MAE': mean_absolute_error(labels_test_np, y_pred_2d_lg), 'MZOE': mean_zero_one_error(labels_test_np, y_pred_2d_lg), 'MAE_macro': macroaveraged_mean_absolute_error(labels_test_np, y_pred_2d_lg), 'GED': global_ED(labels_test_np, y_pred_2d_lg), 'RS': restrained_subscale(labels_test_np, y_pred_2d_lg), 'ECS': eating_concern_subscale(labels_test_np, y_pred_2d_lg), 'SCS': shape_concern_subscale(labels_test_np, y_pred_2d_lg), 'WCS': weight_concern_subscale(labels_test_np, y_pred_2d_lg)}, ignore_index=True)\n",
    "summary_df_4 = summary_df_4.append({'Model': 'Linear Support Vector Machine (Word2Vec + BT)', 'MAE': mean_absolute_error(labels_test_np, y_pred_2d_svm), 'MZOE': mean_zero_one_error(labels_test_np, y_pred_2d_svm), 'MAE_macro': macroaveraged_mean_absolute_error(labels_test_np, y_pred_2d_svm), 'GED': global_ED(labels_test_np, y_pred_2d_svm), 'RS': restrained_subscale(labels_test_np, y_pred_2d_svm), 'ECS': eating_concern_subscale(labels_test_np, y_pred_2d_svm), 'SCS': shape_concern_subscale(labels_test_np, y_pred_2d_svm), 'WCS': weight_concern_subscale(labels_test_np, y_pred_2d_svm)}, ignore_index=True)\n",
    "summary_df_4 = summary_df_4.append({'Model': 'Random Forest (Word2Vec + BT)', 'MAE': mean_absolute_error(labels_test_np, y_pred_2d_rf), 'MZOE': mean_zero_one_error(labels_test_np, y_pred_2d_rf), 'MAE_macro': macroaveraged_mean_absolute_error(labels_test_np, y_pred_2d_rf), 'GED': global_ED(labels_test_np, y_pred_2d_rf), 'RS': restrained_subscale(labels_test_np, y_pred_2d_rf), 'ECS': eating_concern_subscale(labels_test_np, y_pred_2d_rf), 'SCS': shape_concern_subscale(labels_test_np, y_pred_2d_rf), 'WCS': weight_concern_subscale(labels_test_np, y_pred_2d_rf)}, ignore_index=True)\n",
    "summary_df_4 = summary_df_4.append({'Model': 'Gradient Boosting (Word2Vec + BT)', 'MAE': mean_absolute_error(labels_test_np, y_pred_2d_gb), 'MZOE': mean_zero_one_error(labels_test_np, y_pred_2d_gb), 'MAE_macro': macroaveraged_mean_absolute_error(labels_test_np, y_pred_2d_gb), 'GED': global_ED(labels_test_np, y_pred_2d_gb), 'RS': restrained_subscale(labels_test_np, y_pred_2d_gb), 'ECS': eating_concern_subscale(labels_test_np, y_pred_2d_gb), 'SCS': shape_concern_subscale(labels_test_np, y_pred_2d_gb), 'WCS': weight_concern_subscale(labels_test_np, y_pred_2d_gb)}, ignore_index=True)"
   ]
  },
  {
   "cell_type": "code",
   "execution_count": 186,
   "metadata": {},
   "outputs": [
    {
     "data": {
      "text/html": [
       "<div>\n",
       "<style scoped>\n",
       "    .dataframe tbody tr th:only-of-type {\n",
       "        vertical-align: middle;\n",
       "    }\n",
       "\n",
       "    .dataframe tbody tr th {\n",
       "        vertical-align: top;\n",
       "    }\n",
       "\n",
       "    .dataframe thead th {\n",
       "        text-align: right;\n",
       "    }\n",
       "</style>\n",
       "<table border=\"1\" class=\"dataframe\">\n",
       "  <thead>\n",
       "    <tr style=\"text-align: right;\">\n",
       "      <th></th>\n",
       "      <th>Model</th>\n",
       "      <th>MAE</th>\n",
       "      <th>MZOE</th>\n",
       "      <th>MAE_macro</th>\n",
       "      <th>GED</th>\n",
       "      <th>RS</th>\n",
       "      <th>ECS</th>\n",
       "      <th>SCS</th>\n",
       "      <th>WCS</th>\n",
       "    </tr>\n",
       "  </thead>\n",
       "  <tbody>\n",
       "    <tr>\n",
       "      <th>0</th>\n",
       "      <td>Logistic Regression (Word2Vec + BT)</td>\n",
       "      <td>2.004870</td>\n",
       "      <td>0.696429</td>\n",
       "      <td>1.541979</td>\n",
       "      <td>1.579957</td>\n",
       "      <td>2.222290</td>\n",
       "      <td>2.546987</td>\n",
       "      <td>1.439440</td>\n",
       "      <td>1.421770</td>\n",
       "    </tr>\n",
       "    <tr>\n",
       "      <th>1</th>\n",
       "      <td>Linear Support Vector Machine (Word2Vec + BT)</td>\n",
       "      <td>1.949675</td>\n",
       "      <td>0.672078</td>\n",
       "      <td>1.592694</td>\n",
       "      <td>1.511513</td>\n",
       "      <td>2.244676</td>\n",
       "      <td>2.423398</td>\n",
       "      <td>1.511304</td>\n",
       "      <td>1.415728</td>\n",
       "    </tr>\n",
       "    <tr>\n",
       "      <th>2</th>\n",
       "      <td>Random Forest (Word2Vec + BT)</td>\n",
       "      <td>1.974026</td>\n",
       "      <td>0.754870</td>\n",
       "      <td>1.547634</td>\n",
       "      <td>1.606751</td>\n",
       "      <td>2.090796</td>\n",
       "      <td>2.022022</td>\n",
       "      <td>1.700512</td>\n",
       "      <td>1.551497</td>\n",
       "    </tr>\n",
       "    <tr>\n",
       "      <th>3</th>\n",
       "      <td>Gradient Boosting (Word2Vec + BT)</td>\n",
       "      <td>1.849026</td>\n",
       "      <td>0.756494</td>\n",
       "      <td>1.413059</td>\n",
       "      <td>1.386725</td>\n",
       "      <td>1.974842</td>\n",
       "      <td>1.584749</td>\n",
       "      <td>1.446015</td>\n",
       "      <td>1.666048</td>\n",
       "    </tr>\n",
       "  </tbody>\n",
       "</table>\n",
       "</div>"
      ],
      "text/plain": [
       "                                           Model       MAE      MZOE  \\\n",
       "0            Logistic Regression (Word2Vec + BT)  2.004870  0.696429   \n",
       "1  Linear Support Vector Machine (Word2Vec + BT)  1.949675  0.672078   \n",
       "2                  Random Forest (Word2Vec + BT)  1.974026  0.754870   \n",
       "3              Gradient Boosting (Word2Vec + BT)  1.849026  0.756494   \n",
       "\n",
       "   MAE_macro       GED        RS       ECS       SCS       WCS  \n",
       "0   1.541979  1.579957  2.222290  2.546987  1.439440  1.421770  \n",
       "1   1.592694  1.511513  2.244676  2.423398  1.511304  1.415728  \n",
       "2   1.547634  1.606751  2.090796  2.022022  1.700512  1.551497  \n",
       "3   1.413059  1.386725  1.974842  1.584749  1.446015  1.666048  "
      ]
     },
     "execution_count": 186,
     "metadata": {},
     "output_type": "execute_result"
    }
   ],
   "source": [
    "summary_df_4.head()"
   ]
  },
  {
   "cell_type": "code",
   "execution_count": 187,
   "metadata": {},
   "outputs": [],
   "source": [
    "summary_df_4.to_csv('summary_4.csv', index = False)"
   ]
  },
  {
   "cell_type": "markdown",
   "metadata": {},
   "source": [
    "## With Dim Red"
   ]
  },
  {
   "cell_type": "markdown",
   "metadata": {},
   "source": [
    "### Init with PCA"
   ]
  },
  {
   "cell_type": "code",
   "execution_count": 236,
   "metadata": {},
   "outputs": [
    {
     "data": {
      "text/html": [
       "<div>\n",
       "<style scoped>\n",
       "    .dataframe tbody tr th:only-of-type {\n",
       "        vertical-align: middle;\n",
       "    }\n",
       "\n",
       "    .dataframe tbody tr th {\n",
       "        vertical-align: top;\n",
       "    }\n",
       "\n",
       "    .dataframe thead th {\n",
       "        text-align: right;\n",
       "    }\n",
       "</style>\n",
       "<table border=\"1\" class=\"dataframe\">\n",
       "  <thead>\n",
       "    <tr style=\"text-align: right;\">\n",
       "      <th></th>\n",
       "      <th>Subject</th>\n",
       "      <th>text</th>\n",
       "      <th>question</th>\n",
       "      <th>label</th>\n",
       "      <th>text embeddings</th>\n",
       "      <th>question embeddings</th>\n",
       "      <th>embeddings</th>\n",
       "    </tr>\n",
       "  </thead>\n",
       "  <tbody>\n",
       "    <tr>\n",
       "      <th>0</th>\n",
       "      <td>eRisk2023-T3_Subject42</td>\n",
       "      <td>joke he commercialised huge number product man...</td>\n",
       "      <td>How uncomfortable have you felt about others s...</td>\n",
       "      <td>2</td>\n",
       "      <td>[0.04482429, 0.016458541, 0.015856944, 0.09611...</td>\n",
       "      <td>[0.06806292, 0.111238204, -0.023045132, 0.1129...</td>\n",
       "      <td>[0.04482429, 0.016458541, 0.015856944, 0.09611...</td>\n",
       "    </tr>\n",
       "    <tr>\n",
       "      <th>1</th>\n",
       "      <td>eRisk2023-T3_Subject19</td>\n",
       "      <td>read comment section lot comment posted autist...</td>\n",
       "      <td>Have you had a definite desire to have a total...</td>\n",
       "      <td>1</td>\n",
       "      <td>[0.033100642, 0.020874992, 0.0064385766, 0.100...</td>\n",
       "      <td>[0.07992554, 0.03793945, 0.009521484, 0.136425...</td>\n",
       "      <td>[0.033100642, 0.020874992, 0.0064385766, 0.100...</td>\n",
       "    </tr>\n",
       "    <tr>\n",
       "      <th>2</th>\n",
       "      <td>eRisk2023-T3_Subject28</td>\n",
       "      <td>get never lost weight always feeling empty sto...</td>\n",
       "      <td>Has thinking about food, eating or calories ma...</td>\n",
       "      <td>6</td>\n",
       "      <td>[0.024046626, 0.034505185, 0.0068059387, 0.110...</td>\n",
       "      <td>[0.05696106, 0.07692991, 0.05092948, 0.1493661...</td>\n",
       "      <td>[0.024046626, 0.034505185, 0.0068059387, 0.110...</td>\n",
       "    </tr>\n",
       "    <tr>\n",
       "      <th>3</th>\n",
       "      <td>eRisk2023-T3_Subject21</td>\n",
       "      <td>might bit track post someone explain see much ...</td>\n",
       "      <td>How much would it have upset you if you had be...</td>\n",
       "      <td>1</td>\n",
       "      <td>[0.04190163, 0.020787582, 0.0033705877, 0.1016...</td>\n",
       "      <td>[0.068392664, 0.07142223, -0.00074351917, 0.02...</td>\n",
       "      <td>[0.04190163, 0.020787582, 0.0033705877, 0.1016...</td>\n",
       "    </tr>\n",
       "    <tr>\n",
       "      <th>4</th>\n",
       "      <td>eRisk2023-T3_Subject46</td>\n",
       "      <td>one mainly come im social setting ive tried lo...</td>\n",
       "      <td>Have you tried to exclude from your diet any f...</td>\n",
       "      <td>5</td>\n",
       "      <td>[0.042601615, 0.023390554, 0.006868688, 0.1052...</td>\n",
       "      <td>[0.07719283, 0.17119251, 0.08575578, 0.0619895...</td>\n",
       "      <td>[0.042601615, 0.023390554, 0.006868688, 0.1052...</td>\n",
       "    </tr>\n",
       "  </tbody>\n",
       "</table>\n",
       "</div>"
      ],
      "text/plain": [
       "                  Subject                                               text  \\\n",
       "0  eRisk2023-T3_Subject42  joke he commercialised huge number product man...   \n",
       "1  eRisk2023-T3_Subject19  read comment section lot comment posted autist...   \n",
       "2  eRisk2023-T3_Subject28  get never lost weight always feeling empty sto...   \n",
       "3  eRisk2023-T3_Subject21  might bit track post someone explain see much ...   \n",
       "4  eRisk2023-T3_Subject46  one mainly come im social setting ive tried lo...   \n",
       "\n",
       "                                            question  label  \\\n",
       "0  How uncomfortable have you felt about others s...      2   \n",
       "1  Have you had a definite desire to have a total...      1   \n",
       "2  Has thinking about food, eating or calories ma...      6   \n",
       "3  How much would it have upset you if you had be...      1   \n",
       "4  Have you tried to exclude from your diet any f...      5   \n",
       "\n",
       "                                     text embeddings  \\\n",
       "0  [0.04482429, 0.016458541, 0.015856944, 0.09611...   \n",
       "1  [0.033100642, 0.020874992, 0.0064385766, 0.100...   \n",
       "2  [0.024046626, 0.034505185, 0.0068059387, 0.110...   \n",
       "3  [0.04190163, 0.020787582, 0.0033705877, 0.1016...   \n",
       "4  [0.042601615, 0.023390554, 0.006868688, 0.1052...   \n",
       "\n",
       "                                 question embeddings  \\\n",
       "0  [0.06806292, 0.111238204, -0.023045132, 0.1129...   \n",
       "1  [0.07992554, 0.03793945, 0.009521484, 0.136425...   \n",
       "2  [0.05696106, 0.07692991, 0.05092948, 0.1493661...   \n",
       "3  [0.068392664, 0.07142223, -0.00074351917, 0.02...   \n",
       "4  [0.07719283, 0.17119251, 0.08575578, 0.0619895...   \n",
       "\n",
       "                                          embeddings  \n",
       "0  [0.04482429, 0.016458541, 0.015856944, 0.09611...  \n",
       "1  [0.033100642, 0.020874992, 0.0064385766, 0.100...  \n",
       "2  [0.024046626, 0.034505185, 0.0068059387, 0.110...  \n",
       "3  [0.04190163, 0.020787582, 0.0033705877, 0.1016...  \n",
       "4  [0.042601615, 0.023390554, 0.006868688, 0.1052...  "
      ]
     },
     "execution_count": 236,
     "metadata": {},
     "output_type": "execute_result"
    }
   ],
   "source": [
    "questions_df_train_with_backtranslation.head()"
   ]
  },
  {
   "cell_type": "code",
   "execution_count": 235,
   "metadata": {},
   "outputs": [],
   "source": [
    "# drop dim100 embedinng column\n",
    "questions_df_train_with_backtranslation = questions_df_train_with_backtranslation.drop(columns=['dim100 embeddings'])"
   ]
  },
  {
   "cell_type": "code",
   "execution_count": 237,
   "metadata": {},
   "outputs": [],
   "source": [
    "question_embeddings = np.vstack(questions_df_train_with_backtranslation['question embeddings'].values)"
   ]
  },
  {
   "cell_type": "code",
   "execution_count": 238,
   "metadata": {},
   "outputs": [
    {
     "data": {
      "text/plain": [
       "(1363, 300)"
      ]
     },
     "execution_count": 238,
     "metadata": {},
     "output_type": "execute_result"
    }
   ],
   "source": [
    "question_embeddings.shape"
   ]
  },
  {
   "cell_type": "code",
   "execution_count": 239,
   "metadata": {},
   "outputs": [],
   "source": [
    "pca = PCA(n_components=100)\n",
    "question_embeddings_100 = pca.fit_transform(question_embeddings)"
   ]
  },
  {
   "cell_type": "code",
   "execution_count": 240,
   "metadata": {},
   "outputs": [
    {
     "data": {
      "text/plain": [
       "(1363, 100)"
      ]
     },
     "execution_count": 240,
     "metadata": {},
     "output_type": "execute_result"
    }
   ],
   "source": [
    "question_embeddings_100.shape"
   ]
  },
  {
   "cell_type": "code",
   "execution_count": 241,
   "metadata": {},
   "outputs": [],
   "source": [
    "questions_df_train_with_backtranslation['dim100 embeddings'] = None\n",
    "\n",
    "# Iterate through the DataFrame rows and assign the reduced embeddings\n",
    "for i in range(len(question_embeddings_100)):\n",
    "    questions_df_train_with_backtranslation.at[i, 'dim100 embeddings'] = question_embeddings_100[i]"
   ]
  },
  {
   "cell_type": "code",
   "execution_count": 242,
   "metadata": {},
   "outputs": [
    {
     "data": {
      "text/html": [
       "<div>\n",
       "<style scoped>\n",
       "    .dataframe tbody tr th:only-of-type {\n",
       "        vertical-align: middle;\n",
       "    }\n",
       "\n",
       "    .dataframe tbody tr th {\n",
       "        vertical-align: top;\n",
       "    }\n",
       "\n",
       "    .dataframe thead th {\n",
       "        text-align: right;\n",
       "    }\n",
       "</style>\n",
       "<table border=\"1\" class=\"dataframe\">\n",
       "  <thead>\n",
       "    <tr style=\"text-align: right;\">\n",
       "      <th></th>\n",
       "      <th>Subject</th>\n",
       "      <th>text</th>\n",
       "      <th>question</th>\n",
       "      <th>label</th>\n",
       "      <th>text embeddings</th>\n",
       "      <th>question embeddings</th>\n",
       "      <th>embeddings</th>\n",
       "      <th>dim100 embeddings</th>\n",
       "    </tr>\n",
       "  </thead>\n",
       "  <tbody>\n",
       "    <tr>\n",
       "      <th>0</th>\n",
       "      <td>eRisk2023-T3_Subject42</td>\n",
       "      <td>joke he commercialised huge number product man...</td>\n",
       "      <td>How uncomfortable have you felt about others s...</td>\n",
       "      <td>2</td>\n",
       "      <td>[0.04482429, 0.016458541, 0.015856944, 0.09611...</td>\n",
       "      <td>[0.06806292, 0.111238204, -0.023045132, 0.1129...</td>\n",
       "      <td>[0.04482429, 0.016458541, 0.015856944, 0.09611...</td>\n",
       "      <td>[-0.22555406, -0.25169384, 0.18300542, -0.1784...</td>\n",
       "    </tr>\n",
       "    <tr>\n",
       "      <th>1</th>\n",
       "      <td>eRisk2023-T3_Subject19</td>\n",
       "      <td>read comment section lot comment posted autist...</td>\n",
       "      <td>Have you had a definite desire to have a total...</td>\n",
       "      <td>1</td>\n",
       "      <td>[0.033100642, 0.020874992, 0.0064385766, 0.100...</td>\n",
       "      <td>[0.07992554, 0.03793945, 0.009521484, 0.136425...</td>\n",
       "      <td>[0.033100642, 0.020874992, 0.0064385766, 0.100...</td>\n",
       "      <td>[-0.21145295, 0.21612102, 0.082926966, -0.3733...</td>\n",
       "    </tr>\n",
       "    <tr>\n",
       "      <th>2</th>\n",
       "      <td>eRisk2023-T3_Subject28</td>\n",
       "      <td>get never lost weight always feeling empty sto...</td>\n",
       "      <td>Has thinking about food, eating or calories ma...</td>\n",
       "      <td>6</td>\n",
       "      <td>[0.024046626, 0.034505185, 0.0068059387, 0.110...</td>\n",
       "      <td>[0.05696106, 0.07692991, 0.05092948, 0.1493661...</td>\n",
       "      <td>[0.024046626, 0.034505185, 0.0068059387, 0.110...</td>\n",
       "      <td>[-0.3015772, -0.22099744, 0.030641837, -0.0342...</td>\n",
       "    </tr>\n",
       "    <tr>\n",
       "      <th>3</th>\n",
       "      <td>eRisk2023-T3_Subject21</td>\n",
       "      <td>might bit track post someone explain see much ...</td>\n",
       "      <td>How much would it have upset you if you had be...</td>\n",
       "      <td>1</td>\n",
       "      <td>[0.04190163, 0.020787582, 0.0033705877, 0.1016...</td>\n",
       "      <td>[0.068392664, 0.07142223, -0.00074351917, 0.02...</td>\n",
       "      <td>[0.04190163, 0.020787582, 0.0033705877, 0.1016...</td>\n",
       "      <td>[-0.26274487, -0.13437401, -0.1031242, -0.0963...</td>\n",
       "    </tr>\n",
       "    <tr>\n",
       "      <th>4</th>\n",
       "      <td>eRisk2023-T3_Subject46</td>\n",
       "      <td>one mainly come im social setting ive tried lo...</td>\n",
       "      <td>Have you tried to exclude from your diet any f...</td>\n",
       "      <td>5</td>\n",
       "      <td>[0.042601615, 0.023390554, 0.006868688, 0.1052...</td>\n",
       "      <td>[0.07719283, 0.17119251, 0.08575578, 0.0619895...</td>\n",
       "      <td>[0.042601615, 0.023390554, 0.006868688, 0.1052...</td>\n",
       "      <td>[-0.111586474, 0.09823466, -0.16908477, 0.2758...</td>\n",
       "    </tr>\n",
       "  </tbody>\n",
       "</table>\n",
       "</div>"
      ],
      "text/plain": [
       "                  Subject                                               text  \\\n",
       "0  eRisk2023-T3_Subject42  joke he commercialised huge number product man...   \n",
       "1  eRisk2023-T3_Subject19  read comment section lot comment posted autist...   \n",
       "2  eRisk2023-T3_Subject28  get never lost weight always feeling empty sto...   \n",
       "3  eRisk2023-T3_Subject21  might bit track post someone explain see much ...   \n",
       "4  eRisk2023-T3_Subject46  one mainly come im social setting ive tried lo...   \n",
       "\n",
       "                                            question  label  \\\n",
       "0  How uncomfortable have you felt about others s...      2   \n",
       "1  Have you had a definite desire to have a total...      1   \n",
       "2  Has thinking about food, eating or calories ma...      6   \n",
       "3  How much would it have upset you if you had be...      1   \n",
       "4  Have you tried to exclude from your diet any f...      5   \n",
       "\n",
       "                                     text embeddings  \\\n",
       "0  [0.04482429, 0.016458541, 0.015856944, 0.09611...   \n",
       "1  [0.033100642, 0.020874992, 0.0064385766, 0.100...   \n",
       "2  [0.024046626, 0.034505185, 0.0068059387, 0.110...   \n",
       "3  [0.04190163, 0.020787582, 0.0033705877, 0.1016...   \n",
       "4  [0.042601615, 0.023390554, 0.006868688, 0.1052...   \n",
       "\n",
       "                                 question embeddings  \\\n",
       "0  [0.06806292, 0.111238204, -0.023045132, 0.1129...   \n",
       "1  [0.07992554, 0.03793945, 0.009521484, 0.136425...   \n",
       "2  [0.05696106, 0.07692991, 0.05092948, 0.1493661...   \n",
       "3  [0.068392664, 0.07142223, -0.00074351917, 0.02...   \n",
       "4  [0.07719283, 0.17119251, 0.08575578, 0.0619895...   \n",
       "\n",
       "                                          embeddings  \\\n",
       "0  [0.04482429, 0.016458541, 0.015856944, 0.09611...   \n",
       "1  [0.033100642, 0.020874992, 0.0064385766, 0.100...   \n",
       "2  [0.024046626, 0.034505185, 0.0068059387, 0.110...   \n",
       "3  [0.04190163, 0.020787582, 0.0033705877, 0.1016...   \n",
       "4  [0.042601615, 0.023390554, 0.006868688, 0.1052...   \n",
       "\n",
       "                                   dim100 embeddings  \n",
       "0  [-0.22555406, -0.25169384, 0.18300542, -0.1784...  \n",
       "1  [-0.21145295, 0.21612102, 0.082926966, -0.3733...  \n",
       "2  [-0.3015772, -0.22099744, 0.030641837, -0.0342...  \n",
       "3  [-0.26274487, -0.13437401, -0.1031242, -0.0963...  \n",
       "4  [-0.111586474, 0.09823466, -0.16908477, 0.2758...  "
      ]
     },
     "execution_count": 242,
     "metadata": {},
     "output_type": "execute_result"
    }
   ],
   "source": [
    "questions_df_train_with_backtranslation.head()"
   ]
  },
  {
   "cell_type": "code",
   "execution_count": 246,
   "metadata": {},
   "outputs": [],
   "source": [
    "questions_df_train_with_backtranslation['embeddings100'] = questions_df_train_with_backtranslation.apply(\n",
    "    lambda row: np.concatenate((row['text embeddings'], row['dim100 embeddings'])), axis=1)"
   ]
  },
  {
   "cell_type": "code",
   "execution_count": 249,
   "metadata": {},
   "outputs": [],
   "source": [
    "X_train = np.vstack(questions_df_train_with_backtranslation['embeddings100'].values)"
   ]
  },
  {
   "cell_type": "code",
   "execution_count": 250,
   "metadata": {},
   "outputs": [
    {
     "data": {
      "text/plain": [
       "(1363, 400)"
      ]
     },
     "execution_count": 250,
     "metadata": {},
     "output_type": "execute_result"
    }
   ],
   "source": [
    "X_train.shape"
   ]
  },
  {
   "cell_type": "code",
   "execution_count": 257,
   "metadata": {},
   "outputs": [
    {
     "data": {
      "text/plain": [
       "(1363,)"
      ]
     },
     "execution_count": 257,
     "metadata": {},
     "output_type": "execute_result"
    }
   ],
   "source": [
    "y_train = questions_df_train_with_backtranslation['label']\n",
    "y_train.shape"
   ]
  },
  {
   "cell_type": "code",
   "execution_count": 252,
   "metadata": {},
   "outputs": [
    {
     "data": {
      "text/plain": [
       "(616, 100)"
      ]
     },
     "execution_count": 252,
     "metadata": {},
     "output_type": "execute_result"
    }
   ],
   "source": [
    "question_embeddings_1 = np.vstack(questions_df_test['question embeddings'].values)\n",
    "pca = PCA(n_components=100)\n",
    "question_embeddings_100_1 = pca.fit_transform(question_embeddings_1)\n",
    "\n",
    "question_embeddings_100_1.shape"
   ]
  },
  {
   "cell_type": "code",
   "execution_count": 253,
   "metadata": {},
   "outputs": [],
   "source": [
    "questions_df_test['dim100 embeddings'] = None\n",
    "\n",
    "# Iterate through the DataFrame rows and assign the reduced embeddings\n",
    "for i in range(len(question_embeddings_100_1)):\n",
    "    questions_df_test.at[i, 'dim100 embeddings'] = question_embeddings_100_1[i]"
   ]
  },
  {
   "cell_type": "code",
   "execution_count": 254,
   "metadata": {},
   "outputs": [],
   "source": [
    "questions_df_test['embeddings100'] = questions_df_test.apply(\n",
    "    lambda row: np.concatenate((row['text embeddings'], row['dim100 embeddings'])), axis=1)"
   ]
  },
  {
   "cell_type": "code",
   "execution_count": 255,
   "metadata": {},
   "outputs": [],
   "source": [
    "X_test = np.vstack(questions_df_test['embeddings100'].values)"
   ]
  },
  {
   "cell_type": "code",
   "execution_count": 256,
   "metadata": {},
   "outputs": [
    {
     "data": {
      "text/plain": [
       "(616, 400)"
      ]
     },
     "execution_count": 256,
     "metadata": {},
     "output_type": "execute_result"
    }
   ],
   "source": [
    "X_test.shape"
   ]
  },
  {
   "cell_type": "markdown",
   "metadata": {},
   "source": [
    "### Fitting the Models"
   ]
  },
  {
   "cell_type": "code",
   "execution_count": 263,
   "metadata": {},
   "outputs": [],
   "source": [
    "def dim_red_backtrans(X_train, X_test, y_train, labels_test_np):\n",
    "    \n",
    "        classifier = LogisticRegression(max_iter=1000)  # You can adjust parameters as needed\n",
    "        classifier.fit(X_train, y_train)\n",
    "    \n",
    "        y_pred_lg = classifier.predict(X_test)\n",
    "        y_pred_2d_lg = np.array(y_pred_lg).reshape(28, 22)\n",
    "        print(\"LogisticRegression Results:\\n\")\n",
    "        find_all_metrics(labels_test_np, y_pred_2d_lg)\n",
    "    \n",
    "        svm_classifier = LinearSVC(max_iter=10000) \n",
    "        svm_classifier.fit(X_train, y_train)\n",
    "    \n",
    "        y_pred_svm = svm_classifier.predict(X_test)\n",
    "    \n",
    "        y_pred_2d_svm = np.array(y_pred_svm).reshape(28, 22)\n",
    "        print(\"\\nLinear Support Vector Machine Results:\\n\")\n",
    "        find_all_metrics(labels_test_np, y_pred_2d_svm)\n",
    "    \n",
    "        rf_classifier = RandomForestClassifier(n_estimators=100, random_state=42) \n",
    "        rf_classifier.fit(X_train, y_train)\n",
    "    \n",
    "        y_pred_rf = rf_classifier.predict(X_test)\n",
    "    \n",
    "        y_pred_2d_rf = np.array(y_pred_rf).reshape(28, 22)\n",
    "        print(\"\\nRandom Forest Results:\\n\")\n",
    "        find_all_metrics(labels_test_np, y_pred_2d_rf)\n",
    "    \n",
    "        gb_classifier = GradientBoostingClassifier(n_estimators=100, learning_rate=0.1, random_state=42) \n",
    "        gb_classifier.fit(X_train, y_train)\n",
    "    \n",
    "        y_pred_gb = gb_classifier.predict(X_test)\n",
    "    \n",
    "        y_pred_2d_gb = np.array(y_pred_gb).reshape(28, 22)\n",
    "        print(\"\\nGradient Boosting Results:\\n\")\n",
    "        find_all_metrics(labels_test_np, y_pred_2d_gb)\n",
    "\n",
    "        summary_df_4 = pd.DataFrame(columns=['Model', 'MAE', 'MZOE', 'MAE_macro', 'GED', 'RS', 'ECS', 'SCS', 'WCS'])\n",
    "\n",
    "        summary_df_4 = summary_df_4.append({'Model': 'Logistic Regression (Word2Vec + BT + Dim Red)', 'MAE': mean_absolute_error(labels_test_np, y_pred_2d_lg), 'MZOE': mean_zero_one_error(labels_test_np, y_pred_2d_lg), 'MAE_macro': macroaveraged_mean_absolute_error(labels_test_np, y_pred_2d_lg), 'GED': global_ED(labels_test_np, y_pred_2d_lg), 'RS': restrained_subscale(labels_test_np, y_pred_2d_lg), 'ECS': eating_concern_subscale(labels_test_np, y_pred_2d_lg), 'SCS': shape_concern_subscale(labels_test_np, y_pred_2d_lg), 'WCS': weight_concern_subscale(labels_test_np, y_pred_2d_lg)}, ignore_index=True)\n",
    "        summary_df_4 = summary_df_4.append({'Model': 'Linear Support Vector Machine (Word2Vec + BT + Dim Red)', 'MAE': mean_absolute_error(labels_test_np, y_pred_2d_svm), 'MZOE': mean_zero_one_error(labels_test_np, y_pred_2d_svm), 'MAE_macro': macroaveraged_mean_absolute_error(labels_test_np, y_pred_2d_svm), 'GED': global_ED(labels_test_np, y_pred_2d_svm), 'RS': restrained_subscale(labels_test_np, y_pred_2d_svm), 'ECS': eating_concern_subscale(labels_test_np, y_pred_2d_svm), 'SCS': shape_concern_subscale(labels_test_np, y_pred_2d_svm), 'WCS': weight_concern_subscale(labels_test_np, y_pred_2d_svm)}, ignore_index=True)\n",
    "        summary_df_4 = summary_df_4.append({'Model': 'Random Forest (Word2Vec + BT + Dim Red)', 'MAE': mean_absolute_error(labels_test_np, y_pred_2d_rf), 'MZOE': mean_zero_one_error(labels_test_np, y_pred_2d_rf), 'MAE_macro': macroaveraged_mean_absolute_error(labels_test_np, y_pred_2d_rf), 'GED': global_ED(labels_test_np, y_pred_2d_rf), 'RS': restrained_subscale(labels_test_np, y_pred_2d_rf), 'ECS': eating_concern_subscale(labels_test_np, y_pred_2d_rf), 'SCS': shape_concern_subscale(labels_test_np, y_pred_2d_rf), 'WCS': weight_concern_subscale(labels_test_np, y_pred_2d_rf)}, ignore_index=True)\n",
    "        summary_df_4 = summary_df_4.append({'Model': 'Gradient Boosting (Word2Vec + BT + Dim Red)', 'MAE': mean_absolute_error(labels_test_np, y_pred_2d_gb), 'MZOE': mean_zero_one_error(labels_test_np, y_pred_2d_gb), 'MAE_macro': macroaveraged_mean_absolute_error(labels_test_np, y_pred_2d_gb), 'GED': global_ED(labels_test_np, y_pred_2d_gb), 'RS': restrained_subscale(labels_test_np, y_pred_2d_gb), 'ECS': eating_concern_subscale(labels_test_np, y_pred_2d_gb), 'SCS': shape_concern_subscale(labels_test_np, y_pred_2d_gb), 'WCS': weight_concern_subscale(labels_test_np, y_pred_2d_gb)}, ignore_index=True)\n",
    "\n",
    "        summary_df_4.head()\n",
    "\n",
    "        summary_df_4.to_csv(\"summary_5.csv\")\n",
    "\n",
    "        return summary_df_4"
   ]
  },
  {
   "cell_type": "code",
   "execution_count": 264,
   "metadata": {},
   "outputs": [
    {
     "name": "stdout",
     "output_type": "stream",
     "text": [
      "LogisticRegression Results:\n",
      "\n",
      "Mean Zero-One Error:  0.702922077922078\n",
      "Mean Absolute Error:  2.125\n",
      "Macroaveraged Mean Absolute Error:  1.63829336017843\n",
      "Restrained Subscale:  2.145094070531307\n",
      "Eating Concern Subscale:  2.641968962724581\n",
      "Shape Concern Subscale:  1.5666017590404306\n",
      "Weight Concern Subscale:  1.7171404801504824\n",
      "Global ED:  1.58180837826069\n"
     ]
    },
    {
     "name": "stderr",
     "output_type": "stream",
     "text": [
      "c:\\Users\\91900\\AppData\\Local\\Programs\\Python\\Python310\\lib\\site-packages\\sklearn\\svm\\_classes.py:32: FutureWarning: The default value of `dual` will change from `True` to `'auto'` in 1.5. Set the value of `dual` explicitly to suppress the warning.\n",
      "  warnings.warn(\n"
     ]
    },
    {
     "name": "stdout",
     "output_type": "stream",
     "text": [
      "\n",
      "Linear Support Vector Machine Results:\n",
      "\n",
      "Mean Zero-One Error:  0.681818181818182\n",
      "Mean Absolute Error:  2.0259740259740258\n",
      "Macroaveraged Mean Absolute Error:  1.6677702246881896\n",
      "Restrained Subscale:  2.322867685795789\n",
      "Eating Concern Subscale:  2.3531134390723403\n",
      "Shape Concern Subscale:  1.4297149441159842\n",
      "Weight Concern Subscale:  1.5151614718287572\n",
      "Global ED:  1.5454674331908684\n",
      "\n",
      "Random Forest Results:\n",
      "\n",
      "Mean Zero-One Error:  0.7597402597402599\n",
      "Mean Absolute Error:  1.9431818181818181\n",
      "Macroaveraged Mean Absolute Error:  1.5804449474025197\n",
      "Restrained Subscale:  2.424576546238833\n",
      "Eating Concern Subscale:  2.0455526671991886\n",
      "Shape Concern Subscale:  1.6717185340669216\n",
      "Weight Concern Subscale:  1.7784423361068369\n",
      "Global ED:  1.7563087814260583\n",
      "\n",
      "Gradient Boosting Results:\n",
      "\n",
      "Mean Zero-One Error:  0.7564935064935064\n",
      "Mean Absolute Error:  1.8750000000000002\n",
      "Macroaveraged Mean Absolute Error:  1.5023875299721166\n",
      "Restrained Subscale:  2.4316367209879735\n",
      "Eating Concern Subscale:  1.6\n",
      "Shape Concern Subscale:  1.5322063340164078\n",
      "Weight Concern Subscale:  1.4025487004531632\n",
      "Global ED:  1.4918187418323121\n"
     ]
    },
    {
     "name": "stderr",
     "output_type": "stream",
     "text": [
      "C:\\Users\\91900\\AppData\\Local\\Temp\\ipykernel_40668\\1526593862.py:40: FutureWarning: The frame.append method is deprecated and will be removed from pandas in a future version. Use pandas.concat instead.\n",
      "  summary_df_4 = summary_df_4.append({'Model': 'Logistic Regression (Word2Vec + BT + Dim Red)', 'MAE': mean_absolute_error(labels_test_np, y_pred_2d_lg), 'MZOE': mean_zero_one_error(labels_test_np, y_pred_2d_lg), 'MAE_macro': macroaveraged_mean_absolute_error(labels_test_np, y_pred_2d_lg), 'GED': global_ED(labels_test_np, y_pred_2d_lg), 'RS': restrained_subscale(labels_test_np, y_pred_2d_lg), 'ECS': eating_concern_subscale(labels_test_np, y_pred_2d_lg), 'SCS': shape_concern_subscale(labels_test_np, y_pred_2d_lg), 'WCS': weight_concern_subscale(labels_test_np, y_pred_2d_lg)}, ignore_index=True)\n",
      "C:\\Users\\91900\\AppData\\Local\\Temp\\ipykernel_40668\\1526593862.py:41: FutureWarning: The frame.append method is deprecated and will be removed from pandas in a future version. Use pandas.concat instead.\n",
      "  summary_df_4 = summary_df_4.append({'Model': 'Linear Support Vector Machine (Word2Vec + BT + Dim Red)', 'MAE': mean_absolute_error(labels_test_np, y_pred_2d_svm), 'MZOE': mean_zero_one_error(labels_test_np, y_pred_2d_svm), 'MAE_macro': macroaveraged_mean_absolute_error(labels_test_np, y_pred_2d_svm), 'GED': global_ED(labels_test_np, y_pred_2d_svm), 'RS': restrained_subscale(labels_test_np, y_pred_2d_svm), 'ECS': eating_concern_subscale(labels_test_np, y_pred_2d_svm), 'SCS': shape_concern_subscale(labels_test_np, y_pred_2d_svm), 'WCS': weight_concern_subscale(labels_test_np, y_pred_2d_svm)}, ignore_index=True)\n",
      "C:\\Users\\91900\\AppData\\Local\\Temp\\ipykernel_40668\\1526593862.py:42: FutureWarning: The frame.append method is deprecated and will be removed from pandas in a future version. Use pandas.concat instead.\n",
      "  summary_df_4 = summary_df_4.append({'Model': 'Random Forest (Word2Vec + BT + Dim Red)', 'MAE': mean_absolute_error(labels_test_np, y_pred_2d_rf), 'MZOE': mean_zero_one_error(labels_test_np, y_pred_2d_rf), 'MAE_macro': macroaveraged_mean_absolute_error(labels_test_np, y_pred_2d_rf), 'GED': global_ED(labels_test_np, y_pred_2d_rf), 'RS': restrained_subscale(labels_test_np, y_pred_2d_rf), 'ECS': eating_concern_subscale(labels_test_np, y_pred_2d_rf), 'SCS': shape_concern_subscale(labels_test_np, y_pred_2d_rf), 'WCS': weight_concern_subscale(labels_test_np, y_pred_2d_rf)}, ignore_index=True)\n",
      "C:\\Users\\91900\\AppData\\Local\\Temp\\ipykernel_40668\\1526593862.py:43: FutureWarning: The frame.append method is deprecated and will be removed from pandas in a future version. Use pandas.concat instead.\n",
      "  summary_df_4 = summary_df_4.append({'Model': 'Gradient Boosting (Word2Vec + BT + Dim Red)', 'MAE': mean_absolute_error(labels_test_np, y_pred_2d_gb), 'MZOE': mean_zero_one_error(labels_test_np, y_pred_2d_gb), 'MAE_macro': macroaveraged_mean_absolute_error(labels_test_np, y_pred_2d_gb), 'GED': global_ED(labels_test_np, y_pred_2d_gb), 'RS': restrained_subscale(labels_test_np, y_pred_2d_gb), 'ECS': eating_concern_subscale(labels_test_np, y_pred_2d_gb), 'SCS': shape_concern_subscale(labels_test_np, y_pred_2d_gb), 'WCS': weight_concern_subscale(labels_test_np, y_pred_2d_gb)}, ignore_index=True)\n"
     ]
    }
   ],
   "source": [
    "summary_df_5 = dim_red_backtrans(X_train, X_test, y_train, labels_test_np)"
   ]
  },
  {
   "cell_type": "code",
   "execution_count": 265,
   "metadata": {},
   "outputs": [
    {
     "data": {
      "text/html": [
       "<div>\n",
       "<style scoped>\n",
       "    .dataframe tbody tr th:only-of-type {\n",
       "        vertical-align: middle;\n",
       "    }\n",
       "\n",
       "    .dataframe tbody tr th {\n",
       "        vertical-align: top;\n",
       "    }\n",
       "\n",
       "    .dataframe thead th {\n",
       "        text-align: right;\n",
       "    }\n",
       "</style>\n",
       "<table border=\"1\" class=\"dataframe\">\n",
       "  <thead>\n",
       "    <tr style=\"text-align: right;\">\n",
       "      <th></th>\n",
       "      <th>Model</th>\n",
       "      <th>MAE</th>\n",
       "      <th>MZOE</th>\n",
       "      <th>MAE_macro</th>\n",
       "      <th>GED</th>\n",
       "      <th>RS</th>\n",
       "      <th>ECS</th>\n",
       "      <th>SCS</th>\n",
       "      <th>WCS</th>\n",
       "    </tr>\n",
       "  </thead>\n",
       "  <tbody>\n",
       "    <tr>\n",
       "      <th>0</th>\n",
       "      <td>Logistic Regression (Word2Vec + BT + Dim Red)</td>\n",
       "      <td>2.125000</td>\n",
       "      <td>0.702922</td>\n",
       "      <td>1.638293</td>\n",
       "      <td>1.581808</td>\n",
       "      <td>2.145094</td>\n",
       "      <td>2.641969</td>\n",
       "      <td>1.566602</td>\n",
       "      <td>1.717140</td>\n",
       "    </tr>\n",
       "    <tr>\n",
       "      <th>1</th>\n",
       "      <td>Linear Support Vector Machine (Word2Vec + BT +...</td>\n",
       "      <td>2.025974</td>\n",
       "      <td>0.681818</td>\n",
       "      <td>1.667770</td>\n",
       "      <td>1.545467</td>\n",
       "      <td>2.322868</td>\n",
       "      <td>2.353113</td>\n",
       "      <td>1.429715</td>\n",
       "      <td>1.515161</td>\n",
       "    </tr>\n",
       "    <tr>\n",
       "      <th>2</th>\n",
       "      <td>Random Forest (Word2Vec + BT + Dim Red)</td>\n",
       "      <td>1.943182</td>\n",
       "      <td>0.759740</td>\n",
       "      <td>1.580445</td>\n",
       "      <td>1.756309</td>\n",
       "      <td>2.424577</td>\n",
       "      <td>2.045553</td>\n",
       "      <td>1.671719</td>\n",
       "      <td>1.778442</td>\n",
       "    </tr>\n",
       "    <tr>\n",
       "      <th>3</th>\n",
       "      <td>Gradient Boosting (Word2Vec + BT + Dim Red)</td>\n",
       "      <td>1.875000</td>\n",
       "      <td>0.756494</td>\n",
       "      <td>1.502388</td>\n",
       "      <td>1.491819</td>\n",
       "      <td>2.431637</td>\n",
       "      <td>1.600000</td>\n",
       "      <td>1.532206</td>\n",
       "      <td>1.402549</td>\n",
       "    </tr>\n",
       "  </tbody>\n",
       "</table>\n",
       "</div>"
      ],
      "text/plain": [
       "                                               Model       MAE      MZOE  \\\n",
       "0      Logistic Regression (Word2Vec + BT + Dim Red)  2.125000  0.702922   \n",
       "1  Linear Support Vector Machine (Word2Vec + BT +...  2.025974  0.681818   \n",
       "2            Random Forest (Word2Vec + BT + Dim Red)  1.943182  0.759740   \n",
       "3        Gradient Boosting (Word2Vec + BT + Dim Red)  1.875000  0.756494   \n",
       "\n",
       "   MAE_macro       GED        RS       ECS       SCS       WCS  \n",
       "0   1.638293  1.581808  2.145094  2.641969  1.566602  1.717140  \n",
       "1   1.667770  1.545467  2.322868  2.353113  1.429715  1.515161  \n",
       "2   1.580445  1.756309  2.424577  2.045553  1.671719  1.778442  \n",
       "3   1.502388  1.491819  2.431637  1.600000  1.532206  1.402549  "
      ]
     },
     "execution_count": 265,
     "metadata": {},
     "output_type": "execute_result"
    }
   ],
   "source": [
    "summary_df_5.head()"
   ]
  },
  {
   "cell_type": "code",
   "execution_count": 268,
   "metadata": {},
   "outputs": [],
   "source": [
    "questions_df_test.to_csv(\"test_df_with_embeddings.csv\", index = False)"
   ]
  },
  {
   "cell_type": "code",
   "execution_count": 269,
   "metadata": {},
   "outputs": [],
   "source": [
    "questions_df_train_with_backtranslation.to_csv(\"train_df_with_embeddings.csv\", index = False)"
   ]
  },
  {
   "cell_type": "code",
   "execution_count": null,
   "metadata": {},
   "outputs": [],
   "source": []
  }
 ],
 "metadata": {
  "kernelspec": {
   "display_name": "Python 3",
   "language": "python",
   "name": "python3"
  },
  "language_info": {
   "codemirror_mode": {
    "name": "ipython",
    "version": 3
   },
   "file_extension": ".py",
   "mimetype": "text/x-python",
   "name": "python",
   "nbconvert_exporter": "python",
   "pygments_lexer": "ipython3",
   "version": "3.10.4"
  }
 },
 "nbformat": 4,
 "nbformat_minor": 2
}
